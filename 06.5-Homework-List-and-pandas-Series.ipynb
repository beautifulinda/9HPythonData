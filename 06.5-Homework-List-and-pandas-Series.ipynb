{
 "cells": [
  {
   "cell_type": "markdown",
   "metadata": {},
   "source": [
    "# A 9-hour Python tutorial focusing on data processing"
   ]
  },
  {
   "cell_type": "markdown",
   "metadata": {},
   "source": [
    "![Creative Commons License](https://i.creativecommons.org/l/by/4.0/88x31.png)  \n",
    "This work by Jephian Lin is licensed under a [Creative Commons Attribution 4.0 International License](http://creativecommons.org/licenses/by/4.0/)."
   ]
  },
  {
   "cell_type": "markdown",
   "metadata": {},
   "source": [
    "## Homework: List and pandas Series"
   ]
  },
  {
   "cell_type": "code",
   "execution_count": 7,
   "metadata": {},
   "outputs": [],
   "source": [
    "import numpy as np\n",
    "import pandas as pd"
   ]
  },
  {
   "cell_type": "markdown",
   "metadata": {},
   "source": [
    "#### Problem 1\n",
    "When `s` is a string,  \n",
    "`list(s)` will be a list of letters in `s`.\n",
    "\n",
    "Write a function `has(letter, s)`  \n",
    "that takes a length-one string `letter` and a string `s` as the input  \n",
    "and output `True` or `False`,  \n",
    "depending on whether `s` contains `letter`."
   ]
  },
  {
   "cell_type": "code",
   "execution_count": 1,
   "metadata": {},
   "outputs": [
    {
     "name": "stdout",
     "output_type": "stream",
     "text": [
      "['a', 'b', 'c', 'd', 'e', 'f', 'g']\n"
     ]
    }
   ],
   "source": [
    "s = 'abcdefg'\n",
    "print(list(s))\n",
    "\n",
    "### your answer here\n"
   ]
  },
  {
   "cell_type": "markdown",
   "metadata": {},
   "source": [
    "#### Problem 2\n",
    "Write a function `is_prime(k)`  \n",
    "that takes an integer `k` as the input  \n",
    "and outputs `True` or `False` depending on whether `k` is a prime number or not."
   ]
  },
  {
   "cell_type": "code",
   "execution_count": 2,
   "metadata": {},
   "outputs": [],
   "source": [
    "### your answer here\n"
   ]
  },
  {
   "cell_type": "markdown",
   "metadata": {},
   "source": [
    "#### Problem 3\n",
    "Suppose `l` is a list of numbers in `1,...,6`.\n",
    "\n",
    "Write a function `dice_distribution(l)`  \n",
    "that takes `l` as the input  \n",
    "and output the distribution \n",
    "`[a1,...,a6]`,  \n",
    "where `ak` is the number of occurrences of `k` in the list `l`."
   ]
  },
  {
   "cell_type": "code",
   "execution_count": 3,
   "metadata": {},
   "outputs": [],
   "source": [
    "l = [1,3,2,2,3,5,4,6,4,3,2,5,6,1,3,4,2,6,1,5,3,2,4,5,1,2,6,4,3,4,3,4,3,6,6,5,5,6,5,2,1,4]\n",
    "### your answer here\n"
   ]
  },
  {
   "cell_type": "markdown",
   "metadata": {},
   "source": [
    "#### Problem 4\n",
    "Now Jephian has a dice and you can roll it several times  \n",
    "to get a list of numbers in `1,...,6`.\n",
    "\n",
    "Write a function `most_freq(l)`  \n",
    "that takes `l` as the input  \n",
    "and outputs the most frequent element.\n",
    "\n",
    "There are several ways to achieve this.  \n",
    "According to experiments, \n",
    "the methods with speed form fast to slow are the following.\n",
    "1. `np.bincount` + `np.argmax`\n",
    "2. `np.sum(arr = k) for k in range(1,7)`\n",
    "3. primitive `for` loop\n",
    "4. `pd.value_counts` + `pd.idxmax`  \n",
    "\n",
    "You may run your own experiments  \n",
    "by putting `%%timeit` in the first line of the cell."
   ]
  },
  {
   "cell_type": "code",
   "execution_count": 23,
   "metadata": {},
   "outputs": [],
   "source": [
    "### Run this cell first to create the dice\n",
    "\n",
    "import random\n",
    "\n",
    "random.seed(10)  ### You can change a dice by changing the number here\n",
    "my_secret = random.randint(1,6)\n",
    "random.seed(None)\n",
    "\n",
    "def roll_Jephian_dice():\n",
    "    p_space = list(range(1,7)) + [my_secret] * 5\n",
    "    return random.choice(p_space)\n",
    "\n",
    "l = [roll_Jephian_dice() for k in range(60000)]"
   ]
  },
  {
   "cell_type": "code",
   "execution_count": null,
   "metadata": {},
   "outputs": [],
   "source": [
    "### put %%timeit if you want to time it\n",
    "\n",
    "def most_freq(l):\n",
    "    \n",
    "\n",
    "most_freq(l)"
   ]
  },
  {
   "cell_type": "markdown",
   "metadata": {},
   "source": [
    "#### Problem 5\n",
    "Now Jephian wants to play a game with you:  \n",
    "1. Jephian will roll a dice 100 times.\n",
    "2. Each time, you can choose to bet (cost $1) or to hold (cost nothing).\n",
    "3. If your bet is the correct number, you win \\$3.\n",
    "4. Step 1~3 together is called a round.  \n",
    "Each round Jephian will use a different dice.  \n",
    "This process will repeat 60 rounds.  \n",
    "\n",
    "As more as possible, earn some money from Jephian!"
   ]
  },
  {
   "cell_type": "markdown",
   "metadata": {},
   "source": [
    "A few more details:\n",
    "1. The dice has 6 numbers: 1,...,6.\n",
    "2. You have access to a list called `record`,  \n",
    "which records all numbers appeared so far.\n",
    "3. Each round starts with `record = []`.  \n",
    "4. You are going to write a function `player_move()` to represent your strategy.  \n",
    "Return 1,...,6 to bet; return 0 to hold.\n",
    "5. Then run the cell with `play()` to check the result.\n",
    "\n",
    "Run the next three cells to get a feeling first."
   ]
  },
  {
   "cell_type": "code",
   "execution_count": 29,
   "metadata": {},
   "outputs": [],
   "source": [
    "### Run this cell first to setup\n",
    "### For the purpose of writing the homework, you are not allowed to modify the code here.\n",
    "### For your curiosity, of course you can play around the code in this cell.\n",
    "\n",
    "import random\n",
    "\n",
    "record = []\n",
    "\n",
    "def roll_Jephian_dice(biased):\n",
    "    p_space = list(range(1,7)) + [biased] * 2\n",
    "    return random.choice(p_space)\n",
    "\n",
    "def play():\n",
    "    played_list = []\n",
    "    earned_list = []\n",
    "    for _ in range(60):\n",
    "        record.clear()\n",
    "        played = 0\n",
    "        earned = 0\n",
    "        biased = random.randint(1,6)\n",
    "        for __ in range(100):\n",
    "            p = player_move()\n",
    "            if p not in [0,1,2,3,4,5,6]:\n",
    "                raise ValueError('Your function can only output 0,...,6')\n",
    "            J = roll_Jephian_dice(biased)\n",
    "            record.append(J)\n",
    "            if p == 0:\n",
    "                pass\n",
    "            else:\n",
    "                played += 1\n",
    "                earned -= 1\n",
    "                if p == J:\n",
    "                    earned += 3\n",
    "        played_list.append(played)\n",
    "        earned_list.append(earned)\n",
    "    \n",
    "    print('Each round')\n",
    "    print('Average number of games played:',np.average(np.array(played_list)))\n",
    "    print('Average money earned:', np.average(np.array(earned_list)))\n",
    "    print()\n",
    "    print('Total money earned:', np.array(earned_list).sum())"
   ]
  },
  {
   "cell_type": "code",
   "execution_count": 61,
   "metadata": {},
   "outputs": [],
   "source": [
    "### Define your strategy here in player_move()\n",
    "### Remember that you have the access to the record\n",
    "\n",
    "def player_move():\n",
    "    return random_guess() ### random guess is not a good idea\n",
    "\n",
    "### Sample strategies\n",
    "def always_hold():\n",
    "    return 0\n",
    "\n",
    "def random_guess():\n",
    "    return random.randint(1,6)\n"
   ]
  },
  {
   "cell_type": "code",
   "execution_count": 62,
   "metadata": {
    "scrolled": true
   },
   "outputs": [
    {
     "name": "stdout",
     "output_type": "stream",
     "text": [
      "Each round\n",
      "Average number of games played: 100.0\n",
      "Average money earned: -50.85\n",
      "\n",
      "Total money earned: -3051\n"
     ]
    }
   ],
   "source": [
    "play()"
   ]
  },
  {
   "cell_type": "code",
   "execution_count": null,
   "metadata": {},
   "outputs": [],
   "source": []
  }
 ],
 "metadata": {
  "kernelspec": {
   "display_name": "Python 3 (Ubuntu Linux)",
   "language": "python",
   "name": "python3"
  },
  "language_info": {
   "codemirror_mode": {
    "name": "ipython",
    "version": 3
   },
   "file_extension": ".py",
   "mimetype": "text/x-python",
   "name": "python",
   "nbconvert_exporter": "python",
   "pygments_lexer": "ipython3",
   "version": "3.6.7"
  }
 },
 "nbformat": 4,
 "nbformat_minor": 2
}
