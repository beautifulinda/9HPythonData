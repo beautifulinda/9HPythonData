{
 "cells": [
  {
   "cell_type": "markdown",
   "metadata": {},
   "source": [
    "# A 9-hour Python tutorial focusing on data processing"
   ]
  },
  {
   "cell_type": "markdown",
   "metadata": {},
   "source": [
    "![Creative Commons License](https://i.creativecommons.org/l/by/4.0/88x31.png)  \n",
    "This work by Jephian Lin is licensed under a [Creative Commons Attribution 4.0 International License](http://creativecommons.org/licenses/by/4.0/)."
   ]
  },
  {
   "cell_type": "markdown",
   "metadata": {},
   "source": [
    "## 4. Programming == making the machine to do routine work"
   ]
  },
  {
   "cell_type": "markdown",
   "metadata": {},
   "source": [
    "Python is **case-sensative**."
   ]
  },
  {
   "cell_type": "code",
   "execution_count": null,
   "metadata": {},
   "outputs": [],
   "source": [
    "a = 1\n",
    "A"
   ]
  },
  {
   "cell_type": "markdown",
   "metadata": {},
   "source": [
    "Python **cares about line breaks** (unlike HTML)."
   ]
  },
  {
   "cell_type": "code",
   "execution_count": null,
   "metadata": {},
   "outputs": [],
   "source": [
    "a\n",
    "=\n",
    "1"
   ]
  },
  {
   "cell_type": "markdown",
   "metadata": {},
   "source": [
    "But you can still merge several lines, or break a line into segaments."
   ]
  },
  {
   "cell_type": "code",
   "execution_count": null,
   "metadata": {},
   "outputs": [],
   "source": [
    "a = 1; b = 2; ### merge lines by semicolons"
   ]
  },
  {
   "cell_type": "code",
   "execution_count": null,
   "metadata": {},
   "outputs": [],
   "source": [
    "a\\\n",
    "=\\\n",
    "1  ### break a line into segaments by \\"
   ]
  },
  {
   "cell_type": "markdown",
   "metadata": {
    "slideshow": {
     "slide_type": "-"
    }
   },
   "source": [
    "**Always arrange your code so that it is easy to read.**"
   ]
  },
  {
   "cell_type": "markdown",
   "metadata": {},
   "source": [
    "**Comments are important!**（檔不能沒有柱姊 - by 靠北工程師）  \n",
    "Use `#` to comment a line."
   ]
  },
  {
   "cell_type": "code",
   "execution_count": null,
   "metadata": {},
   "outputs": [],
   "source": [
    "for i in range(10): ### for each i from 0,...,9\n",
    "    if i % 2 == 0:\n",
    "        print(i) ### print i if i is an even number"
   ]
  },
  {
   "cell_type": "markdown",
   "metadata": {},
   "source": [
    "Python cares about **indents**.  \n",
    "Use `tab` to insert four spaces.  \n",
    "Highlight a few lines and use `tab` and `shift+tab` to **indent and unindent**."
   ]
  },
  {
   "cell_type": "code",
   "execution_count": null,
   "metadata": {},
   "outputs": [],
   "source": [
    "if \"Z\">\"B\":\n",
    "print(\"sign the contract\")"
   ]
  },
  {
   "cell_type": "code",
   "execution_count": null,
   "metadata": {},
   "outputs": [],
   "source": [
    "if \"Z\" > \"B\":\n",
    "    print(\"sign the contract\")"
   ]
  },
  {
   "cell_type": "markdown",
   "metadata": {},
   "source": [
    "**The Zen of Python**  \n",
    "includes many code-writting principles."
   ]
  },
  {
   "cell_type": "code",
   "execution_count": null,
   "metadata": {},
   "outputs": [],
   "source": [
    "import this"
   ]
  },
  {
   "cell_type": "code",
   "execution_count": null,
   "metadata": {},
   "outputs": [],
   "source": [
    "### Run this cell if nothing happened when \"import this\"\n",
    "\n",
    "import importlib\n",
    "importlib.reload(this)"
   ]
  },
  {
   "cell_type": "markdown",
   "metadata": {},
   "source": [
    "### `if` statement\n",
    "```Python\n",
    "if boolean_test:\n",
    "    do something1 \n",
    "    do something2\n",
    "    do something3 ### appropriate indents tell Python what is inside an if statement\n",
    "```"
   ]
  },
  {
   "cell_type": "code",
   "execution_count": 1,
   "metadata": {},
   "outputs": [
    {
     "name": "stdout",
     "output_type": "stream",
     "text": [
      "Yes, I love Math\n"
     ]
    }
   ],
   "source": [
    "thinking = 'I love Math'\n",
    "if 'Math' in thinking:\n",
    "    print('Yes, I love Math')"
   ]
  },
  {
   "cell_type": "markdown",
   "metadata": {},
   "source": [
    "```Python\n",
    "if boolean_test1:\n",
    "    do something1\n",
    "elif boolean_test2:  ### means \"else if\"\n",
    "    do something2\n",
    "elif boolean_test3:\n",
    "    do something3\n",
    "else: ### if none of the above three cases are True\n",
    "    do something4\n",
    "```"
   ]
  },
  {
   "cell_type": "code",
   "execution_count": 2,
   "metadata": {},
   "outputs": [
    {
     "name": "stdout",
     "output_type": "stream",
     "text": [
      "A\n"
     ]
    }
   ],
   "source": [
    "### This code translates a percentage grade to a letter grade\n",
    "### Try changing the value of score and run again\n",
    "score = 90;\n",
    "if score >= 80 and score <= 100:\n",
    "    print(\"A\")\n",
    "elif score >= 70 and score < 80:\n",
    "    print(\"B\")\n",
    "elif score >= 60 and score < 70:\n",
    "    print(\"C\")\n",
    "elif score >= 0 and score < 60:\n",
    "    print(\"D\")\n",
    "else:\n",
    "    print(\"Input score not valid\")"
   ]
  },
  {
   "cell_type": "markdown",
   "metadata": {},
   "source": [
    "### `for` loop\n",
    "```Python\n",
    "for var_name in iterable: \n",
    "    ### an iterable is usally a list or a generator\n",
    "    ### the variable var_name will go through every element in iterable\n",
    "    do something1\n",
    "    do something2\n",
    "```"
   ]
  },
  {
   "cell_type": "code",
   "execution_count": 3,
   "metadata": {},
   "outputs": [
    {
     "name": "stdout",
     "output_type": "stream",
     "text": [
      "JOHN\n",
      "JIM\n",
      "JACOB\n"
     ]
    }
   ],
   "source": [
    "### Print the UPPER case of the strings in the list\n",
    "\n",
    "for name in ['John','Jim','Jacob']:\n",
    "    print(name.upper())"
   ]
  },
  {
   "cell_type": "markdown",
   "metadata": {},
   "source": [
    "`range(b)` is all the number from `0` to `b-1`  \n",
    "`range(a,b)` is all the number from `a` to `b-1`"
   ]
  },
  {
   "cell_type": "code",
   "execution_count": 4,
   "metadata": {},
   "outputs": [
    {
     "name": "stdout",
     "output_type": "stream",
     "text": [
      "0\n",
      "1\n",
      "2\n",
      "3\n",
      "4\n"
     ]
    }
   ],
   "source": [
    "for i in range(5):\n",
    "    print(i)"
   ]
  },
  {
   "cell_type": "code",
   "execution_count": 5,
   "metadata": {},
   "outputs": [
    {
     "name": "stdout",
     "output_type": "stream",
     "text": [
      "1\n",
      "2\n",
      "3\n",
      "4\n",
      "5\n"
     ]
    }
   ],
   "source": [
    "for i in range(1,6):\n",
    "    print(i)"
   ]
  },
  {
   "cell_type": "markdown",
   "metadata": {},
   "source": [
    "By combining `if` statments and `for` loop,  \n",
    "it becomes more powerful."
   ]
  },
  {
   "cell_type": "code",
   "execution_count": 6,
   "metadata": {},
   "outputs": [
    {
     "name": "stdout",
     "output_type": "stream",
     "text": [
      "11\n",
      "13\n",
      "22\n",
      "26\n",
      "33\n",
      "39\n",
      "44\n",
      "52\n",
      "55\n",
      "65\n",
      "66\n",
      "77\n",
      "78\n",
      "88\n",
      "91\n",
      "99\n"
     ]
    }
   ],
   "source": [
    "### This code prints every integer (from 1,...,100)\n",
    "### that is a multiple of 11 or a multiple of 13\n",
    "\n",
    "for i in range(1,101):\n",
    "    if i % 11 == 0 or i % 13 == 0:\n",
    "        print(i)"
   ]
  },
  {
   "cell_type": "markdown",
   "metadata": {},
   "source": [
    "### `while` loop\n",
    "```Python\n",
    "while boolean_test:\n",
    "    do something\n",
    "    do something to modify boolean_test \n",
    "### the program will keep running until boolean_test == False\n",
    "```"
   ]
  },
  {
   "cell_type": "code",
   "execution_count": 7,
   "metadata": {},
   "outputs": [
    {
     "name": "stdout",
     "output_type": "stream",
     "text": [
      "35\n"
     ]
    }
   ],
   "source": [
    "### This code prints the smallest positive number \n",
    "### that is a multiple of 5 and a multiple of 7.\n",
    "### That is, the least common multiple of 5 and 7.\n",
    "\n",
    "i = 1\n",
    "keep_doing = True\n",
    "while keep_doing:\n",
    "    if i % 5 == 0 and i % 7 == 0:\n",
    "        print(i)\n",
    "        keep_doing = False ### otherwise the progrom won't stop...\n",
    "    else:\n",
    "        i = i+1; ### the value of i keeps going up"
   ]
  },
  {
   "cell_type": "markdown",
   "metadata": {},
   "source": [
    "### `def`ine a function  \n",
    "to repeat routine works\n",
    "```Python\n",
    "def function_name(var1, var2, var3):\n",
    "    do something on the variables\n",
    "    return some value\n",
    "```"
   ]
  },
  {
   "cell_type": "code",
   "execution_count": 8,
   "metadata": {},
   "outputs": [],
   "source": [
    "import random\n",
    "\n",
    "def roll_a_fair_dice():\n",
    "    return random.randint(1,6)"
   ]
  },
  {
   "cell_type": "code",
   "execution_count": 9,
   "metadata": {},
   "outputs": [
    {
     "data": {
      "text/plain": [
       "5"
      ]
     },
     "execution_count": 9,
     "metadata": {},
     "output_type": "execute_result"
    }
   ],
   "source": [
    "roll_a_fair_dice()"
   ]
  },
  {
   "cell_type": "code",
   "execution_count": 10,
   "metadata": {},
   "outputs": [
    {
     "name": "stdout",
     "output_type": "stream",
     "text": [
      "104\n"
     ]
    }
   ],
   "source": [
    "counter = 0\n",
    "for i in range(600): ### do 600 times (i is not imporant)\n",
    "    num = roll_a_fair_dice()\n",
    "    if num == 1:\n",
    "        counter = counter + 1\n",
    "print(counter)"
   ]
  },
  {
   "cell_type": "code",
   "execution_count": 11,
   "metadata": {},
   "outputs": [],
   "source": [
    "def count_a_number(k, t):\n",
    "    \"\"\"\n",
    "    Both k and t are integers.\n",
    "    roll_a_fair_dice() t times\n",
    "    and \n",
    "    return how many times the results are k\n",
    "    \"\"\"\n",
    "    counter = 0\n",
    "    for i in range(t): ### do 600 times (i is not imporant)\n",
    "        num = roll_a_fair_dice()\n",
    "        if num == k:\n",
    "            counter = counter + 1\n",
    "    print(counter)"
   ]
  },
  {
   "cell_type": "code",
   "execution_count": 12,
   "metadata": {},
   "outputs": [
    {
     "name": "stdout",
     "output_type": "stream",
     "text": [
      "0\n"
     ]
    }
   ],
   "source": [
    "count_a_number(10,100)"
   ]
  },
  {
   "cell_type": "code",
   "execution_count": 13,
   "metadata": {},
   "outputs": [
    {
     "name": "stdout",
     "output_type": "stream",
     "text": [
      "972\n"
     ]
    }
   ],
   "source": [
    "count_a_number(3,6000)"
   ]
  },
  {
   "cell_type": "markdown",
   "metadata": {},
   "source": [
    "#### Exercise\n",
    "Use `for` loop to compute the sum $\\sum_{k=1}^{10}k^2$."
   ]
  },
  {
   "cell_type": "code",
   "execution_count": 14,
   "metadata": {},
   "outputs": [],
   "source": [
    "### your answer here\n"
   ]
  },
  {
   "cell_type": "markdown",
   "metadata": {},
   "source": [
    "#### Exercise\n",
    "Define a function `power_sum(n,p)` that computes $\\sum_{k=1}^n k^p$."
   ]
  },
  {
   "cell_type": "code",
   "execution_count": 15,
   "metadata": {},
   "outputs": [],
   "source": [
    "### your answer here\n",
    "    "
   ]
  },
  {
   "cell_type": "markdown",
   "metadata": {},
   "source": [
    "#### Exercise\n",
    "Compute the sum of all odd numbers between 1 and 15."
   ]
  },
  {
   "cell_type": "code",
   "execution_count": 16,
   "metadata": {},
   "outputs": [],
   "source": [
    "### your answer here\n"
   ]
  },
  {
   "cell_type": "markdown",
   "metadata": {},
   "source": [
    "#### Exercise\n",
    "Define a function `sum_of_odd_numbers(M)` that calculates the sum of all odd numbers between `1` and `M`."
   ]
  },
  {
   "cell_type": "code",
   "execution_count": 17,
   "metadata": {},
   "outputs": [],
   "source": [
    "### your answer here\n"
   ]
  },
  {
   "cell_type": "markdown",
   "metadata": {},
   "source": [
    "#### Exercise\n",
    "Write the `sign` function by yourself.  \n",
    "That is, write a function `my_sign(k)`  \n",
    "that takes a number `k` as the input  \n",
    "and outputs `1`, `0`, `-1` if `k` is positive, zero, and negative, respectively."
   ]
  },
  {
   "cell_type": "code",
   "execution_count": 18,
   "metadata": {},
   "outputs": [],
   "source": [
    "### your answer here\n"
   ]
  },
  {
   "cell_type": "markdown",
   "metadata": {},
   "source": [
    "#### Exercise\n",
    "Use `while` loop to find the smallest positive integer `k`  \n",
    "that satisfies `k % 5 == 3` and `k % 7 = 4` and `k % 11 = 5`."
   ]
  },
  {
   "cell_type": "code",
   "execution_count": 19,
   "metadata": {},
   "outputs": [],
   "source": [
    "### your answer here\n"
   ]
  },
  {
   "cell_type": "markdown",
   "metadata": {},
   "source": [
    "#### Exercise\n",
    "Now I give you a dice.  \n",
    "Roll the dice 60000 times and see the distribution.  \n",
    "That is, record `a1`,... , `a6` as the number of occurrences of `1`,... ,`6`.  \n",
    "(So `a1 + a2 + a3 + a4 + a5 + a6 == 60000`.)  \n",
    "Is it a fair dice?  \n",
    "Change the number in `random.seed( )` and try again."
   ]
  },
  {
   "cell_type": "code",
   "execution_count": 20,
   "metadata": {},
   "outputs": [],
   "source": [
    "### Run this cell first to create the dice\n",
    "\n",
    "import random\n",
    "\n",
    "random.seed(10)  ### You can change a dice by changing the number here\n",
    "my_secret = random.randint(1,6)\n",
    "random.seed(None)\n",
    "\n",
    "def roll_Jephian_dice():\n",
    "    p_space = list(range(1,7)) + [my_secret] * 5\n",
    "    return random.choice(p_space)\n",
    "\n",
    "def roll_a_fair_dice():\n",
    "    return random.randint(1,6)"
   ]
  },
  {
   "cell_type": "code",
   "execution_count": 21,
   "metadata": {},
   "outputs": [
    {
     "data": {
      "text/plain": [
       "5"
      ]
     },
     "execution_count": 21,
     "metadata": {},
     "output_type": "execute_result"
    }
   ],
   "source": [
    "roll_Jephian_dice()"
   ]
  },
  {
   "cell_type": "code",
   "execution_count": 22,
   "metadata": {},
   "outputs": [],
   "source": [
    "### your answer here\n"
   ]
  },
  {
   "cell_type": "markdown",
   "metadata": {},
   "source": [
    "#### Exercise\n",
    "Write a function that tests if a dice is fair or not.  \n",
    "(Open answer:  You need Statistics to tell if your judgement is reasonable or not.)"
   ]
  },
  {
   "cell_type": "code",
   "execution_count": 24,
   "metadata": {},
   "outputs": [],
   "source": [
    "def fair_test(dice, rolls=60000, tolerance= 5):\n",
    "    \"\"\"\n",
    "    after roll the dice several times\n",
    "    calculate the probabilities for each number\n",
    "    if any of the probability is off by t% from 1/6 \n",
    "    then return False\n",
    "    else return True.\n",
    "    \n",
    "    dice: a function to roll a dice, e.g., roll_Jephian_dice() or roll_a_fair_dice()\n",
    "    rolls: number or rolls\n",
    "    tolerance: t\n",
    "    \"\"\"\n",
    "    ### your answer here\n",
    "        "
   ]
  },
  {
   "cell_type": "markdown",
   "metadata": {},
   "source": [
    "**lambda** provides an easy way to define a function.  \n",
    "For example,\n",
    "```Python\n",
    "lambda k: k**2\n",
    "```\n",
    "is a function sending `k` to `k**2`."
   ]
  },
  {
   "cell_type": "code",
   "execution_count": 25,
   "metadata": {},
   "outputs": [
    {
     "data": {
      "text/plain": [
       "9"
      ]
     },
     "execution_count": 25,
     "metadata": {},
     "output_type": "execute_result"
    }
   ],
   "source": [
    "f = lambda k : k**2\n",
    "f(3)"
   ]
  },
  {
   "cell_type": "markdown",
   "metadata": {},
   "source": [
    "This can be convenient  \n",
    "when sometimes we don't want to give a name to the function."
   ]
  },
  {
   "cell_type": "code",
   "execution_count": 26,
   "metadata": {},
   "outputs": [
    {
     "data": {
      "text/plain": [
       "[1, 2, -3, 5, -7]"
      ]
     },
     "execution_count": 26,
     "metadata": {},
     "output_type": "execute_result"
    }
   ],
   "source": [
    "a = [5,-7,1,-3,2]\n",
    "a.sort(key=lambda k:abs(k)) ### sort by absolute values\n",
    "a"
   ]
  },
  {
   "cell_type": "markdown",
   "metadata": {},
   "source": [
    "We will see more examples using `lambda` later."
   ]
  }
 ],
 "metadata": {
  "kernelspec": {
   "display_name": "Python 3 (Ubuntu Linux)",
   "language": "python",
   "name": "python3"
  },
  "language_info": {
   "codemirror_mode": {
    "name": "ipython",
    "version": 3
   },
   "file_extension": ".py",
   "mimetype": "text/x-python",
   "name": "python",
   "nbconvert_exporter": "python",
   "pygments_lexer": "ipython3",
   "version": "3.6.7"
  }
 },
 "nbformat": 4,
 "nbformat_minor": 2
}
