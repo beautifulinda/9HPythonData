{
 "cells": [
  {
   "cell_type": "markdown",
   "metadata": {},
   "source": [
    "# Python\n",
    "## Week 3:  More pandas and matplotlib"
   ]
  },
  {
   "cell_type": "markdown",
   "metadata": {},
   "source": [
    "<a rel=\"license\" href=\"http://creativecommons.org/licenses/by/4.0/\"><img alt=\"Creative Commons License\" style=\"border-width:0\" src=\"https://i.creativecommons.org/l/by/4.0/88x31.png\" /></a><br />This work by <span xmlns:cc=\"http://creativecommons.org/ns#\" property=\"cc:attributionName\">Jephian Lin</span> is licensed under a <a rel=\"license\" href=\"http://creativecommons.org/licenses/by/4.0/\">Creative Commons Attribution 4.0 International License</a>."
   ]
  },
  {
   "cell_type": "markdown",
   "metadata": {},
   "source": [
    "## 1. pandas:  DataFrame\n",
    "\n",
    "Check the official [pandas tutorial](https://pandas.pydata.org/pandas-docs/stable/tutorials.html) and a simple version [10 Minutes to pandas](https://pandas.pydata.org/pandas-docs/stable/10min.html) for more information."
   ]
  },
  {
   "cell_type": "code",
   "execution_count": null,
   "metadata": {},
   "outputs": [],
   "source": [
    "import numpy as np\n",
    "import pandas as pd"
   ]
  },
  {
   "cell_type": "markdown",
   "metadata": {},
   "source": [
    "There are various ways to create a `DataFrame`.\n",
    "\n",
    "Use a two-dimensional `ndarray`."
   ]
  },
  {
   "cell_type": "code",
   "execution_count": null,
   "metadata": {},
   "outputs": [],
   "source": [
    "mtx = np.arange(15).reshape(3,5)\n",
    "mtx"
   ]
  },
  {
   "cell_type": "code",
   "execution_count": null,
   "metadata": {},
   "outputs": [],
   "source": [
    "df = pd.DataFrame(mtx)\n",
    "df"
   ]
  },
  {
   "cell_type": "markdown",
   "metadata": {},
   "source": [
    "Use a list of `Series`'s.  \n",
    "Each `Series` becomes a row."
   ]
  },
  {
   "cell_type": "code",
   "execution_count": null,
   "metadata": {
    "scrolled": true
   },
   "outputs": [],
   "source": [
    "s = pd.Series(np.arange(5))\n",
    "df = pd.DataFrame([s,s * 100,s > 2])\n",
    "df"
   ]
  },
  {
   "cell_type": "markdown",
   "metadata": {},
   "source": [
    "Use a list of dictionaries.  \n",
    "Each dictionary becomes a row.  \n",
    "The keys of the dictionaries becomes the names of columns."
   ]
  },
  {
   "cell_type": "code",
   "execution_count": null,
   "metadata": {},
   "outputs": [],
   "source": [
    "d1 = {'weight': 50, 'height': 150}\n",
    "d2 = {'weight': 60, 'height': 160}\n",
    "d3 = {'weight': 70, 'height': 170}\n",
    "df = pd.DataFrame([d1,d2,d3])\n",
    "df"
   ]
  },
  {
   "cell_type": "markdown",
   "metadata": {},
   "source": [
    "Read from a `csv` file by `pd.read_csv(filename)`."
   ]
  },
  {
   "cell_type": "code",
   "execution_count": null,
   "metadata": {
    "scrolled": true
   },
   "outputs": [],
   "source": [
    "cat clean_data.csv ### Linux command for checking the content of a file"
   ]
  },
  {
   "cell_type": "code",
   "execution_count": null,
   "metadata": {},
   "outputs": [],
   "source": [
    "df = pd.read_csv('clean_data.csv')\n",
    "df"
   ]
  },
  {
   "cell_type": "markdown",
   "metadata": {},
   "source": [
    "### DataFrame index and columns\n",
    "If `df` is a `DataFrame`,  \n",
    "`df.index` is the indices of the rows, while  \n",
    "`df.columns` is the names of the columns."
   ]
  },
  {
   "cell_type": "code",
   "execution_count": null,
   "metadata": {},
   "outputs": [],
   "source": [
    "df = pd.read_csv('clean_data.csv')\n",
    "df"
   ]
  },
  {
   "cell_type": "code",
   "execution_count": null,
   "metadata": {},
   "outputs": [],
   "source": [
    "df.index"
   ]
  },
  {
   "cell_type": "code",
   "execution_count": null,
   "metadata": {},
   "outputs": [],
   "source": [
    "df.columns"
   ]
  },
  {
   "cell_type": "markdown",
   "metadata": {},
   "source": [
    "You may use `.rename(dict)` to rename the indices or the columns."
   ]
  },
  {
   "cell_type": "code",
   "execution_count": null,
   "metadata": {},
   "outputs": [],
   "source": [
    "df.rename({1:100})"
   ]
  },
  {
   "cell_type": "code",
   "execution_count": null,
   "metadata": {},
   "outputs": [],
   "source": [
    "df.rename({'Final': 'Final Exam'}, axis=1)"
   ]
  },
  {
   "cell_type": "markdown",
   "metadata": {},
   "source": [
    "`df.set_index(column name)` pick a column and set it as the index (row names)."
   ]
  },
  {
   "cell_type": "code",
   "execution_count": null,
   "metadata": {},
   "outputs": [],
   "source": [
    "df.set_index('Name')"
   ]
  },
  {
   "cell_type": "markdown",
   "metadata": {},
   "source": [
    "### DataFrame selection\n",
    "Use `.iloc[row index, column index]` or `.loc[row name, column name]` to **select** an entry.  "
   ]
  },
  {
   "cell_type": "code",
   "execution_count": null,
   "metadata": {},
   "outputs": [],
   "source": [
    "df = pd.read_csv('clean_data.csv')\n",
    "df = df.set_index('Name')\n",
    "df"
   ]
  },
  {
   "cell_type": "code",
   "execution_count": null,
   "metadata": {},
   "outputs": [],
   "source": [
    "print(df.iloc[0,2])\n",
    "print(df.loc['Amy','HW3'])"
   ]
  },
  {
   "cell_type": "markdown",
   "metadata": {},
   "source": [
    "Slicing allows you to select a sub-`DataFrame`."
   ]
  },
  {
   "cell_type": "code",
   "execution_count": null,
   "metadata": {
    "scrolled": true
   },
   "outputs": [],
   "source": [
    "df.loc[:,'HW1':'HW10']"
   ]
  },
  {
   "cell_type": "markdown",
   "metadata": {},
   "source": [
    "By default,  \n",
    "`df.[index name]` selects a column, and  \n",
    "`df.loc[index name]` selects a row."
   ]
  },
  {
   "cell_type": "code",
   "execution_count": null,
   "metadata": {},
   "outputs": [],
   "source": [
    "df['HW7']"
   ]
  },
  {
   "cell_type": "code",
   "execution_count": null,
   "metadata": {},
   "outputs": [],
   "source": [
    "df.loc['Chris']"
   ]
  },
  {
   "cell_type": "markdown",
   "metadata": {},
   "source": [
    "The same methods allow you to  \n",
    "**create a new row or a new column**."
   ]
  },
  {
   "cell_type": "code",
   "execution_count": null,
   "metadata": {},
   "outputs": [],
   "source": [
    "df.sum(axis=1) ### this computes the semester total"
   ]
  },
  {
   "cell_type": "code",
   "execution_count": null,
   "metadata": {},
   "outputs": [],
   "source": [
    "df['total'] = df.sum(axis=1) ### this create a new column called total\n",
    "df"
   ]
  },
  {
   "cell_type": "code",
   "execution_count": null,
   "metadata": {},
   "outputs": [],
   "source": [
    "np.average(df,axis=0) ### this compute the average for each component"
   ]
  },
  {
   "cell_type": "code",
   "execution_count": null,
   "metadata": {},
   "outputs": [],
   "source": [
    "df.loc['average'] = np.average(df,axis=0) ### this create a new row called average\n",
    "df"
   ]
  },
  {
   "cell_type": "markdown",
   "metadata": {},
   "source": [
    "Slicing with boolean array."
   ]
  },
  {
   "cell_type": "code",
   "execution_count": null,
   "metadata": {},
   "outputs": [],
   "source": [
    "df[df <= 13]"
   ]
  },
  {
   "cell_type": "markdown",
   "metadata": {},
   "source": [
    "**String method**  \n",
    "`.str` contains many functions related to strings."
   ]
  },
  {
   "cell_type": "markdown",
   "metadata": {},
   "source": [
    "Make every string upper case."
   ]
  },
  {
   "cell_type": "code",
   "execution_count": null,
   "metadata": {},
   "outputs": [],
   "source": [
    "df.index.str.upper()"
   ]
  },
  {
   "cell_type": "markdown",
   "metadata": {},
   "source": [
    "Find all string that ends with something."
   ]
  },
  {
   "cell_type": "code",
   "execution_count": null,
   "metadata": {},
   "outputs": [],
   "source": [
    "df.index.str.endswith('l')"
   ]
  },
  {
   "cell_type": "markdown",
   "metadata": {},
   "source": [
    "Find all string that starts with something."
   ]
  },
  {
   "cell_type": "code",
   "execution_count": null,
   "metadata": {},
   "outputs": [],
   "source": [
    "df.columns.str.startswith('HW')"
   ]
  },
  {
   "cell_type": "markdown",
   "metadata": {},
   "source": [
    "Slicing with string method"
   ]
  },
  {
   "cell_type": "code",
   "execution_count": null,
   "metadata": {},
   "outputs": [],
   "source": [
    "df.loc[ df.index.str.endswith('l') ]"
   ]
  },
  {
   "cell_type": "code",
   "execution_count": null,
   "metadata": {},
   "outputs": [],
   "source": [
    "df.loc[:, df.columns.str.startswith('HW') ]"
   ]
  },
  {
   "cell_type": "markdown",
   "metadata": {},
   "source": [
    "### Graphs of a DataFrame"
   ]
  },
  {
   "cell_type": "markdown",
   "metadata": {},
   "source": [
    "A **line chart** is good for seeing the changes.  \n",
    "`df.plot()` will plot the line chart for each column in `df`."
   ]
  },
  {
   "cell_type": "code",
   "execution_count": null,
   "metadata": {},
   "outputs": [],
   "source": [
    "stock1 = 5 + 0.3 * np.arange(10) + np.random.randn(10)\n",
    "stock2 = 10 - 0.1 * np.arange(10) + np.random.randn(10)\n",
    "stock3 = 8 + 0.2 * np.arange(10) + 2 * np.random.randn(10)\n",
    "df = pd.DataFrame({'stock1': stock1, 'stock2': stock2, 'stock3': stock3})\n",
    "df"
   ]
  },
  {
   "cell_type": "code",
   "execution_count": null,
   "metadata": {},
   "outputs": [],
   "source": [
    "df.plot()"
   ]
  },
  {
   "cell_type": "markdown",
   "metadata": {},
   "source": [
    "A **bar graph** is good for seeing the relations of different properties of an item.  \n",
    "`df.plot.bar()` will produce a bar graph for each row."
   ]
  },
  {
   "cell_type": "code",
   "execution_count": null,
   "metadata": {},
   "outputs": [],
   "source": [
    "weights = 50 + np.random.randint(-5,5,10)\n",
    "heights = 2 * weights + 50 + np.random.randint(-5,5,10)\n",
    "ages = np.random.randint(30,80,10)\n",
    "df = pd.DataFrame({'weight': weights, 'height': heights, 'age': ages})\n",
    "df"
   ]
  },
  {
   "cell_type": "code",
   "execution_count": null,
   "metadata": {},
   "outputs": [],
   "source": [
    "df.plot.bar()"
   ]
  },
  {
   "cell_type": "markdown",
   "metadata": {},
   "source": [
    "A **scatter graph** is good for seeing the correlation between two properties.  \n",
    "`df.plot.scatter(column name 1, column name 2)` will produce the scatter graph for these two columns."
   ]
  },
  {
   "cell_type": "code",
   "execution_count": null,
   "metadata": {
    "scrolled": false
   },
   "outputs": [],
   "source": [
    "df.plot.scatter('weight','height')"
   ]
  },
  {
   "cell_type": "markdown",
   "metadata": {},
   "source": [
    "A **histogram** is good for seeing the distribution (the frequencies) of some data.  \n",
    "`df.hist()` will draw the histogram for each column of `df`."
   ]
  },
  {
   "cell_type": "code",
   "execution_count": null,
   "metadata": {},
   "outputs": [],
   "source": [
    "df.hist()"
   ]
  },
  {
   "cell_type": "markdown",
   "metadata": {},
   "source": [
    "#### Exercise\n",
    "Create a $3\\times 4$ all-ones `DataFrame`."
   ]
  },
  {
   "cell_type": "code",
   "execution_count": null,
   "metadata": {},
   "outputs": [],
   "source": [
    "### Your answer here\n",
    "df = pd.DataFrame(np.ones(???))\n",
    "df"
   ]
  },
  {
   "cell_type": "markdown",
   "metadata": {},
   "source": [
    "#### Exercise\n",
    "Try the following code to  \n",
    "guess the meaning of the `cumsum()` function  \n",
    "and to refresh yourself about _axis_."
   ]
  },
  {
   "cell_type": "code",
   "execution_count": null,
   "metadata": {},
   "outputs": [],
   "source": [
    "df = pd.DataFrame(np.random.randint(5,size=(3,4)))\n",
    "df"
   ]
  },
  {
   "cell_type": "code",
   "execution_count": null,
   "metadata": {},
   "outputs": [],
   "source": [
    "df.cumsum(axis=0)"
   ]
  },
  {
   "cell_type": "code",
   "execution_count": null,
   "metadata": {},
   "outputs": [],
   "source": [
    "df.cumsum(axis=1)"
   ]
  },
  {
   "cell_type": "markdown",
   "metadata": {},
   "source": [
    "#### Exercise\n",
    "`df` is a $3\\times 4$ `DataFrame`.  \n",
    "Change the names of the rows to `Day 1, ...,Day 3`  \n",
    "and the names of the columns to `Price 1, ..., Price 4`."
   ]
  },
  {
   "cell_type": "code",
   "execution_count": null,
   "metadata": {},
   "outputs": [],
   "source": [
    "df = pd.DataFrame(10 * np.random.randint(10,size=(3,4)))\n",
    "### Your answer here\n",
    "\n",
    "df"
   ]
  },
  {
   "cell_type": "markdown",
   "metadata": {},
   "source": [
    "#### Exercise\n",
    "Using the renamed `df` you obtained previously,  \n",
    "get the entry corresponding to `Price 2` and `Day 2`."
   ]
  },
  {
   "cell_type": "code",
   "execution_count": null,
   "metadata": {},
   "outputs": [],
   "source": [
    "### Your answer here\n"
   ]
  },
  {
   "cell_type": "markdown",
   "metadata": {},
   "source": [
    "#### Exercise\n",
    "Using the renamed `df` you obtained previously,  \n",
    "get the sub-DataFrame of `df` without the first column and the first row."
   ]
  },
  {
   "cell_type": "code",
   "execution_count": null,
   "metadata": {},
   "outputs": [],
   "source": [
    "### Your answer here\n"
   ]
  },
  {
   "cell_type": "markdown",
   "metadata": {},
   "source": [
    "#### Exercise\n",
    "Using the renamed `df` you obtained previously,  \n",
    "get the row of `Day 2` in `df`. "
   ]
  },
  {
   "cell_type": "code",
   "execution_count": null,
   "metadata": {},
   "outputs": [],
   "source": [
    "### Your answer here\n"
   ]
  },
  {
   "cell_type": "markdown",
   "metadata": {},
   "source": [
    "#### Exercise\n",
    "Using the renamed `df` you obtained previously,  \n",
    "get the column of `Price 2` in `df`. "
   ]
  },
  {
   "cell_type": "code",
   "execution_count": null,
   "metadata": {},
   "outputs": [],
   "source": [
    "### Your answer here\n"
   ]
  },
  {
   "cell_type": "markdown",
   "metadata": {},
   "source": [
    "#### Exercise\n",
    "Let `df` be the table from `clean_data.csv`  \n",
    "indexed on the column of `'Name'`.  \n",
    "Create a row called `max`  \n",
    "that contains the maximum of each column."
   ]
  },
  {
   "cell_type": "code",
   "execution_count": null,
   "metadata": {
    "scrolled": true
   },
   "outputs": [],
   "source": [
    "df = pd.read_csv('clean_data.csv').set_index('Name')\n",
    "### Your answer here\n",
    "\n",
    "df"
   ]
  },
  {
   "cell_type": "markdown",
   "metadata": {},
   "source": [
    "#### Exercise\n",
    "Let `df` be the table from `clean_data.csv`  \n",
    "indexed on the column of `'Name'`.  \n",
    "Create a column called `HW total`  \n",
    "that contains the total of all homework scores."
   ]
  },
  {
   "cell_type": "code",
   "execution_count": null,
   "metadata": {},
   "outputs": [],
   "source": [
    "df = pd.read_csv('clean_data.csv').set_index('Name')\n",
    "### Your answer here\n",
    "\n",
    "df"
   ]
  },
  {
   "cell_type": "markdown",
   "metadata": {},
   "source": [
    "#### Exercise\n",
    "Do the previous exercise with the string method  \n",
    "(if you didn't do it that way)."
   ]
  },
  {
   "cell_type": "code",
   "execution_count": null,
   "metadata": {},
   "outputs": [],
   "source": [
    "df = pd.read_csv('clean_data.csv').set_index('Name')\n",
    "### Your answer here\n",
    "\n",
    "df"
   ]
  },
  {
   "cell_type": "markdown",
   "metadata": {},
   "source": [
    "#### Exercise\n",
    "Let `df` be the table from `clean_data.csv`  \n",
    "indexed on the column of `'Name'`.  \n",
    "\n",
    "Apply `cumsum()` on axis 1 to see how student earn scores by time.   \n",
    "Then do `df.T` to get the transpose of `df`.  \n",
    "Then plot this resulting DataFrame.  \n",
    "\n",
    "Do everything in one line.  \n",
    "\n",
    "(The answer has been provided for you,  \n",
    " and you may play around with it.)"
   ]
  },
  {
   "cell_type": "code",
   "execution_count": null,
   "metadata": {},
   "outputs": [],
   "source": [
    "df = pd.read_csv('clean_data.csv').set_index('Name')\n",
    "### Your answer here\n",
    "\n",
    "df.cumsum(axis=1).T.plot()"
   ]
  },
  {
   "cell_type": "markdown",
   "metadata": {},
   "source": [
    "#### Exercise\n",
    "Let `df` be the table from `clean_data.csv`  \n",
    "indexed on the column of `'Name'`.  \n",
    "\n",
    "Select the columns of exams (the two midterms and the final).  \n",
    "Then draw the bar graph for each students.\n",
    "\n",
    "Do everything in one line."
   ]
  },
  {
   "cell_type": "code",
   "execution_count": null,
   "metadata": {},
   "outputs": [],
   "source": [
    "df = pd.read_csv('clean_data.csv').set_index('Name')\n",
    "### Your answer here\n",
    "\n"
   ]
  },
  {
   "cell_type": "markdown",
   "metadata": {},
   "source": [
    "#### Exercise\n",
    "Let `df` be the table from `clean_data.csv`  \n",
    "indexed on the column of `'Name'`.  \n",
    "\n",
    "Draw the scatter graph by the columns of `Midterm1` and `Midterm2`."
   ]
  },
  {
   "cell_type": "code",
   "execution_count": null,
   "metadata": {},
   "outputs": [],
   "source": [
    "df = pd.read_csv('clean_data.csv').set_index('Name')\n",
    "### Your answer here\n",
    "\n"
   ]
  },
  {
   "cell_type": "markdown",
   "metadata": {},
   "source": [
    "## 2. matplotlib basics\n",
    "\n",
    "[matplotlib](https://matplotlib.org/) is a plotting library.  \n",
    "Using `matplotlib`, one may draw any graph from scratch.  \n",
    "Indeed, many programs, including pandas, call matplotlib to produce pictures.  \n",
    "\n",
    "But many statistical figures has routined work to do,  \n",
    "so `matplotlib.pyplot` provides several convenient commands for drawing particular graphs  \n",
    "such as the histogram, the bar graph, and so on.\n",
    "\n",
    "See the official [matplotlib tutorial](https://matplotlib.org/tutorials/index.html) for more information."
   ]
  },
  {
   "cell_type": "code",
   "execution_count": null,
   "metadata": {},
   "outputs": [],
   "source": [
    "import matplotlib.pyplot as plt\n",
    "import numpy as np"
   ]
  },
  {
   "cell_type": "markdown",
   "metadata": {},
   "source": [
    "Most of `matplotlib.pyplot` commands for statistics  \n",
    "takes **numpy data** as the input."
   ]
  },
  {
   "cell_type": "markdown",
   "metadata": {},
   "source": [
    "`plt.plot(x,y)` connects the points in `zip(x,y)` by segments."
   ]
  },
  {
   "cell_type": "code",
   "execution_count": null,
   "metadata": {},
   "outputs": [],
   "source": [
    "x = np.linspace(-3,3,10)\n",
    "y = np.exp(-x**2)\n",
    "plt.plot(x,y)"
   ]
  },
  {
   "cell_type": "markdown",
   "metadata": {},
   "source": [
    "Make it smoother."
   ]
  },
  {
   "cell_type": "code",
   "execution_count": null,
   "metadata": {},
   "outputs": [],
   "source": [
    "x = np.linspace(-3,3,60)\n",
    "y = np.exp(-x**2)\n",
    "plt.plot(x,y)"
   ]
  },
  {
   "cell_type": "markdown",
   "metadata": {},
   "source": [
    "`plt.scatter(x,y)` plots the points in `zip(x,y)`  \n",
    "but no segments in between."
   ]
  },
  {
   "cell_type": "code",
   "execution_count": null,
   "metadata": {},
   "outputs": [],
   "source": [
    "plt.scatter(x,y)"
   ]
  },
  {
   "cell_type": "markdown",
   "metadata": {},
   "source": [
    "`plt.hist(vals)` separates data in `vals` in to `bin` categories"
   ]
  },
  {
   "cell_type": "code",
   "execution_count": null,
   "metadata": {},
   "outputs": [],
   "source": [
    "vals = np.random.randn(1000)\n",
    "plt.hist(vals,bins=50)"
   ]
  },
  {
   "cell_type": "markdown",
   "metadata": {},
   "source": [
    "`plt.bar(x,y)` draws a bar graph that has  \n",
    "`x.size` bars at positions given by `x` and with heights given by `y`."
   ]
  },
  {
   "cell_type": "code",
   "execution_count": null,
   "metadata": {},
   "outputs": [],
   "source": [
    "x = np.arange(5)\n",
    "y = 5 - x\n",
    "plt.bar(x,y)"
   ]
  },
  {
   "cell_type": "markdown",
   "metadata": {},
   "source": [
    "#### Exercise\n",
    "There are quite many parameters that you can adjust in `plt.plot()`.  \n",
    "Run the next cell first and guess what does `'go-'` mean.  \n",
    "Can you make it a blue, dashed line, with a pixel marker?"
   ]
  },
  {
   "cell_type": "code",
   "execution_count": null,
   "metadata": {},
   "outputs": [],
   "source": [
    "x = np.linspace(-3,3,60)\n",
    "y = np.exp(-x**2)\n",
    "plt.plot(x,y,'go-')"
   ]
  },
  {
   "cell_type": "code",
   "execution_count": null,
   "metadata": {},
   "outputs": [],
   "source": [
    "### Your answer here\n",
    "\n",
    "plt.plot?"
   ]
  },
  {
   "cell_type": "markdown",
   "metadata": {},
   "source": [
    "#### Exercise\n",
    "For the same graph above, make the `linewidth` as `5`."
   ]
  },
  {
   "cell_type": "code",
   "execution_count": null,
   "metadata": {},
   "outputs": [],
   "source": [
    "### Your answer here\n",
    "\n",
    "plt.plot?"
   ]
  },
  {
   "cell_type": "markdown",
   "metadata": {},
   "source": [
    "#### Exercise\n",
    "`plt.plot(x1, y1, setting1, x2, y2, setting2, ...)` allows to plot several line graphs together  \n",
    "to compare their differences.  \n",
    "Run the next cell first and then  \n",
    "change `setting1` to make the first line graph with red, dotted line, and triangle_down marker, and  \n",
    "change `setting2` to make the second line graph with green, dash-dot line, and triangel_up marker."
   ]
  },
  {
   "cell_type": "code",
   "execution_count": null,
   "metadata": {},
   "outputs": [],
   "source": [
    "### Your answer here\n",
    "\n",
    "plt.plot(x-1,y,x+1,y)"
   ]
  },
  {
   "cell_type": "markdown",
   "metadata": {},
   "source": [
    "#### Exercise\n",
    "The **legend** tells you the name of each line graph.  \n",
    "You may give a name to the line graph  \n",
    "by setting the `label` in `plt.plot()`.  \n",
    "\n",
    "Since no names are given to the line graphs,  \n",
    "it shows a warning.\n",
    "\n",
    "Label the first line graph as `line1` and  \n",
    "label the second line graph as `line2`."
   ]
  },
  {
   "cell_type": "code",
   "execution_count": null,
   "metadata": {},
   "outputs": [],
   "source": [
    "plt.plot(x-1,y)\n",
    "plt.plot(x+1,y)\n",
    "plt.legend()"
   ]
  },
  {
   "cell_type": "markdown",
   "metadata": {},
   "source": [
    "#### Exercise\n",
    "For scatter graph, you have control to the size of each point.  \n",
    "Assign a list to `s` to plot the scatter graph  \n",
    "so that the points are getting larger from left to right."
   ]
  },
  {
   "cell_type": "code",
   "execution_count": null,
   "metadata": {
    "scrolled": true
   },
   "outputs": [],
   "source": [
    "x = np.linspace(-3,3,60)\n",
    "y = np.exp(-x**2)\n",
    "list_of_sizes = np.arange(60)\n",
    "\n",
    "### Your answer here\n",
    "plt.scatter(x, y, s=???)\n"
   ]
  },
  {
   "cell_type": "markdown",
   "metadata": {},
   "source": [
    "#### Exercise\n",
    "For scatter graph, you have also control to the color of each point.  \n",
    "Assign a list to `c` and assign a colormap to `cmap`  \n",
    "to plot the scatter graph  \n",
    "so that each point has a different color.\n",
    "\n",
    "A **colormap** maps a number to a color.  \n",
    "Possible colormaps are `'viridis'`, `'plasma'`, `'inferno'`, `'Greys'`, `'Reds'` and so on.  \n",
    "See more [here](https://matplotlib.org/gallery/color/colormap_reference.html)."
   ]
  },
  {
   "cell_type": "code",
   "execution_count": null,
   "metadata": {},
   "outputs": [],
   "source": [
    "list_of_colors = np.arange(60)\n",
    "\n",
    "### Your answer here\n",
    "plt.scatter(x, y, c=???, cmap='???')\n"
   ]
  },
  {
   "cell_type": "markdown",
   "metadata": {},
   "source": [
    "#### Exercise\n",
    "Play around the parameters `bins` and `range` in `plt.histogram()`  \n",
    "to see their effects."
   ]
  },
  {
   "cell_type": "code",
   "execution_count": null,
   "metadata": {},
   "outputs": [],
   "source": [
    "vals = np.random.randn(1000)\n",
    "\n",
    "plt.hist(vals, bins=50, range=(0,3))"
   ]
  },
  {
   "cell_type": "markdown",
   "metadata": {},
   "source": [
    "#### Exercise\n",
    "The difference between a histogram (直方圖) and a bar graph (長條圖)  \n",
    "is that histograms are for continuous categories while  \n",
    "bar graphs are for discrete categories.\n",
    "\n",
    "Change the `width` of the second bar graph so that you can see both bar graphs."
   ]
  },
  {
   "cell_type": "code",
   "execution_count": null,
   "metadata": {},
   "outputs": [],
   "source": [
    "numbers = np.arange(1,7)\n",
    "h1 = numbers\n",
    "h2 = 6 - numbers\n",
    "\n",
    "plt.bar(numbers, h1)\n",
    "plt.bar(numbers, h2)"
   ]
  },
  {
   "cell_type": "markdown",
   "metadata": {},
   "source": [
    "#### Exercise\n",
    "`sklearn` is a Python package that contains many tools for machine learning.  \n",
    "It also contains some datasets for you to practice.  \n",
    "\n",
    "The `iris` dataset is a famous one.  \n",
    "Use `iris.keys()` to see what is contained in `iris`.  \n",
    "Then read its description in `iris['DESCR']`."
   ]
  },
  {
   "cell_type": "code",
   "execution_count": null,
   "metadata": {},
   "outputs": [],
   "source": [
    "import sklearn.datasets\n",
    "iris = sklearn.datasets.load_iris()\n",
    "type(iris)"
   ]
  },
  {
   "cell_type": "code",
   "execution_count": null,
   "metadata": {},
   "outputs": [],
   "source": [
    "iris.keys()"
   ]
  },
  {
   "cell_type": "code",
   "execution_count": null,
   "metadata": {},
   "outputs": [],
   "source": [
    "print(iris['DESCR'])"
   ]
  },
  {
   "cell_type": "markdown",
   "metadata": {},
   "source": [
    "#### Exercise\n",
    "Now you know `iris['data']` contains four features.  \n",
    "Let `iris_data = iris['data']`.  \n",
    "\n",
    "Make a scatter plot using `iris_data[:,0]` and `iris_data[:,1]`.  \n",
    "\n",
    "These are the $0$-th and the $1$-st columns of `iris_data`,  \n",
    "and they record the _sepal length_ and the _sepal width_ of each sample."
   ]
  },
  {
   "cell_type": "code",
   "execution_count": null,
   "metadata": {},
   "outputs": [],
   "source": [
    "iris_data = iris['data']\n",
    "\n",
    "### Your answer here\n"
   ]
  },
  {
   "cell_type": "markdown",
   "metadata": {},
   "source": [
    "#### Exercise\n",
    "You also noticed that there are three species of iris  \n",
    "and `iris['target']` is an array of `0`, `1`, and `2`  \n",
    "according to its species.\n",
    "\n",
    "Make the same scatter plot as previously  \n",
    "but set `c` as `iris['target']` and set `cmap` as `'viridis'`.\n",
    "\n",
    "If now I give you the sepal width and the sepal length of an iris flower,  \n",
    "can you tell me which species it is?"
   ]
  },
  {
   "cell_type": "code",
   "execution_count": null,
   "metadata": {},
   "outputs": [],
   "source": [
    "iris_data = iris['data']\n",
    "\n",
    "### Your answer here\n",
    "\n"
   ]
  },
  {
   "cell_type": "markdown",
   "metadata": {},
   "source": [
    "## 3. more matplotlib\n",
    "As mentioned, `matplotlib` allows you to draw almost everything.  \n",
    "Knowing more fundamental ideas in `matplotlib`  \n",
    "provides you more freedom to toggle with every details and create various pictures."
   ]
  },
  {
   "cell_type": "code",
   "execution_count": null,
   "metadata": {},
   "outputs": [],
   "source": [
    "import matplotlib.pyplot as plt\n",
    "import numpy as np"
   ]
  },
  {
   "cell_type": "markdown",
   "metadata": {},
   "source": [
    "Use `plt.figure()` to create a **figure** object.  \n",
    "A figure object is the whole canvas for a picture.\n",
    "\n",
    "To draw something, you have to `add_axes()` first."
   ]
  },
  {
   "cell_type": "code",
   "execution_count": null,
   "metadata": {},
   "outputs": [],
   "source": [
    "fig = plt.figure()\n",
    "fig.add_axes([0,0,1,1])"
   ]
  },
  {
   "cell_type": "markdown",
   "metadata": {},
   "source": [
    "`add_axes()` takes a list `[left, bottom, width, height]` as its input.  \n",
    "Each parameters in the list is a **proportion** to the figure width and height.\n",
    "\n",
    "Each coordinate system (x-axis and y-axis, usually) is called an **Axes** object."
   ]
  },
  {
   "cell_type": "code",
   "execution_count": null,
   "metadata": {},
   "outputs": [],
   "source": [
    "fig = plt.figure()\n",
    "fig.add_axes([0,0,1,1])\n",
    "\n",
    "ax1 = fig.add_axes([0.1,0.2,0.8,0.2]) ### If you store the Axes object\n",
    "ax1.set_title('ax1') ### then you can do something to it.\n",
    "\n",
    "ax2 = fig.add_axes([0.2,0.6,0.2,0.2])\n",
    "ax2.set_title('ax2')\n",
    "\n",
    "ax3 = fig.add_axes([0.6,0.6,0.2,0.2])\n",
    "ax3.set_title('ax3')"
   ]
  },
  {
   "cell_type": "markdown",
   "metadata": {},
   "source": [
    "Each pictures generated previously are drawn on an **Axes** object.  \n",
    "(For 2D graphs, each `Axes` object has its two **Axis** objects.)\n",
    "\n",
    "When `ax` is an Axes object,  \n",
    "you may use `ax.plot()` or so to draw on the Axes object.  \n",
    "\n",
    "`plt.plot()` will plot on the last Axes object."
   ]
  },
  {
   "cell_type": "code",
   "execution_count": null,
   "metadata": {},
   "outputs": [],
   "source": [
    "fig = plt.figure()\n",
    "fig.add_axes([0,0,1,1])\n",
    "\n",
    "ax1 = fig.add_axes([0.1,0.2,0.8,0.2]) ### If you store the Axes object\n",
    "ax1.set_title('ax1') ### then you can do something to it.\n",
    "x = np.linspace(-5,5,60)\n",
    "y = np.cos(x)\n",
    "ax1.plot(x,y) \n",
    "\n",
    "ax2 = fig.add_axes([0.2,0.6,0.2,0.2])\n",
    "ax2.set_title('ax2')\n",
    "t = np.linspace(0,2*np.pi,20)\n",
    "x = np.cos(t)\n",
    "y = np.sin(t)\n",
    "ax2.scatter(x,y)\n",
    "\n",
    "ax3 = fig.add_axes([0.6,0.6,0.2,0.2])\n",
    "ax3.set_title('ax3')\n",
    "ax3.scatter(x,y)\n",
    "\n",
    "plt.scatter([0],[0],s=[300]) ### s is the size"
   ]
  },
  {
   "cell_type": "markdown",
   "metadata": {},
   "source": [
    "### `subplots()` and `subplot()`"
   ]
  },
  {
   "cell_type": "markdown",
   "metadata": {},
   "source": [
    "`fig.subplots(m,n)` creates `m * n` Axes objects  \n",
    "and return them as a list `axs`  \n",
    "where `axs[i,j]` is the Axes on the `i`-th row and the `j`-th column."
   ]
  },
  {
   "cell_type": "code",
   "execution_count": null,
   "metadata": {},
   "outputs": [],
   "source": [
    "fig = plt.figure()\n",
    "axs = fig.subplots(3,3)\n",
    "### the previous two lines can be combined as \n",
    "### fig, axs = plt.subplots(3,3)\n",
    "\n",
    "x = [None, None, None]\n",
    "x[0] = np.array([1,2,3])\n",
    "x[1] = np.array([2,2,2])\n",
    "x[2] = np.array([3,2,1])\n",
    "\n",
    "for i in range(3):\n",
    "    for j in range(3):\n",
    "        axs[i,j].scatter(x[i],x[2-j])"
   ]
  },
  {
   "cell_type": "markdown",
   "metadata": {},
   "source": [
    "Alternatively, you may create **only** one subplot  \n",
    "by `plt.subplot(m,n,k)`.  \n",
    "This function will create an Axes object at the `k`-th position  \n",
    "among the `m * n` grid.\n",
    "\n",
    "The index of the positions is from `1` to `m * n`,  \n",
    "increasing by the row-major order."
   ]
  },
  {
   "cell_type": "code",
   "execution_count": null,
   "metadata": {},
   "outputs": [],
   "source": [
    "fig = plt.figure()\n",
    "ax1 = plt.subplot(3,4,4)\n",
    "ax1.set_title('4-th position in the 3 * 4 grid')\n",
    "\n",
    "ax2 = plt.subplot(2,2,3)\n",
    "ax2.set_title('3-rd position in the 2 * 2 grid')\n",
    "\n",
    "main_ax = fig.add_axes([0,0,1,1])\n",
    "main_ax.set_zorder(-1) ### zorder put the main_ax at the back"
   ]
  },
  {
   "cell_type": "markdown",
   "metadata": {},
   "source": [
    "### Selecting Axes objects"
   ]
  },
  {
   "cell_type": "markdown",
   "metadata": {},
   "source": [
    "`fig.axes` returns a list of all Axes objects on `fig`.  \n",
    "You may use it to select the desired Axes object."
   ]
  },
  {
   "cell_type": "code",
   "execution_count": null,
   "metadata": {},
   "outputs": [],
   "source": [
    "fig = plt.figure()\n",
    "plt.subplot(2,2,2)\n",
    "plt.subplot(2,2,3)\n",
    "axs = fig.axes\n",
    "print(axs)\n",
    "axs[0].scatter([1,2],[1,2])"
   ]
  },
  {
   "cell_type": "markdown",
   "metadata": {},
   "source": [
    "`matplotlib` keeps track of the **current Figure** and the **current Axes**.  \n",
    "Commands like `plt.plot()` without specifying the Figure and the Axes  \n",
    "will be drawn on the current Figure and the current Axes.  \n",
    "\n",
    "Use `plt.gcf()` and `plt.gca()` to get them."
   ]
  },
  {
   "cell_type": "code",
   "execution_count": null,
   "metadata": {},
   "outputs": [],
   "source": [
    "plt.figure()\n",
    "fig = plt.gcf()\n",
    "fig.patch.set_color('lightblue') \n",
    "\n",
    "fig.add_axes([0.2,0.2,0.6,0.6])\n",
    "ax = plt.gca()\n",
    "ax.bar([3,2,1],[1,2,3])"
   ]
  },
  {
   "cell_type": "markdown",
   "metadata": {},
   "source": [
    "### Setting the Axes object"
   ]
  },
  {
   "cell_type": "code",
   "execution_count": null,
   "metadata": {},
   "outputs": [],
   "source": [
    "x = np.linspace(-3,3,60)\n",
    "y = np.exp(-x**2)\n",
    "plt.plot(x,y)"
   ]
  },
  {
   "cell_type": "code",
   "execution_count": null,
   "metadata": {},
   "outputs": [],
   "source": [
    "x = np.linspace(-3,3,60)\n",
    "y = np.exp(-x**2)\n",
    "plt.plot(x,y)\n",
    "\n",
    "ax = plt.gca()\n",
    "ax.set_title('A bell-shaped distribution')\n",
    "ax.set_xlabel('X value')\n",
    "ax.set_ylabel('Frequency')\n",
    "ax.set_xlim(-10,10)\n",
    "ax.set_xticks([-3,3])\n",
    "ax.set_yticks([0,0.4,0.8])\n",
    "ax.set_yticklabels([0,4,8])"
   ]
  },
  {
   "cell_type": "markdown",
   "metadata": {},
   "source": [
    "#### Exercise\n",
    "Create a figure and create at least three Axes objects on it.  \n",
    "Give a title to each of the Axes objects."
   ]
  },
  {
   "cell_type": "code",
   "execution_count": null,
   "metadata": {},
   "outputs": [],
   "source": [
    "### Your answer here \n",
    "fig = plt.figure()\n"
   ]
  },
  {
   "cell_type": "markdown",
   "metadata": {},
   "source": [
    "#### Exercise\n",
    "Copy your code in the previous exercise.  \n",
    "Now make a plot in each of the Axes objects."
   ]
  },
  {
   "cell_type": "code",
   "execution_count": null,
   "metadata": {},
   "outputs": [],
   "source": [
    "### Your answer here\n",
    "\n"
   ]
  },
  {
   "cell_type": "markdown",
   "metadata": {},
   "source": [
    "#### Exercise\n",
    "Create a figure and create at least three Axes objects on it  \n",
    "using the `plt.subplot()` method.\n",
    "\n",
    "What happens if your Axes objects overlap?"
   ]
  },
  {
   "cell_type": "code",
   "execution_count": null,
   "metadata": {},
   "outputs": [],
   "source": [
    "### Your answere here\n",
    "fig = plt.figure()\n",
    "\n"
   ]
  },
  {
   "cell_type": "markdown",
   "metadata": {},
   "source": [
    "#### Exercise\n",
    "Two datasets `x[0]` and `x[1]` are given.  \n",
    "Create a figure with four `subplots` and  \n",
    "for the Axes object at the $i,j$ position  \n",
    "make the scatter plot for `x[i]` and `x[j]`."
   ]
  },
  {
   "cell_type": "code",
   "execution_count": null,
   "metadata": {},
   "outputs": [],
   "source": [
    "x = [0,0]\n",
    "x[0] = np.random.randn(1000)\n",
    "x[1] = np.random.rand(1000)\n",
    "\n",
    "### Your answer here \n",
    "\n"
   ]
  },
  {
   "cell_type": "markdown",
   "metadata": {},
   "source": [
    "#### Exercise\n",
    "Play around the settings on each axis."
   ]
  },
  {
   "cell_type": "code",
   "execution_count": null,
   "metadata": {},
   "outputs": [],
   "source": [
    "x = np.linspace(-3,3,60)\n",
    "y = np.exp(-x**2)\n",
    "plt.plot(x,y)\n",
    "\n",
    "ax = plt.gca()\n",
    "ax.set_title('A bell-shaped distribution')\n",
    "ax.set_xlabel('X value')\n",
    "ax.set_ylabel('Frequency')\n",
    "ax.set_xlim(-10,10)\n",
    "ax.set_xticks([-3,3])\n",
    "ax.set_yticks([0,0.4,0.8])\n",
    "ax.set_yticklabels([0,4,8])"
   ]
  },
  {
   "cell_type": "markdown",
   "metadata": {},
   "source": [
    "## Homework"
   ]
  },
  {
   "cell_type": "markdown",
   "metadata": {},
   "source": [
    "**Before** you do the homework  \n",
    "Click on **Cell > All Output > Clear**  \n",
    "to clear all previous output.  \n",
    "\n",
    "This will decrease the size of file."
   ]
  },
  {
   "cell_type": "markdown",
   "metadata": {},
   "source": [
    "**Remember to import the necessary packages**"
   ]
  },
  {
   "cell_type": "code",
   "execution_count": null,
   "metadata": {},
   "outputs": [],
   "source": [
    "import matplotlib.pyplot as plt\n",
    "import numpy as np\n",
    "import pandas as pd"
   ]
  },
  {
   "cell_type": "markdown",
   "metadata": {},
   "source": [
    "#### Problem 1\n",
    "The file `clean_data.csv` was obtained by cleaning up the file `scores.csv`  \n",
    "and it requires a few steps.  \n",
    "\n",
    "Recall how we input the data from `clean_data.csv`.  \n",
    "\n",
    "If you do exactly the same thing,  \n",
    "then you run into some errors.  \n",
    "\n",
    "Read the first few lines of `scores.csv`  \n",
    "and adjust the `skiprows` parameter in `pd.read_csv()` if necessary."
   ]
  },
  {
   "cell_type": "code",
   "execution_count": null,
   "metadata": {},
   "outputs": [],
   "source": [
    "cat clean_data.csv"
   ]
  },
  {
   "cell_type": "code",
   "execution_count": null,
   "metadata": {},
   "outputs": [],
   "source": [
    "clean_df = pd.read_csv('clean_data.csv')\n",
    "clean_df"
   ]
  },
  {
   "cell_type": "code",
   "execution_count": null,
   "metadata": {},
   "outputs": [],
   "source": [
    "cat scores.csv ### sooooo ugly"
   ]
  },
  {
   "cell_type": "code",
   "execution_count": null,
   "metadata": {},
   "outputs": [],
   "source": [
    "### Your answere here\n",
    "df = pd.read_csv('scores.csv') ### do something to make it work\n",
    "df"
   ]
  },
  {
   "cell_type": "markdown",
   "metadata": {},
   "source": [
    "#### Problem 2\n",
    "Now you have successfully imported the data from `scores.csv`,  \n",
    "but it is still very ugly.\n",
    "\n",
    "Firstly, `set_index` to the column of `'Name'`.  \n",
    "Secondly, select only those columns `startwith` `'grade'`.  \n",
    "(The resulting `DataFrame` should only have 13 columns,  \n",
    "and it is indexed by `'Name'`."
   ]
  },
  {
   "cell_type": "code",
   "execution_count": null,
   "metadata": {
    "scrolled": true
   },
   "outputs": [],
   "source": [
    "### Your answer here\n",
    "\n"
   ]
  },
  {
   "cell_type": "markdown",
   "metadata": {},
   "source": [
    "#### Problem 3\n",
    "Let `small_df` be the resulting `DataFrame` in Problem 2.  \n",
    "Now `rename` every column from `'grade: 2018FMath555/itemname'` to `'itemname'`.\n",
    "\n",
    "For example, `'grade: 2018FMath555/HW1'` should just be `'HW1'`,  \n",
    "`'grade: 2018FMath555/Midterm1'` should just be `'Midterm1'`, and  \n",
    "`'grade: 2018FMath555/Final'` should just be `'Final'`.\n",
    "\n",
    "Now your last `DataFrame` should be the same as imported from `clean_data.csv`."
   ]
  },
  {
   "cell_type": "code",
   "execution_count": null,
   "metadata": {},
   "outputs": [],
   "source": [
    "### Your answer here\n",
    "\n",
    "\n"
   ]
  },
  {
   "cell_type": "markdown",
   "metadata": {},
   "source": [
    "#### Problem 4\n",
    "Now a figure has been plotted for you.  \n",
    "\n",
    "Get the currect Axes object by `plt.gca()`.  \n",
    "Then `set_xlabel` to `'sepal length (cm)'`  \n",
    "and `set_ylabel` to `'sepal width (cm)'`."
   ]
  },
  {
   "cell_type": "code",
   "execution_count": null,
   "metadata": {},
   "outputs": [],
   "source": [
    "import sklearn.datasets\n",
    "iris = sklearn.datasets.load_iris()\n",
    "\n",
    "iris_data = iris['data']\n",
    "plt.scatter(iris_data[:,0], iris_data[:,1], c=iris['target'], cmap='viridis')\n",
    "\n",
    "### Your answer here\n",
    "\n",
    "\n"
   ]
  },
  {
   "cell_type": "markdown",
   "metadata": {},
   "source": [
    "#### Problem 5\n",
    "In `iris['data']`, it records four features of each iris sample.  \n",
    "The four features are in `iris['feature_names']`.  \n",
    "\n",
    "Make a figure with 16 `subplots`.  \n",
    "Then for the $i,j$-the subplot,  \n",
    "make the same scatter plot as in the previous problem  \n",
    "but with the `i`-th column and the `j`-th column.\n",
    "\n",
    "If possible, `set_xlabel` and `set_ylabel` for them in a nice way.\n",
    "(See the example at the end.)"
   ]
  },
  {
   "cell_type": "code",
   "execution_count": null,
   "metadata": {},
   "outputs": [],
   "source": [
    "import sklearn.datasets\n",
    "iris = sklearn.datasets.load_iris()\n",
    "\n",
    "iris['feature_names']"
   ]
  },
  {
   "cell_type": "code",
   "execution_count": null,
   "metadata": {
    "scrolled": false
   },
   "outputs": [],
   "source": [
    "fig, axs = plt.subplots(4,4,figsize=[10,10])\n",
    "\n",
    "### Your answer here\n",
    "\n",
    "\n"
   ]
  },
  {
   "cell_type": "markdown",
   "metadata": {},
   "source": [
    "Here is an example for Problem 5.\n",
    "\n",
    "<img src=\"iris_comparison.png\" width=\"60%\">"
   ]
  },
  {
   "cell_type": "code",
   "execution_count": null,
   "metadata": {},
   "outputs": [],
   "source": []
  }
 ],
 "metadata": {
  "kernelspec": {
   "display_name": "Python 3 (Ubuntu Linux)",
   "language": "python",
   "name": "python3"
  },
  "language_info": {
   "codemirror_mode": {
    "name": "ipython",
    "version": 3
   },
   "file_extension": ".py",
   "mimetype": "text/x-python",
   "name": "python",
   "nbconvert_exporter": "python",
   "pygments_lexer": "ipython3",
   "version": "3.6.7"
  }
 },
 "nbformat": 4,
 "nbformat_minor": 2
}
