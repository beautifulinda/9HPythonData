{
 "cells": [
  {
   "cell_type": "markdown",
   "metadata": {},
   "source": [
    "# A 9-hour Python tutorial focusing on data processing"
   ]
  },
  {
   "cell_type": "markdown",
   "metadata": {},
   "source": [
    "![Creative Commons License](https://i.creativecommons.org/l/by/4.0/88x31.png)  \n",
    "This work by Jephian Lin is licensed under a [Creative Commons Attribution 4.0 International License](http://creativecommons.org/licenses/by/4.0/)."
   ]
  },
  {
   "cell_type": "markdown",
   "metadata": {},
   "source": [
    "## Homework:  NumPy"
   ]
  },
  {
   "cell_type": "markdown",
   "metadata": {},
   "source": [
    "**Remember to import numpy as np**"
   ]
  },
  {
   "cell_type": "code",
   "execution_count": null,
   "metadata": {},
   "outputs": [],
   "source": [
    "import numpy as np"
   ]
  },
  {
   "cell_type": "markdown",
   "metadata": {},
   "source": [
    "#### Problem 1\n",
    "Create an array `a` by `arange(16)`  \n",
    "then `reshape` it to shape `(2,2,2,2)`.\n",
    "\n",
    "Take the maximum of `a` along axis 0.\n",
    "\n",
    "Can you do it in one line?"
   ]
  },
  {
   "cell_type": "code",
   "execution_count": null,
   "metadata": {},
   "outputs": [],
   "source": [
    "### your answer here\n"
   ]
  },
  {
   "cell_type": "markdown",
   "metadata": {},
   "source": [
    "#### Problem 2\n",
    "When you take the sum of a boolean array,  \n",
    "`True` is treated as `1` and `False` is treated as `0`,  \n",
    "so the sum of a boolean array is the number of `True` in the array.\n",
    "\n",
    "Use this fact to find the number of positive entries in `a`."
   ]
  },
  {
   "cell_type": "code",
   "execution_count": null,
   "metadata": {},
   "outputs": [],
   "source": [
    "### The first few lines give you an array a.\n",
    "np.random.seed(10)\n",
    "a = np.random.randn(1000)\n",
    "np.random.seed(None)\n",
    "\n",
    "### your answer here\n",
    "a"
   ]
  },
  {
   "cell_type": "markdown",
   "metadata": {},
   "source": [
    "#### Problem 3\n",
    "Suppose you have a dice and you roll it 10000 times.  \n",
    "The you store the number you get each time in the array `nums`.  \n",
    "\n",
    "Do you think it is a fair dice?  Why?  \n",
    "(You can write your answer as a comment in the code or print it.)\n",
    "\n",
    "If it is not fair, which number occurs much more often than the others?  \n",
    "(The numbers on the dice are 1,...,6.)"
   ]
  },
  {
   "cell_type": "code",
   "execution_count": 53,
   "metadata": {},
   "outputs": [
    {
     "data": {
      "text/plain": [
       "array([2., 1., 6., ..., 1., 3., 2.])"
      ]
     },
     "execution_count": 53,
     "metadata": {},
     "output_type": "execute_result"
    }
   ],
   "source": [
    "### The first few lines give you the array nums.\n",
    "import random\n",
    "random.seed(10)\n",
    "k = random.randint(1,6)\n",
    "random.seed(None)\n",
    "nums = np.hstack([np.random.randint(1,7,3000),\n",
    "                  k*np.ones(4000),\n",
    "                  np.random.randint(1,7,3000)\n",
    "                 ])\n",
    "\n",
    "### your answer here\n",
    "nums"
   ]
  },
  {
   "cell_type": "markdown",
   "metadata": {},
   "source": [
    "#### Problem 4\n",
    "Use the same `nums` in Problem 3.  \n",
    "\n",
    "Use `np.histogram` to output the frequency of each number.  \n",
    "(Hint:  Read the documentation of `histogram` and  \n",
    "set `bins` as 6 and set `range` from 0.5 to 6.5."
   ]
  },
  {
   "cell_type": "code",
   "execution_count": 54,
   "metadata": {},
   "outputs": [],
   "source": [
    "### your answer here\n"
   ]
  },
  {
   "cell_type": "markdown",
   "metadata": {},
   "source": [
    "#### Problem 5\n",
    "Now try to create a fair dice by `np.random.randint`.  \n",
    "Roll it 10000 times and store the number in `fair_nums`.  \n",
    "Use Problem 4 to see how fair it is."
   ]
  },
  {
   "cell_type": "code",
   "execution_count": null,
   "metadata": {},
   "outputs": [],
   "source": [
    "### your answer here\n"
   ]
  }
 ],
 "metadata": {
  "celltoolbar": "Raw Cell Format",
  "kernelspec": {
   "display_name": "Python 3 (Ubuntu Linux)",
   "language": "python",
   "name": "python3"
  },
  "language_info": {
   "codemirror_mode": {
    "name": "ipython",
    "version": 3
   },
   "file_extension": ".py",
   "mimetype": "text/x-python",
   "name": "python",
   "nbconvert_exporter": "python",
   "pygments_lexer": "ipython3",
   "version": "3.6.7"
  }
 },
 "nbformat": 4,
 "nbformat_minor": 2
}
