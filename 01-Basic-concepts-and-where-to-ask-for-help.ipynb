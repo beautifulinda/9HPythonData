{
 "cells": [
  {
   "cell_type": "markdown",
   "metadata": {},
   "source": [
    "# A 9-hour Python tutorial focusing on data processing"
   ]
  },
  {
   "cell_type": "markdown",
   "metadata": {},
   "source": [
    "![Creative Commons License](https://i.creativecommons.org/l/by/4.0/88x31.png)  \n",
    "This work by Jephian Lin is licensed under a [Creative Commons Attribution 4.0 International License](http://creativecommons.org/licenses/by/4.0/)."
   ]
  },
  {
   "cell_type": "markdown",
   "metadata": {},
   "source": [
    "## 1. Basic concepts and where to ask for help"
   ]
  },
  {
   "cell_type": "markdown",
   "metadata": {},
   "source": [
    "### What is Python?\n",
    "* Python is a programming language designed for **readability**\n",
    "* Python has many *convenient* features making it **relatively slow**\n",
    "* Python is popular because the **wide variety of packages**"
   ]
  },
  {
   "cell_type": "markdown",
   "metadata": {},
   "source": [
    "### Python? Anaconda?\n",
    "* Python was created by **Guido van Rossum** in 1991\n",
    "* Guido likes the British comedy group **Monty Python**, so he named it as Python\n",
    "* In terms of biology, both Python and Anaconda are both snakes  [(One is longer, the other is heavier)](http://www.differencebetween.net/science/nature/difference-between-python-and-anaconda/)\n",
    "* In terms of computer science, **Anaconda is a Python distribution**, containing many Python packages.\n",
    "* Both [Python](https://www.python.org/) and [Anaconda](https://www.anaconda.com/) can be downloaded from web and install on your own machine."
   ]
  },
  {
   "cell_type": "markdown",
   "metadata": {},
   "source": [
    "### Cloud services\n",
    "* Free cloud services are getting popular:\n",
    "* [Kaggle](https://www.kaggle.com/), [Colaboratory](https://colab.research.google.com/), [CoCalc](https://cocalc.com), etc.\n",
    "* Uh... Kaggle and Colaboratory thrived independently, but are then bought by Google...\n",
    "* CoCalc was aim on mathematical computations, especially on algebra system, and it uses Google servers...\n",
    "* For basic computation, you really don't need to install Python on your own machine, provided that you have internet..."
   ]
  },
  {
   "cell_type": "markdown",
   "metadata": {},
   "source": [
    "### Script?\n",
    "* running Python by command lines (default option)\n",
    "* fast, offline, easy to interact with other applications\n",
    "\n",
    "### Notebook?\n",
    "* running Python on a browser (e.g., **Jupyter**)\n",
    "* cross-platform, used by most Cloud services, rich text format"
   ]
  },
  {
   "cell_type": "markdown",
   "metadata": {},
   "source": [
    "### Your best friends\n",
    "* `shift+enter`: evaluate a cell\n",
    "* `tab`: autocomplete or show the possible complettions\n",
    "* _object_.: press `tab` to see functions under _object_\n",
    "* _func_?: evaluate to read the documentation of _func_\n",
    "* _func_??: evaluate to read the source code of _func_\n",
    "* Google: the answers are likely available online"
   ]
  },
  {
   "cell_type": "markdown",
   "metadata": {},
   "source": [
    "Press `shift+enter` to evaluate the cell below."
   ]
  },
  {
   "cell_type": "code",
   "execution_count": 1,
   "metadata": {},
   "outputs": [
    {
     "data": {
      "text/plain": [
       "2"
      ]
     },
     "execution_count": 1,
     "metadata": {},
     "output_type": "execute_result"
    }
   ],
   "source": [
    "1 + 1"
   ]
  },
  {
   "cell_type": "markdown",
   "metadata": {},
   "source": [
    "Move your text cursor to the end of `ran` and press `tab`.  \n",
    "Jupyter will autocomplete `ran` to be `range`."
   ]
  },
  {
   "cell_type": "code",
   "execution_count": null,
   "metadata": {},
   "outputs": [],
   "source": [
    "ran"
   ]
  },
  {
   "cell_type": "markdown",
   "metadata": {},
   "source": [
    "After you tell Python what `a` is, type `a.` and press `tab` to see related functions."
   ]
  },
  {
   "cell_type": "code",
   "execution_count": 2,
   "metadata": {},
   "outputs": [
    {
     "data": {
      "text/plain": [
       "str"
      ]
     },
     "execution_count": 2,
     "metadata": {},
     "output_type": "execute_result"
    }
   ],
   "source": [
    "a = 'Hello'\n",
    "type(a)"
   ]
  },
  {
   "cell_type": "code",
   "execution_count": null,
   "metadata": {},
   "outputs": [],
   "source": [
    "### <tab> would not work \n",
    "### if you did not run \n",
    "### a = 'Hello'\n",
    "### first.\n",
    "a."
   ]
  },
  {
   "cell_type": "markdown",
   "metadata": {},
   "source": [
    "For example,  \n",
    "you may try `a.upper()`  \n",
    "and guess the meaning of the function."
   ]
  },
  {
   "cell_type": "code",
   "execution_count": 3,
   "metadata": {},
   "outputs": [
    {
     "data": {
      "text/plain": [
       "'HELLO'"
      ]
     },
     "execution_count": 3,
     "metadata": {},
     "output_type": "execute_result"
    }
   ],
   "source": [
    "a.upper()"
   ]
  },
  {
   "cell_type": "markdown",
   "metadata": {},
   "source": [
    "Different objects have different functions associated with them.  \n",
    "For example, \n",
    "```Python\n",
    "a = 'Hello'\n",
    "a.upper()\n",
    "```\n",
    "will return `HELLO`, but \n",
    "```Python\n",
    "a = 1 \n",
    "a.upper()\n",
    "```\n",
    "will return AttributeError."
   ]
  },
  {
   "cell_type": "code",
   "execution_count": 4,
   "metadata": {},
   "outputs": [
    {
     "data": {
      "text/plain": [
       "int"
      ]
     },
     "execution_count": 4,
     "metadata": {},
     "output_type": "execute_result"
    }
   ],
   "source": [
    "a = 1\n",
    "type(a)"
   ]
  },
  {
   "cell_type": "code",
   "execution_count": null,
   "metadata": {},
   "outputs": [],
   "source": [
    "a.upper()"
   ]
  },
  {
   "cell_type": "code",
   "execution_count": null,
   "metadata": {},
   "outputs": [],
   "source": [
    "### With a = 1, \n",
    "### press <tab> to see functions related to an integer\n",
    "\n",
    "a."
   ]
  },
  {
   "cell_type": "markdown",
   "metadata": {},
   "source": [
    "Evaluate \n",
    "```Python\n",
    "a = 'Hello'\n",
    "a.upper?\n",
    "```\n",
    "to read the documentation of the function `upper`.  \n",
    "(And you may presss `Esc` to close the documentation.)"
   ]
  },
  {
   "cell_type": "code",
   "execution_count": null,
   "metadata": {},
   "outputs": [],
   "source": [
    "a = 'Hello'\n",
    "a.upper?"
   ]
  },
  {
   "cell_type": "markdown",
   "metadata": {},
   "source": [
    "The function `upper` is associated with a string, so only `upper?` wouldn't work."
   ]
  },
  {
   "cell_type": "code",
   "execution_count": null,
   "metadata": {},
   "outputs": [],
   "source": [
    "upper?"
   ]
  },
  {
   "cell_type": "markdown",
   "metadata": {},
   "source": [
    "To become an expert, you will read others' code and see how they deal with it.  \n",
    "Use ``??`` to check the source code if available."
   ]
  },
  {
   "cell_type": "code",
   "execution_count": null,
   "metadata": {},
   "outputs": [],
   "source": [
    "import random\n",
    "\n",
    "random.randint??"
   ]
  },
  {
   "cell_type": "code",
   "execution_count": null,
   "metadata": {},
   "outputs": [],
   "source": [
    "### evaluate this cell several times to get different numbers\n",
    "\n",
    "random.randint(1,5)"
   ]
  },
  {
   "cell_type": "markdown",
   "metadata": {},
   "source": [
    "Finally, Google is always ready to help.  \n",
    "For example, Google \"how to swap two variables in python\"."
   ]
  },
  {
   "cell_type": "code",
   "execution_count": null,
   "metadata": {},
   "outputs": [],
   "source": [
    "a = 1\n",
    "b = 2\n",
    "a,b = b,a\n",
    "print(a,b)"
   ]
  },
  {
   "cell_type": "markdown",
   "metadata": {},
   "source": [
    "### Assign and print\n",
    "In Python, a single `=` means to assign a value.  \n",
    "For example, `a = 'Hello'` means assign the variable `a` as a string `'Hello'`.  \n",
    "Here we call `a` as a **variable** and `'Hello'` as the **value** of the variable.\n",
    "\n",
    "To see the value of a variable, use `print`."
   ]
  },
  {
   "cell_type": "code",
   "execution_count": 5,
   "metadata": {},
   "outputs": [
    {
     "name": "stdout",
     "output_type": "stream",
     "text": [
      "Hello\n"
     ]
    }
   ],
   "source": [
    "a = 'Hello'\n",
    "print(a)"
   ]
  },
  {
   "cell_type": "code",
   "execution_count": 6,
   "metadata": {},
   "outputs": [
    {
     "name": "stdout",
     "output_type": "stream",
     "text": [
      "123 Hello Everybody\n"
     ]
    }
   ],
   "source": [
    "a = 123\n",
    "b = 'Hello'\n",
    "c = 'Everybody'\n",
    "print(a, b, c)"
   ]
  },
  {
   "cell_type": "code",
   "execution_count": 7,
   "metadata": {},
   "outputs": [
    {
     "name": "stdout",
     "output_type": "stream",
     "text": [
      "123! Hello! Everybody\n"
     ]
    }
   ],
   "source": [
    "print(a, b, c, sep='! ')"
   ]
  },
  {
   "cell_type": "markdown",
   "metadata": {},
   "source": [
    "#### Exercise\n",
    "Now you notice the exclamation mark `!` only appears between the variables.  \n",
    "This is normal, if you read the documentation of `print`, you will see \n",
    "    \n",
    "    sep:   string inserted between values, default a space.\n",
    "\n",
    "Read the documentation (by evaluating `print?`) carefully and find a way to output `123! Hello! Everybody!`."
   ]
  },
  {
   "cell_type": "code",
   "execution_count": 9,
   "metadata": {},
   "outputs": [],
   "source": [
    "a = 123\n",
    "b = 'Hello'\n",
    "c = 'Everybody'\n",
    "### your answer here\n"
   ]
  },
  {
   "cell_type": "markdown",
   "metadata": {},
   "source": [
    "#### Exercise\n",
    "\n",
    "Suppose someone wrote the following:\n",
    "```Python\n",
    "a = 'I come from taiwan'\n",
    "```\n",
    "This is annoying since it should be `Taiwan` but not `taiwan`.  \n",
    "\n",
    "Type `a.` and press `tab` to see all related functions.  \n",
    "Find a function under `a` that allows you to replace `taiwan` by `Taiwan`."
   ]
  },
  {
   "cell_type": "code",
   "execution_count": null,
   "metadata": {},
   "outputs": [],
   "source": [
    "a = 'I come from taiwan'\n",
    "### your answer here\n"
   ]
  },
  {
   "cell_type": "markdown",
   "metadata": {},
   "source": [
    "#### Exercise \n",
    "\n",
    "When you collect data, if you did not carefully tell the participants  \n",
    "how to fill in the form, then you will get all kinds of answers.  \n",
    "Suppose you are setting up a time for a meeting and you get the  \n",
    "following answers from three different people.\n",
    "```Python\n",
    "a = 'Monday Wednesday Friday'\n",
    "b = 'Monday, Tuesday, Thursday'\n",
    "c = 'Monday;Friday'\n",
    "```\n",
    "Extract the dates for each one by the `split` function."
   ]
  },
  {
   "cell_type": "code",
   "execution_count": 10,
   "metadata": {},
   "outputs": [
    {
     "name": "stdout",
     "output_type": "stream",
     "text": [
      "['Monday', 'Wednesday', 'Friday']\n",
      "['Monday,', 'Tuesday,', 'Thursday']\n",
      "['Monday;Friday']\n"
     ]
    }
   ],
   "source": [
    "a = 'Monday Wednesday Friday'\n",
    "b = 'Monday, Tuesday, Thursday'\n",
    "c = 'Monday;Friday'\n",
    "print(a.split()) ### this is correct\n",
    "print(b.split()) ### how to remove the comma?\n",
    "print(c.split()) ### how to remove the semicolon?"
   ]
  },
  {
   "cell_type": "markdown",
   "metadata": {},
   "source": [
    "#### Exercise\n",
    "Reading the source code build up your knowledge on programming.\n",
    "\n",
    "Evaluate the cell below and read the source code.  \n",
    "The `random` package uses the value of pi.  \n",
    "Find out how to get the value of pi."
   ]
  },
  {
   "cell_type": "code",
   "execution_count": null,
   "metadata": {},
   "outputs": [],
   "source": [
    "import random\n",
    "\n",
    "random??"
   ]
  },
  {
   "cell_type": "code",
   "execution_count": null,
   "metadata": {},
   "outputs": [],
   "source": [
    "### from m??? import ?? as _pi\n",
    "### your answer here\n",
    "\n",
    "print(_pi)"
   ]
  },
  {
   "cell_type": "markdown",
   "metadata": {},
   "source": [
    "**Finding the possible solutions is an essential part of programming,  \n",
    "and it is a skill that will benefit you in the long run.**\n",
    "\n",
    "Seriously, I think no one learn programming _only_ from shcool."
   ]
  },
  {
   "cell_type": "markdown",
   "metadata": {},
   "source": [
    "### Online resources for Python\n",
    "1. [SoloLearn](https://www.sololearn.com/) is a plateform for you to learn to code for free.  It teaches various programming languages, and mobile apps are also available!\n",
    "1. [Kaggle Learn](https://www.kaggle.com/learn/overview) allows you to learn and run Python on Cloud.\n",
    "2. [Python for Everybody](https://www.py4e.com/book) is a free/open-sourced book with free course videos that provide the details of Python.\n",
    "2. [Coursera](https://www.coursera.org/) offers lots of (kind of) _free_ course.\n"
   ]
  },
  {
   "cell_type": "markdown",
   "metadata": {},
   "source": [
    "### Jupyter shortcuts\n",
    "* Press `Esc` to enter the **Command Mode**\n",
    "* Press `Enter` to enter the **Edit Mode**\n",
    "* In Command Mode, press `A` (`B`) to insert a cell above (below)\n",
    "* In Command Mode, press `DD` to delete the cell\n",
    "* In Command Mode, press `H` to read all shortcuts"
   ]
  },
  {
   "cell_type": "markdown",
   "metadata": {},
   "source": [
    "### Python installation\n",
    "If you are a Linux user, you can do \n",
    "```bash\n",
    "sudo apt install python\n",
    "```\n",
    "in Ubuntu or \n",
    "```bash\n",
    "sudo pacman -S python\n",
    "```\n",
    "in Arch Linux to install Python easily.  \n",
    "\n",
    "If you are using Windows or Mac, then you will have to download the installation package from [Python website](https://www.python.org/)."
   ]
  },
  {
   "cell_type": "markdown",
   "metadata": {},
   "source": [
    "### Python package installation"
   ]
  },
  {
   "cell_type": "markdown",
   "metadata": {},
   "source": [
    "Warning: Installing packages through Jupyter is not recommended.  \n",
    "This part is only to illustrate the installation process.\n",
    "\n",
    "Code in this section is unlikely to work due to  \n",
    "the settings on different machines,  \n",
    "lack of internet or  \n",
    "lack of permission."
   ]
  },
  {
   "cell_type": "markdown",
   "metadata": {},
   "source": [
    "### Technicalities\n",
    "The exclamation mark `!` allows you to run command in your shell.  \n",
    "`cat` is a program that print the content of a file.  \n",
    "`/etc/os-release` stores the OS information of the machine.  \n",
    "\n",
    "Alternatively, you can do `lsb_release`.\n",
    "\n",
    "Note: These commands are mainly for Linux."
   ]
  },
  {
   "cell_type": "code",
   "execution_count": null,
   "metadata": {
    "scrolled": true
   },
   "outputs": [],
   "source": [
    "!cat /etc/os-release"
   ]
  },
  {
   "cell_type": "markdown",
   "metadata": {},
   "source": [
    "### Install with `pip`\n",
    "You may find packages on [the Python Package Index](https://pypi.org/), also known as PyPI.  \n",
    "\n",
    "In general, you have to find the package official website  \n",
    "and follow the instruction to install.  \n",
    "Take NumPy as an example, find its [installation guide](https://www.scipy.org/install.html) and follow the instructions therein.  \n",
    "\n",
    "However, `pip` provides you an easy way to install packages available on PyPI.  \n",
    "For NumPy, you can do \n",
    "```Python\n",
    "pip install numpy\n",
    "```\n",
    "and it will download the package and install.  \n",
    "\n",
    "Note:  You can do `pip uninstall numpy` to uninstall."
   ]
  },
  {
   "cell_type": "code",
   "execution_count": null,
   "metadata": {},
   "outputs": [],
   "source": [
    "!pip install numpy"
   ]
  },
  {
   "cell_type": "code",
   "execution_count": null,
   "metadata": {},
   "outputs": [],
   "source": [
    "!pip install funniesttest"
   ]
  },
  {
   "cell_type": "markdown",
   "metadata": {},
   "source": [
    "### Virtual environment\n",
    "Chances are that the cells above won't work well.  \n",
    "This is actually good!  \n",
    "Python has way too many packages available and some can conflict with each other.  \n",
    "\n",
    "If a package is not so fundamental that everyone need that  \n",
    "then don't install it globally.  \n",
    "Creating a **virtual environment** is a better approach."
   ]
  },
  {
   "cell_type": "code",
   "execution_count": null,
   "metadata": {},
   "outputs": [],
   "source": [
    "!virtualenv my_project ### create a virtual environment called my_project\n",
    "!source my_project/bin/activate && pip install funniesttest ### go to the virtual environment and install"
   ]
  },
  {
   "cell_type": "markdown",
   "metadata": {},
   "source": [
    "This avoids the permission issue  \n",
    "but still need internet to access the package."
   ]
  },
  {
   "cell_type": "markdown",
   "metadata": {},
   "source": [
    "### Offline installation\n",
    "Suppose you plan to install the package `funniesttest`  \n",
    "and you already have the package file obtained from [here](https://pypi.org/project/funniesttest/) on PyPI. \n",
    "\n",
    "Do the following steps (in the virtual environment if necessary)  \n",
    "1. Unpack the package by `gzip` or `tar` if necessary.\n",
    "```bash\n",
    "gzip -d filename.tar.gz\n",
    "tar -xvf filename.tar\n",
    "```\n",
    "2. Go to the folder.\n",
    "```bash\n",
    "cd foldername\n",
    "```\n",
    "3. Install with `pip`.  Note that the dot at the end is not a period!\n",
    "```Python\n",
    "pip install .\n",
    "```\n",
    "\n",
    "If the package has a file `filename.whl`, then ignore above and do\n",
    "```Python\n",
    "pip install filename.whl\n",
    "```"
   ]
  },
  {
   "cell_type": "code",
   "execution_count": null,
   "metadata": {},
   "outputs": [],
   "source": [
    "### create a virtual environment called my_project\n",
    "!virtualenv my_project "
   ]
  },
  {
   "cell_type": "code",
   "execution_count": null,
   "metadata": {},
   "outputs": [],
   "source": [
    "### unpack the package\n",
    "!cp funniesttest-1.0.tar.gz my_project\n",
    "!cd my_project && gzip -dk funniesttest-1.0.tar.gz && tar -xvf funniesttest-1.0.tar\n",
    "### show where we are and list what's in the folder\n",
    "!pwd\n",
    "!ls"
   ]
  },
  {
   "cell_type": "code",
   "execution_count": null,
   "metadata": {},
   "outputs": [],
   "source": [
    "### activate my_project\n",
    "### go to the folder\n",
    "### then install\n",
    "!source my_project/bin/activate && cd my_project/funniesttest-1.0/ && pip install ."
   ]
  },
  {
   "cell_type": "code",
   "execution_count": null,
   "metadata": {},
   "outputs": [],
   "source": [
    "### reset\n",
    "### run this cell only when \n",
    "### you want to wipe out the virtual environment\n",
    "!rm -rf my_project"
   ]
  },
  {
   "cell_type": "markdown",
   "metadata": {},
   "source": [
    "### Conclusion\n",
    "To get some experiecnes of Python, use Cloud services.  \n",
    "For machines that you are not the owner, ask IT for help.  \n",
    "For your own machine, it is nice to get your hand dirty and go through the installation by yourself."
   ]
  }
 ],
 "metadata": {
  "celltoolbar": "Raw Cell Format",
  "kernelspec": {
   "display_name": "Python 3 (Ubuntu Linux)",
   "language": "python",
   "name": "python3"
  },
  "language_info": {
   "codemirror_mode": {
    "name": "ipython",
    "version": 3
   },
   "file_extension": ".py",
   "mimetype": "text/x-python",
   "name": "python",
   "nbconvert_exporter": "python",
   "pygments_lexer": "ipython3",
   "version": "3.6.7"
  }
 },
 "nbformat": 4,
 "nbformat_minor": 2
}
