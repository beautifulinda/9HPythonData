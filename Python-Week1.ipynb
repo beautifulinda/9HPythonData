{
 "cells": [
  {
   "cell_type": "markdown",
   "metadata": {},
   "source": [
    "# Python\n",
    "## Week 1:  Python Basics and NumPy"
   ]
  },
  {
   "cell_type": "markdown",
   "metadata": {},
   "source": [
    "This tutorial was done under a project between  \n",
    "[National Sun Yat-sen University](http://www.nsysu.edu.tw/?Lang=zh-tw) and [United Microelectronics Corporation](http://www.umc.com/chinese/).\n",
    "\n",
    "<a rel=\"license\" href=\"http://creativecommons.org/licenses/by/4.0/\"><img alt=\"Creative Commons License\" style=\"border-width:0\" src=\"https://i.creativecommons.org/l/by/4.0/88x31.png\" /></a><br />This work by <span xmlns:cc=\"http://creativecommons.org/ns#\" property=\"cc:attributionName\">Jephian Lin</span> is licensed under a <a rel=\"license\" href=\"http://creativecommons.org/licenses/by/4.0/\">Creative Commons Attribution 4.0 International License</a>."
   ]
  },
  {
   "cell_type": "markdown",
   "metadata": {},
   "source": [
    "## 1. Basic concepts and where to ask for help"
   ]
  },
  {
   "cell_type": "markdown",
   "metadata": {},
   "source": [
    "### What is Python?\n",
    "* Python is a programming language designed for **readability**\n",
    "* Python has many *convenient* features making it **relatively slow**\n",
    "* Python is popular because the **wide variety of packages**"
   ]
  },
  {
   "cell_type": "markdown",
   "metadata": {},
   "source": [
    "### Python? Anaconda?\n",
    "* Python was created by **Guido van Rossum** in 1991\n",
    "* Guido likes the British comedy group **Monty Python**, so he named it as Python\n",
    "* In terms of biology, both Python and Anaconda are both snakes  [(One is longer, the other is heavier)](http://www.differencebetween.net/science/nature/difference-between-python-and-anaconda/)\n",
    "* In terms of computer science, **Anaconda is a Python distribution**, containing many Python packages.\n",
    "* Both [Python](https://www.python.org/) and [Anaconda](https://www.anaconda.com/) can be downloaded from web and install on your own machine."
   ]
  },
  {
   "cell_type": "markdown",
   "metadata": {},
   "source": [
    "### Cloud services\n",
    "* Free cloud services are getting popular:\n",
    "* [Kaggle](https://www.kaggle.com/), [Colaboratory](https://colab.research.google.com/), [CoCalc](https://cocalc.com), etc.\n",
    "* Uh... Kaggle and Colaboratory thrived independently, but are then bought by Google...\n",
    "* CoCalc was aim on mathematical computations, especially on algebra system, and it uses Google servers...\n",
    "* For basic computation, you really don't need to install Python on your own machine, provided that you have internet..."
   ]
  },
  {
   "cell_type": "markdown",
   "metadata": {},
   "source": [
    "### Script?\n",
    "* running Python by command lines (default option)\n",
    "* fast, offline, easy to interact with other applications\n",
    "\n",
    "### Notebook?\n",
    "* running Python on a browser (e.g., **Jupyter**)\n",
    "* cross-platform, used by most Cloud services, rich text format"
   ]
  },
  {
   "cell_type": "markdown",
   "metadata": {},
   "source": [
    "### Your best friends\n",
    "* `shift+enter`: evaluate a cell\n",
    "* `tab`: autocomplete or show the possible complettions\n",
    "* _object_.: press `tab` to see functions under _object_\n",
    "* _func_?: evaluate to read the documentation of _func_\n",
    "* _func_??: evaluate to read the source code of _func_\n",
    "* Google: the answers are likely available online"
   ]
  },
  {
   "cell_type": "markdown",
   "metadata": {},
   "source": [
    "Press `shift+enter` to evaluate the cell below."
   ]
  },
  {
   "cell_type": "code",
   "execution_count": null,
   "metadata": {},
   "outputs": [],
   "source": [
    "1+1"
   ]
  },
  {
   "cell_type": "markdown",
   "metadata": {},
   "source": [
    "Move your text cursor to the end of `ran` and press `tab`.  \n",
    "Jupyter will autocomplete `ran` to be `range`.\n"
   ]
  },
  {
   "cell_type": "code",
   "execution_count": null,
   "metadata": {},
   "outputs": [],
   "source": [
    "ran"
   ]
  },
  {
   "cell_type": "markdown",
   "metadata": {},
   "source": [
    "After you tell Python what `a` is, type `a.` and press `tab` to see related functions."
   ]
  },
  {
   "cell_type": "code",
   "execution_count": null,
   "metadata": {},
   "outputs": [],
   "source": [
    "a = 'Hello'\n",
    "type(a)"
   ]
  },
  {
   "cell_type": "code",
   "execution_count": null,
   "metadata": {},
   "outputs": [],
   "source": [
    "a."
   ]
  },
  {
   "cell_type": "code",
   "execution_count": null,
   "metadata": {},
   "outputs": [],
   "source": [
    "a.count('l')"
   ]
  },
  {
   "cell_type": "markdown",
   "metadata": {},
   "source": [
    "Different objects have different functions associated with them.  \n",
    "For example, \n",
    "```Python\n",
    "a = 'Hello'\n",
    "a.upper()\n",
    "```\n",
    "will return `HELLO`, but \n",
    "```Python\n",
    "a = 1 \n",
    "a.upper()\n",
    "```\n",
    "will return AttributeError."
   ]
  },
  {
   "cell_type": "code",
   "execution_count": null,
   "metadata": {},
   "outputs": [],
   "source": [
    "a = 1\n",
    "type(a)"
   ]
  },
  {
   "cell_type": "code",
   "execution_count": null,
   "metadata": {},
   "outputs": [],
   "source": [
    "a.upper()"
   ]
  },
  {
   "cell_type": "code",
   "execution_count": null,
   "metadata": {},
   "outputs": [],
   "source": [
    "### With a = 1, press tab to see functions related to an integer\n",
    "\n",
    "a."
   ]
  },
  {
   "cell_type": "markdown",
   "metadata": {},
   "source": [
    "Evaluate \n",
    "```Python\n",
    "a = 'Hello'\n",
    "a.upper?\n",
    "```\n",
    "to read the documentation of the function `upper`.  \n",
    "(And you may presss `Esc` to close the documentation.)"
   ]
  },
  {
   "cell_type": "code",
   "execution_count": null,
   "metadata": {},
   "outputs": [],
   "source": [
    "a = 'Hello'\n",
    "a.upper?"
   ]
  },
  {
   "cell_type": "markdown",
   "metadata": {},
   "source": [
    "The function `upper` is associated with a string, so only `upper?` wouldn't work."
   ]
  },
  {
   "cell_type": "code",
   "execution_count": null,
   "metadata": {},
   "outputs": [],
   "source": [
    "upper?"
   ]
  },
  {
   "cell_type": "markdown",
   "metadata": {},
   "source": [
    "To become an expert, you will read others' code and see how they deal with it.  \n",
    "Use ``??`` to check the source code if available."
   ]
  },
  {
   "cell_type": "code",
   "execution_count": null,
   "metadata": {},
   "outputs": [],
   "source": [
    "import random\n",
    "\n",
    "random.randint??"
   ]
  },
  {
   "cell_type": "code",
   "execution_count": null,
   "metadata": {},
   "outputs": [],
   "source": [
    "### evaluate this cell several times to get different numbers\n",
    "\n",
    "random.randint(1,5)"
   ]
  },
  {
   "cell_type": "markdown",
   "metadata": {},
   "source": [
    "Finally, Google is always ready to help.  \n",
    "For example, Google \"how to swap two variables in python\"."
   ]
  },
  {
   "cell_type": "code",
   "execution_count": null,
   "metadata": {},
   "outputs": [],
   "source": [
    "a = 1\n",
    "b = 2\n",
    "a,b = b,a\n",
    "print(a,b)"
   ]
  },
  {
   "cell_type": "markdown",
   "metadata": {},
   "source": [
    "### Assign and print\n",
    "In Python, a single `=` means to assign a value.  \n",
    "For example, `a = 'Hello'` means assign the variable `a` as a string `'Hello'`.  \n",
    "Here we call `a` as a **variable** and `'Hello'` as the **value** of the variable.\n",
    "\n",
    "To see the value of a variable, use `print`."
   ]
  },
  {
   "cell_type": "code",
   "execution_count": null,
   "metadata": {},
   "outputs": [],
   "source": [
    "a = 'Hello'\n",
    "print(a)"
   ]
  },
  {
   "cell_type": "code",
   "execution_count": null,
   "metadata": {},
   "outputs": [],
   "source": [
    "a = 123\n",
    "b = 'Hello'\n",
    "c = 'Everybody'\n",
    "print(a,b,c)"
   ]
  },
  {
   "cell_type": "code",
   "execution_count": null,
   "metadata": {},
   "outputs": [],
   "source": [
    "print(a,b,c,sep='! ')"
   ]
  },
  {
   "cell_type": "markdown",
   "metadata": {},
   "source": [
    "#### Exercise\n",
    "Now you notice the exclamation mark `!` only appears between the variables.  \n",
    "This is normal, if you read the documentation of `print`, you will see \n",
    "> sep:   string inserted between values, default a space.\n",
    "\n",
    "Read the documentation (by evaluating `print?`) carefully and find a way to output `123! Hello! Everybody!`."
   ]
  },
  {
   "cell_type": "code",
   "execution_count": null,
   "metadata": {},
   "outputs": [],
   "source": [
    "print(a,b,c,sep='! ',???)"
   ]
  },
  {
   "cell_type": "markdown",
   "metadata": {},
   "source": [
    "#### Exercise\n",
    "\n",
    "Suppose someone wrote the following:\n",
    "```Python\n",
    "a = 'I come from taiwan'\n",
    "```\n",
    "This is annoying since it should be `Taiwan` but not `taiwan`.  \n",
    "\n",
    "Type `a.` and press `tab` to see all related functions.  \n",
    "Find a function under `a` that allows you to replace `taiwan` by `Taiwan`."
   ]
  },
  {
   "cell_type": "code",
   "execution_count": null,
   "metadata": {},
   "outputs": [],
   "source": [
    "a = 'I come from taiwan'\n",
    "a.???"
   ]
  },
  {
   "cell_type": "markdown",
   "metadata": {},
   "source": [
    "#### Exercise \n",
    "\n",
    "When you collect data, if you did not carefully tell the participants  \n",
    "how to fill in the form, then you will get all kinds of answers.  \n",
    "Suppose you are setting up a time for a meeting and you get the  \n",
    "following answers from three different people.\n",
    "```Python\n",
    "a = 'Monday Wednesday Friday'\n",
    "b = 'Monday, Tuesday, Thursday'\n",
    "c = 'Monday;Friday'\n",
    "```\n",
    "Extract the dates for each one by the `split` function."
   ]
  },
  {
   "cell_type": "code",
   "execution_count": null,
   "metadata": {},
   "outputs": [],
   "source": [
    "a = 'Monday Wednesday Friday'\n",
    "b = 'Monday, Tuesday, Thursday'\n",
    "c = 'Monday;Friday'\n",
    "print(a.split()) ### this is correct\n",
    "print(b.split()) ### how to remove the comma?\n",
    "print(c.split()) ### how to remove the semicolon?"
   ]
  },
  {
   "cell_type": "markdown",
   "metadata": {},
   "source": [
    "#### Exercise\n",
    "Reading the source code build up your knowledge on programming.\n",
    "\n",
    "Evaluate the cell below and read the source code.  \n",
    "The `random` package uses the value of pi.  \n",
    "Find out how to get the value of pi."
   ]
  },
  {
   "cell_type": "code",
   "execution_count": null,
   "metadata": {},
   "outputs": [],
   "source": [
    "import random\n",
    "random??"
   ]
  },
  {
   "cell_type": "code",
   "execution_count": null,
   "metadata": {},
   "outputs": [],
   "source": [
    "from m??? import ?? as _pi\n",
    "print(_pi)"
   ]
  },
  {
   "cell_type": "markdown",
   "metadata": {},
   "source": [
    "**Finding the possible solutions is an essential part of programming,  \n",
    "and it is a skill that will benefit you in the long run.**\n",
    "\n",
    "Seriously, I think no one learn programming _only_ from shcool."
   ]
  },
  {
   "cell_type": "markdown",
   "metadata": {},
   "source": [
    "### Online resources for Python\n",
    "1. [Kaggle Learn](https://www.kaggle.com/learn/overview) allows you to learn and run Python on Cloud.\n",
    "2. [Python for Everybody](https://www.py4e.com/book) is a free/open-sourced book with free course videos that provide the details of Python.\n",
    "2. [Coursera](https://www.coursera.org/) offers lots of (kind of) _free_ course."
   ]
  },
  {
   "cell_type": "markdown",
   "metadata": {},
   "source": [
    "### Jupyter shortcuts\n",
    "* Press `Esc` to enter the **Command Mode**\n",
    "* Press `Enter` to enter the **Edit Mode**\n",
    "* In Command Mode, press `A` (`B`) to insert a cell above (below)\n",
    "* In Command Mode, press `H` to read all shortcuts"
   ]
  },
  {
   "cell_type": "markdown",
   "metadata": {},
   "source": [
    "### Python installation\n",
    "If you are a Linux user, you can do \n",
    "```bash\n",
    "sudo apt install python\n",
    "```\n",
    "in Ubuntu or \n",
    "```bash\n",
    "sudo pacman -S python\n",
    "```\n",
    "in Arch Linux to install Python easily.  \n",
    "\n",
    "If you are using Windows or Mac, then you will have to download the installation package from [Python website](https://www.python.org/)."
   ]
  },
  {
   "cell_type": "markdown",
   "metadata": {},
   "source": [
    "### Python package installation"
   ]
  },
  {
   "cell_type": "markdown",
   "metadata": {},
   "source": [
    "Warning: Installing packages through Jupyter is not recommended.  \n",
    "This part is only to illustrate the installation process.\n",
    "\n",
    "Code in this section is unlikely to work due to  \n",
    "the settings on different machines,  \n",
    "lack of internet or  \n",
    "lack of permission."
   ]
  },
  {
   "cell_type": "markdown",
   "metadata": {},
   "source": [
    "### Technicalities\n",
    "The exclamation mark `!` allows you to run command in your shell.  \n",
    "`cat` is a program that print the content of a file.  \n",
    "`/etc/os-release` stores the OS information of the machine.  \n",
    "\n",
    "Alternatively, you can do `lsb_release`.\n",
    "\n",
    "Note: These commands are mainly for Linux."
   ]
  },
  {
   "cell_type": "code",
   "execution_count": null,
   "metadata": {
    "scrolled": true
   },
   "outputs": [],
   "source": [
    "!cat /etc/os-release"
   ]
  },
  {
   "cell_type": "markdown",
   "metadata": {},
   "source": [
    "### Install with `pip`\n",
    "You may find packages on [the Python Package Index](https://pypi.org/), also known as PyPI.  \n",
    "\n",
    "In general, you have to find the package official website  \n",
    "and follow the instruction to install.  \n",
    "Take NumPy as an example, find its [installation guide](https://www.scipy.org/install.html) and follow the instructions therein.  \n",
    "\n",
    "However, `pip` provides you an easy way to install packages available on PyPI.  \n",
    "For NumPy, you can do \n",
    "```Python\n",
    "pip install numpy\n",
    "```\n",
    "and it will download the package and install.  \n",
    "\n",
    "Note:  You can do `pip uninstall numpy` to uninstall."
   ]
  },
  {
   "cell_type": "code",
   "execution_count": null,
   "metadata": {},
   "outputs": [],
   "source": [
    "!pip install numpy"
   ]
  },
  {
   "cell_type": "code",
   "execution_count": null,
   "metadata": {},
   "outputs": [],
   "source": [
    "!pip install funniesttest"
   ]
  },
  {
   "cell_type": "markdown",
   "metadata": {},
   "source": [
    "### Virtual environment\n",
    "Chances are that the cells above won't work well.  \n",
    "This is actually good!  \n",
    "Python has way too many packages available and some can conflict with each other.  \n",
    "\n",
    "If a package is not so fundamental that everyone need that  \n",
    "then don't install it globally.  \n",
    "Creating a **virtual environment** is a better approach."
   ]
  },
  {
   "cell_type": "code",
   "execution_count": null,
   "metadata": {},
   "outputs": [],
   "source": [
    "!virtualenv my_project ### create a virtual environment called my_project\n",
    "!source my_project/bin/activate && pip install funniesttest ### go to the virtual environment and install"
   ]
  },
  {
   "cell_type": "markdown",
   "metadata": {},
   "source": [
    "This avoids the permission issue  \n",
    "but still need internet to access the package."
   ]
  },
  {
   "cell_type": "markdown",
   "metadata": {},
   "source": [
    "### Offline installation\n",
    "Suppose you plan to install the package `funniesttest`  \n",
    "and you already have the package file obtained from [here](https://pypi.org/project/funniesttest/) on PyPI. \n",
    "\n",
    "Do the following steps (in the virtual environment if necessary)  \n",
    "1. Unpack the package by `gzip` or `tar` if necessary.\n",
    "```bash\n",
    "gzip -d filename.tar.gz\n",
    "tar -xvf filename.tar\n",
    "```\n",
    "2. Go to the folder.\n",
    "```bash\n",
    "cd foldername\n",
    "```\n",
    "3. Install with `pip`.  Note that the dot at the end is not a period!\n",
    "```Python\n",
    "pip install .\n",
    "```\n",
    "\n",
    "If the package has a file `filename.whl`, then ignore above and do\n",
    "```Python\n",
    "pip install filename.whl\n",
    "```"
   ]
  },
  {
   "cell_type": "code",
   "execution_count": null,
   "metadata": {},
   "outputs": [],
   "source": [
    "### create a virtual environment called my_project\n",
    "!virtualenv my_project "
   ]
  },
  {
   "cell_type": "code",
   "execution_count": null,
   "metadata": {},
   "outputs": [],
   "source": [
    "### unpack the package\n",
    "!cp funniesttest-1.0.tar.gz my_project\n",
    "!cd my_project && gzip -dk funniesttest-1.0.tar.gz && tar -xvf funniesttest-1.0.tar\n",
    "### show where we are and list what's in the folder\n",
    "!pwd\n",
    "!ls"
   ]
  },
  {
   "cell_type": "code",
   "execution_count": null,
   "metadata": {},
   "outputs": [],
   "source": [
    "### activate my_project\n",
    "### go to the folder\n",
    "### then install\n",
    "!source my_project/bin/activate && cd my_project/funniesttest-1.0/ && pip install ."
   ]
  },
  {
   "cell_type": "code",
   "execution_count": null,
   "metadata": {},
   "outputs": [],
   "source": [
    "### reset\n",
    "### run this cell only when \n",
    "### you want to wipe out the virtual environment\n",
    "!rm -rf my_project"
   ]
  },
  {
   "cell_type": "markdown",
   "metadata": {},
   "source": [
    "### Conclusion\n",
    "To get some experiecnes of Python, use Cloud services.  \n",
    "For machines that you are not the owner, ask IT for help.  \n",
    "For your own machine, it is nice to get your hand dirty and go through the installation by yourself."
   ]
  },
  {
   "cell_type": "markdown",
   "metadata": {},
   "source": [
    "## 2. Data types, Boolean tests, and Arithmetic operators"
   ]
  },
  {
   "cell_type": "markdown",
   "metadata": {},
   "source": [
    "Types are importants.  \n",
    "Different data types carries different properties and functions.  \n",
    "\n",
    "For example, a string carries the function `upper`,  \n",
    "but an integer does not."
   ]
  },
  {
   "cell_type": "code",
   "execution_count": null,
   "metadata": {},
   "outputs": [],
   "source": [
    "year_of_birth = 1987 ### integer\n",
    "height = 159.9 ### float \n",
    "name = 'Jephian' ### string\n",
    "boss_at_office = True ### boolean values; True or False\n",
    "yyyymmdd = (1987,3,21) ### tuple\n",
    "friends = ['John','Jim','Jacob'] ### list\n",
    "name_to_age = {'John': 15, 'Jim': 20, 'Jacob': 100} ### dictionary"
   ]
  },
  {
   "cell_type": "markdown",
   "metadata": {},
   "source": [
    "**Avoid meaningless name** for a variable.  For examples,\n",
    "```Python\n",
    "a = 1987\n",
    "b = 159.9\n",
    "c = 'Jephian'\n",
    "```\n",
    "are no good, but we still use it occasionally for convenience."
   ]
  },
  {
   "cell_type": "markdown",
   "metadata": {},
   "source": [
    "Use `type` to **check the type** of a variable."
   ]
  },
  {
   "cell_type": "code",
   "execution_count": null,
   "metadata": {},
   "outputs": [],
   "source": [
    "type(height)"
   ]
  },
  {
   "cell_type": "markdown",
   "metadata": {},
   "source": [
    "### Boolean tests\n",
    "\n",
    "A boolean test checks if a statement is `True` or `False`."
   ]
  },
  {
   "cell_type": "markdown",
   "metadata": {},
   "source": [
    "Check if an element is **in a list or not**."
   ]
  },
  {
   "cell_type": "code",
   "execution_count": null,
   "metadata": {},
   "outputs": [],
   "source": [
    "'Jeffrey' in friends"
   ]
  },
  {
   "cell_type": "code",
   "execution_count": null,
   "metadata": {},
   "outputs": [],
   "source": [
    "'John' in friends"
   ]
  },
  {
   "cell_type": "code",
   "execution_count": null,
   "metadata": {},
   "outputs": [],
   "source": [
    "1 in [2,3,5]"
   ]
  },
  {
   "cell_type": "code",
   "execution_count": null,
   "metadata": {},
   "outputs": [],
   "source": [
    "1 not in [2,3,5]"
   ]
  },
  {
   "cell_type": "markdown",
   "metadata": {},
   "source": [
    "**Compare numbers**  \n",
    "`a = 1` means assign the value of `a` as `1`.  \n",
    "`a == 1` is a boolean test to check if `a` equals `1`."
   ]
  },
  {
   "cell_type": "code",
   "execution_count": null,
   "metadata": {},
   "outputs": [],
   "source": [
    "a = 1\n",
    "a == 1"
   ]
  },
  {
   "cell_type": "code",
   "execution_count": null,
   "metadata": {},
   "outputs": [],
   "source": [
    "a == 2"
   ]
  },
  {
   "cell_type": "code",
   "execution_count": null,
   "metadata": {},
   "outputs": [],
   "source": [
    "1 > 2"
   ]
  },
  {
   "cell_type": "code",
   "execution_count": null,
   "metadata": {},
   "outputs": [],
   "source": [
    "2 > 2"
   ]
  },
  {
   "cell_type": "code",
   "execution_count": null,
   "metadata": {},
   "outputs": [],
   "source": [
    "2 >= 2"
   ]
  },
  {
   "cell_type": "code",
   "execution_count": null,
   "metadata": {},
   "outputs": [],
   "source": [
    "1 != 2 ### check if 1 is not equal to 2"
   ]
  },
  {
   "cell_type": "markdown",
   "metadata": {},
   "source": [
    "Check if a variable **is an instance of a type**"
   ]
  },
  {
   "cell_type": "code",
   "execution_count": null,
   "metadata": {},
   "outputs": [],
   "source": [
    "isinstance(1,int)"
   ]
  },
  {
   "cell_type": "code",
   "execution_count": null,
   "metadata": {},
   "outputs": [],
   "source": [
    "isinstance(1.5,float)"
   ]
  },
  {
   "cell_type": "code",
   "execution_count": null,
   "metadata": {},
   "outputs": [],
   "source": [
    "isinstance(1,float)"
   ]
  },
  {
   "cell_type": "code",
   "execution_count": null,
   "metadata": {},
   "outputs": [],
   "source": [
    "isinstance('1',int)"
   ]
  },
  {
   "cell_type": "code",
   "execution_count": null,
   "metadata": {},
   "outputs": [],
   "source": [
    "isinstance('1',str)"
   ]
  },
  {
   "cell_type": "markdown",
   "metadata": {},
   "source": [
    "### Arithmetic operators"
   ]
  },
  {
   "cell_type": "code",
   "execution_count": null,
   "metadata": {},
   "outputs": [],
   "source": [
    "print(\"23 + 4 =\", 23 + 4) ### addition\n",
    "print(\"23 - 4 =\", 23 - 4) ### substraction\n",
    "print(\"23 * 4 =\", 23 * 4) ### multiplication\n",
    "print(\"23 / 4 =\", 23 / 4) ### division\n",
    "print(\"23 ** 4 =\", 23 ** 4) ### exponent\n",
    "print(\"23 % 4 =\", 23 % 4) ### remainder\n",
    "print(\"23 // 4 =\", 23 // 4) ### integer division"
   ]
  },
  {
   "cell_type": "markdown",
   "metadata": {},
   "source": [
    "#### Exercise\n",
    "Guess the output of the following.  \n",
    "Then evaluate the cell to check the answer."
   ]
  },
  {
   "cell_type": "code",
   "execution_count": null,
   "metadata": {},
   "outputs": [],
   "source": [
    "type(2/3)"
   ]
  },
  {
   "cell_type": "code",
   "execution_count": null,
   "metadata": {},
   "outputs": [],
   "source": [
    "a = 2\n",
    "a in [2,3,5]"
   ]
  },
  {
   "cell_type": "code",
   "execution_count": null,
   "metadata": {},
   "outputs": [],
   "source": [
    "a = 2\n",
    "a in [\"a\",\"b\",\"c\"]"
   ]
  },
  {
   "cell_type": "code",
   "execution_count": null,
   "metadata": {},
   "outputs": [],
   "source": [
    "a = 2\n",
    "type(a) == int"
   ]
  },
  {
   "cell_type": "code",
   "execution_count": null,
   "metadata": {},
   "outputs": [],
   "source": [
    "a = 2.0\n",
    "type(a) == int"
   ]
  },
  {
   "cell_type": "code",
   "execution_count": null,
   "metadata": {},
   "outputs": [],
   "source": [
    "2 == 2.0 ### Python does not check the type (for numbers)!"
   ]
  },
  {
   "cell_type": "code",
   "execution_count": null,
   "metadata": {},
   "outputs": [],
   "source": [
    "(2,3,5) == [2,3,5] ### But tuples and lists are really different things..."
   ]
  },
  {
   "cell_type": "markdown",
   "metadata": {},
   "source": [
    "#### Exercise\n",
    "Guess the output.  \n",
    "Then try to figure out what are **keys** and **values** of a dictionary."
   ]
  },
  {
   "cell_type": "code",
   "execution_count": null,
   "metadata": {},
   "outputs": [],
   "source": [
    "d={\"two\":2, \"three\":3, \"five\":5}\n",
    "print(2 in d.keys())\n",
    "print(2 in d.values())"
   ]
  },
  {
   "cell_type": "markdown",
   "metadata": {},
   "source": [
    "#### Exercise\n",
    "Guess the output of the following.  \n",
    "Then evaluate the cell to check the answer.\n",
    "\n",
    "Recall that `P and Q` is `True` only when **both** `P` and `Q` are `True`,  \n",
    "and `P or Q` is `True` if **one of** `P` and `Q` are `True`."
   ]
  },
  {
   "cell_type": "code",
   "execution_count": null,
   "metadata": {},
   "outputs": [],
   "source": [
    "50 % 3 == 0"
   ]
  },
  {
   "cell_type": "code",
   "execution_count": null,
   "metadata": {},
   "outputs": [],
   "source": [
    "50 % 3 == 0 or 51 % 3 == 0"
   ]
  },
  {
   "cell_type": "code",
   "execution_count": null,
   "metadata": {},
   "outputs": [],
   "source": [
    "50%3==0 and 51%3==0"
   ]
  },
  {
   "cell_type": "markdown",
   "metadata": {},
   "source": [
    "Lists are compared by [lexicographic order](https://en.wikipedia.org/wiki/Lexicographical_order)."
   ]
  },
  {
   "cell_type": "code",
   "execution_count": null,
   "metadata": {},
   "outputs": [],
   "source": [
    "[1,2,3,4] > [2,3,4]"
   ]
  },
  {
   "cell_type": "markdown",
   "metadata": {},
   "source": [
    "Strings are compared by its [ASCII code](https://en.wikipedia.org/wiki/ASCII) with lexicographic order."
   ]
  },
  {
   "cell_type": "code",
   "execution_count": null,
   "metadata": {},
   "outputs": [],
   "source": [
    "\"Z\" > \"B\""
   ]
  },
  {
   "cell_type": "code",
   "execution_count": null,
   "metadata": {},
   "outputs": [],
   "source": [
    "\"Z\" > \"BBBBBBBBBBBBBBBBBBBBBBBBBBBBBBBBBBBBBB\""
   ]
  },
  {
   "cell_type": "markdown",
   "metadata": {},
   "source": [
    "## 3. NumPy\n",
    "\n",
    "[NumPy](http://www.numpy.org/) is a Python package that  \n",
    "takes care of high dimentional data (such as matrices).\n",
    "\n",
    "With the built-in functions in NumPy, one can easily \n",
    "modify the data, do matrix multiplication, and vector inner product etc.\n",
    "\n",
    "The official website offers a [quickstart tutorial](https://docs.scipy.org/doc/numpy/user/quickstart.html). "
   ]
  },
  {
   "cell_type": "markdown",
   "metadata": {},
   "source": [
    "`import numpy` allows you to access all functions  \n",
    "in NumPy."
   ]
  },
  {
   "cell_type": "code",
   "execution_count": null,
   "metadata": {},
   "outputs": [],
   "source": [
    "import numpy\n",
    "\n",
    "print(numpy.arange(1,10))\n",
    "print(numpy.zeros(10))"
   ]
  },
  {
   "cell_type": "markdown",
   "metadata": {},
   "source": [
    "But you don't want to type `numpy` everytime.\n",
    "```Python\n",
    "import numpy as np\n",
    "```\n",
    "allows you to abbreviate `numpy` as `np`."
   ]
  },
  {
   "cell_type": "code",
   "execution_count": null,
   "metadata": {},
   "outputs": [],
   "source": [
    "import numpy as np\n",
    "print(np.arange(1,10))\n",
    "print(np.zeros(10))"
   ]
  },
  {
   "cell_type": "markdown",
   "metadata": {},
   "source": [
    "A list is a one-dimensional array.  \n",
    "A list of lists is a two-dimensional array.  (Also called a matrix)\n",
    "\n",
    "Use `np.array(list)` to create an array."
   ]
  },
  {
   "cell_type": "code",
   "execution_count": null,
   "metadata": {},
   "outputs": [],
   "source": [
    "one_dim = np.array(\n",
    "[1,2,3,4,5]\n",
    ")\n",
    "\n",
    "two_dim = np.array(\n",
    "[\n",
    "[1,2,3,4,5],    \n",
    "[2,3,4,5,6],\n",
    "[3,4,5,6,7]\n",
    "]\n",
    ")\n",
    "\n",
    "print('one_dim =')\n",
    "print(one_dim)\n",
    "print()\n",
    "print('two_dim =')\n",
    "print(two_dim)\n",
    "print()\n",
    "print('array is a special data type in numpy:')\n",
    "print(type(one_dim))"
   ]
  },
  {
   "cell_type": "markdown",
   "metadata": {},
   "source": [
    "### Basic attributes\n",
    "\n",
    "Suppose `ndarray` is an array.  \n",
    "`ndarray.ndim` is the dimension.  \n",
    "`ndarray.shape` is the shape, the size in each dimension  \n",
    "`ndarray.size` is the total number of elements"
   ]
  },
  {
   "cell_type": "code",
   "execution_count": null,
   "metadata": {},
   "outputs": [],
   "source": [
    "print(two_dim.ndim)\n",
    "print(two_dim.shape)\n",
    "print(two_dim.size)"
   ]
  },
  {
   "cell_type": "markdown",
   "metadata": {},
   "source": [
    "### Operations\n",
    "Most operations are taken entrywisely."
   ]
  },
  {
   "cell_type": "code",
   "execution_count": null,
   "metadata": {},
   "outputs": [],
   "source": [
    "A = np.array(\n",
    "[[1,3],\n",
    "[5,7]])\n",
    "\n",
    "B = np.array(\n",
    "[[2,4]\n",
    " ,[6,8]])"
   ]
  },
  {
   "cell_type": "code",
   "execution_count": null,
   "metadata": {},
   "outputs": [],
   "source": [
    "A + 1"
   ]
  },
  {
   "cell_type": "code",
   "execution_count": null,
   "metadata": {},
   "outputs": [],
   "source": [
    "A * 2"
   ]
  },
  {
   "cell_type": "code",
   "execution_count": null,
   "metadata": {},
   "outputs": [],
   "source": [
    "A + B"
   ]
  },
  {
   "cell_type": "code",
   "execution_count": null,
   "metadata": {},
   "outputs": [],
   "source": [
    "A * B ### entrywise product"
   ]
  },
  {
   "cell_type": "code",
   "execution_count": null,
   "metadata": {},
   "outputs": [],
   "source": [
    "A @ B ### matrix product"
   ]
  },
  {
   "cell_type": "markdown",
   "metadata": {},
   "source": [
    "Exponentation is also taken entrywisely."
   ]
  },
  {
   "cell_type": "code",
   "execution_count": null,
   "metadata": {},
   "outputs": [],
   "source": [
    "A ** 2"
   ]
  },
  {
   "cell_type": "code",
   "execution_count": null,
   "metadata": {},
   "outputs": [],
   "source": [
    "2 ** A"
   ]
  },
  {
   "cell_type": "markdown",
   "metadata": {},
   "source": [
    "Functions like `log`, `exp`, `sqrt`, `sign` etc. are called **universal functions**.  \n",
    "They are also taken entrywisely."
   ]
  },
  {
   "cell_type": "code",
   "execution_count": null,
   "metadata": {},
   "outputs": [],
   "source": [
    "np.log(A)"
   ]
  },
  {
   "cell_type": "code",
   "execution_count": null,
   "metadata": {},
   "outputs": [],
   "source": [
    "np.exp(A)"
   ]
  },
  {
   "cell_type": "code",
   "execution_count": null,
   "metadata": {},
   "outputs": [],
   "source": [
    "np.sqrt(A)"
   ]
  },
  {
   "cell_type": "code",
   "execution_count": null,
   "metadata": {},
   "outputs": [],
   "source": [
    "np.sign(A)"
   ]
  },
  {
   "cell_type": "code",
   "execution_count": null,
   "metadata": {},
   "outputs": [],
   "source": [
    "np.max(A)"
   ]
  },
  {
   "cell_type": "code",
   "execution_count": null,
   "metadata": {},
   "outputs": [],
   "source": [
    "np.min(A)"
   ]
  },
  {
   "cell_type": "code",
   "execution_count": null,
   "metadata": {},
   "outputs": [],
   "source": [
    "np.sum(A)"
   ]
  },
  {
   "cell_type": "markdown",
   "metadata": {},
   "source": [
    "Comparison is entrywise and returns a **boolean array**"
   ]
  },
  {
   "cell_type": "code",
   "execution_count": null,
   "metadata": {},
   "outputs": [],
   "source": [
    "A > 4"
   ]
  },
  {
   "cell_type": "markdown",
   "metadata": {},
   "source": [
    "#### Exercise\n",
    "In a class there are 4 students.  \n",
    "`m1`, `m2`, `f` stores the scores of  \n",
    "the first midterm, the second midterm, and the final exam  \n",
    "for each of the 4 students.  \n",
    "The total points for each exam is $100$.\n",
    "\n",
    "Calculate the total scores by the following formula  \n",
    "$t = 30\\%\\ m_1 + 35\\%\\ m_2 + 35\\%\\ f.$"
   ]
  },
  {
   "cell_type": "code",
   "execution_count": null,
   "metadata": {},
   "outputs": [],
   "source": [
    "m1 = np.array([30,50,20,70])\n",
    "m2 = np.array([60,30,90,80])\n",
    "f = np.array([80,40,60,100])\n",
    "\n",
    "t"
   ]
  },
  {
   "cell_type": "markdown",
   "metadata": {},
   "source": [
    "#### Exercise\n",
    "Now you have the total scores.  \n",
    "Find the average, max, and min of the total scores."
   ]
  },
  {
   "cell_type": "code",
   "execution_count": null,
   "metadata": {},
   "outputs": [],
   "source": [
    "print(\"average:\", t.???)\n",
    "print(\"min:\", t.???)\n",
    "print(\"max:\", t.???)"
   ]
  },
  {
   "cell_type": "markdown",
   "metadata": {},
   "source": [
    "#### Exercise\n",
    "Looks like students did not do well  \n",
    "and you have to fail $3$ out of $4$ students.  \n",
    "\n",
    "Think of a (reasonable) scheme to curve the grades  \n",
    "so that no one fails.  \n",
    "(Open answer)"
   ]
  },
  {
   "cell_type": "code",
   "execution_count": null,
   "metadata": {},
   "outputs": [],
   "source": [
    "new_t = "
   ]
  },
  {
   "cell_type": "markdown",
   "metadata": {},
   "source": [
    "### Create array\n",
    "`np.array(list)` is the standard way to input an array.  \n",
    "Some arrays that are frequently used have built-in functions to create them."
   ]
  },
  {
   "cell_type": "markdown",
   "metadata": {},
   "source": [
    "Recall that `shape` is a tuple.\n",
    "\n",
    "`np.zeros(shape)` creates an all-zeros array of the given shape."
   ]
  },
  {
   "cell_type": "code",
   "execution_count": null,
   "metadata": {},
   "outputs": [],
   "source": [
    "np.zeros((3,4)) ### you need to input a shape (a tuple)"
   ]
  },
  {
   "cell_type": "markdown",
   "metadata": {},
   "source": [
    "`np.ones(shape)` creates an all-ones array of the given shape."
   ]
  },
  {
   "cell_type": "code",
   "execution_count": null,
   "metadata": {},
   "outputs": [],
   "source": [
    "np.ones((3,4))"
   ]
  },
  {
   "cell_type": "markdown",
   "metadata": {},
   "source": [
    "`np.eye(n)` returns an identity matrix of order $n$."
   ]
  },
  {
   "cell_type": "code",
   "execution_count": null,
   "metadata": {},
   "outputs": [],
   "source": [
    "np.eye(4) "
   ]
  },
  {
   "cell_type": "markdown",
   "metadata": {},
   "source": [
    "`np.arrange(a,b)` returns an array `[a,...,b-1]`. "
   ]
  },
  {
   "cell_type": "code",
   "execution_count": null,
   "metadata": {},
   "outputs": [],
   "source": [
    "np.arange(1,10)"
   ]
  },
  {
   "cell_type": "markdown",
   "metadata": {},
   "source": [
    "`np.linspace(a,b,num)` returns an array of `num` numbers  \n",
    "evenly spreaded between `a` and `b`."
   ]
  },
  {
   "cell_type": "code",
   "execution_count": null,
   "metadata": {},
   "outputs": [],
   "source": [
    "np.linspace(1,10,5)"
   ]
  },
  {
   "cell_type": "markdown",
   "metadata": {},
   "source": [
    "`np.random` contains various functions  \n",
    "to create a **random array**  \n",
    "of the shape `d0,...,dn`.\n",
    "\n",
    "`np.random.rand(d0,...,dn)`: uniform distribution on $[0,1)$  \n",
    "`np.random.randint(a,b,size=(d0,...,dn))`: uniform distribution on `a,...,b-1`  \n",
    "`np.random.randn(d0,...,dn)`: normal distribution with mean $0$ and variance $1$"
   ]
  },
  {
   "cell_type": "code",
   "execution_count": null,
   "metadata": {
    "scrolled": true
   },
   "outputs": [],
   "source": [
    "np.random.rand(2,3)"
   ]
  },
  {
   "cell_type": "code",
   "execution_count": null,
   "metadata": {
    "scrolled": true
   },
   "outputs": [],
   "source": [
    "np.random.randint(5,size=(2,3))"
   ]
  },
  {
   "cell_type": "code",
   "execution_count": null,
   "metadata": {},
   "outputs": [],
   "source": [
    "np.random.randn(2,3)"
   ]
  },
  {
   "cell_type": "markdown",
   "metadata": {},
   "source": [
    "You may **reshape** or **resize** an array.\n",
    "\n",
    "`reshape` creates a new array, while  \n",
    "`resize` modifies the original array (and returns nothing)."
   ]
  },
  {
   "cell_type": "code",
   "execution_count": null,
   "metadata": {},
   "outputs": [],
   "source": [
    "a = np.arange(8)\n",
    "b = a.reshape(2,4)\n",
    "print(a)\n",
    "print(b)"
   ]
  },
  {
   "cell_type": "code",
   "execution_count": null,
   "metadata": {},
   "outputs": [],
   "source": [
    "a = np.arange(8)\n",
    "b = a.resize(2,4)\n",
    "print(a)\n",
    "print(b)"
   ]
  },
  {
   "cell_type": "markdown",
   "metadata": {},
   "source": [
    "### Index and Axis"
   ]
  },
  {
   "cell_type": "markdown",
   "metadata": {},
   "source": [
    "A high-dimensional array is  \n",
    "a list of a list of ... of a list."
   ]
  },
  {
   "cell_type": "code",
   "execution_count": null,
   "metadata": {},
   "outputs": [],
   "source": [
    "a = np.arange(24).reshape(2,3,4)\n",
    "a"
   ]
  },
  {
   "cell_type": "markdown",
   "metadata": {},
   "source": [
    "`a` is a list of two two-dimensional arrays `a[0]` and `a[1]`"
   ]
  },
  {
   "cell_type": "code",
   "execution_count": null,
   "metadata": {},
   "outputs": [],
   "source": [
    "a[0]"
   ]
  },
  {
   "cell_type": "markdown",
   "metadata": {},
   "source": [
    "`a[0]` is a list of three one-dimensional arrays `a[0][0]`, `a[0][1]`, and `a[0][2]`."
   ]
  },
  {
   "cell_type": "code",
   "execution_count": null,
   "metadata": {},
   "outputs": [],
   "source": [
    "a[0][2]"
   ]
  },
  {
   "cell_type": "markdown",
   "metadata": {},
   "source": [
    "Therefore, you may use \n",
    "`a[i][j][k]` to reach every entry.  \n",
    "That is, `i`, `j`, and `k` control  \n",
    "the $0$-th, the $1$-st, and the $2$-nd axes."
   ]
  },
  {
   "cell_type": "markdown",
   "metadata": {},
   "source": [
    "### Statistics functions\n",
    "`sum`, `min`, `max` allow you to understand the statistic of the data."
   ]
  },
  {
   "cell_type": "code",
   "execution_count": null,
   "metadata": {},
   "outputs": [],
   "source": [
    "scores = np.array([60,80,70,100])"
   ]
  },
  {
   "cell_type": "code",
   "execution_count": null,
   "metadata": {},
   "outputs": [],
   "source": [
    "scores.min()"
   ]
  },
  {
   "cell_type": "code",
   "execution_count": null,
   "metadata": {},
   "outputs": [],
   "source": [
    "scores.max()"
   ]
  },
  {
   "cell_type": "code",
   "execution_count": null,
   "metadata": {},
   "outputs": [],
   "source": [
    "scores.sum()"
   ]
  },
  {
   "cell_type": "code",
   "execution_count": null,
   "metadata": {},
   "outputs": [],
   "source": [
    "### average\n",
    "scores.sum() / scores.size"
   ]
  },
  {
   "cell_type": "markdown",
   "metadata": {},
   "source": [
    "These functions can be applied to a high-dimensional array  \n",
    "**along a given axis**."
   ]
  },
  {
   "cell_type": "code",
   "execution_count": null,
   "metadata": {},
   "outputs": [],
   "source": [
    "a = np.arange(24).reshape(2,3,4)\n",
    "a"
   ]
  },
  {
   "cell_type": "code",
   "execution_count": null,
   "metadata": {},
   "outputs": [],
   "source": [
    "a.sum(axis=0)"
   ]
  },
  {
   "cell_type": "code",
   "execution_count": null,
   "metadata": {},
   "outputs": [],
   "source": [
    "a.max(axis=1)"
   ]
  },
  {
   "cell_type": "code",
   "execution_count": null,
   "metadata": {},
   "outputs": [],
   "source": [
    "a.min(axis=2)"
   ]
  },
  {
   "cell_type": "markdown",
   "metadata": {},
   "source": [
    "The **histogram** categorizes the data and count the amount in each category."
   ]
  },
  {
   "cell_type": "code",
   "execution_count": null,
   "metadata": {},
   "outputs": [],
   "source": [
    "a = np.random.randn(1000)\n",
    "np.histogram(a)"
   ]
  },
  {
   "cell_type": "markdown",
   "metadata": {},
   "source": [
    "`matplotlib` is a plotting library  \n",
    "and we will talk more about it later."
   ]
  },
  {
   "cell_type": "code",
   "execution_count": null,
   "metadata": {},
   "outputs": [],
   "source": [
    "import matplotlib.pyplot as plt\n",
    "\n",
    "(n, bins) = np.histogram(a)\n",
    "plt.plot(.5*(bins[1:]+bins[:-1]), n)\n",
    "plt.show()"
   ]
  },
  {
   "cell_type": "markdown",
   "metadata": {},
   "source": [
    "## Homework"
   ]
  },
  {
   "cell_type": "markdown",
   "metadata": {},
   "source": [
    "**Remember to import numpy as np**"
   ]
  },
  {
   "cell_type": "code",
   "execution_count": null,
   "metadata": {},
   "outputs": [],
   "source": [
    "import numpy as np"
   ]
  },
  {
   "cell_type": "markdown",
   "metadata": {},
   "source": [
    "#### Problem 1\n",
    "Create an array `a` by `arange(16)`  \n",
    "then `reshape` it to shape `(2,2,2,2)`.\n",
    "\n",
    "Take the maximum of `a` along axis 0.\n",
    "\n",
    "Can you do it in one line?"
   ]
  },
  {
   "cell_type": "code",
   "execution_count": null,
   "metadata": {},
   "outputs": [],
   "source": [
    "### Your answer below \n"
   ]
  },
  {
   "cell_type": "markdown",
   "metadata": {},
   "source": [
    "#### Problem 2\n",
    "When you take the sum of a boolean array,  \n",
    "`True` is treated as `1` and `False` is treated as `0`,  \n",
    "so the sum of a boolean array is the number of `True` in the array.\n",
    "\n",
    "Use this fact to find the number of positive entries in `a`."
   ]
  },
  {
   "cell_type": "code",
   "execution_count": 21,
   "metadata": {},
   "outputs": [
    {
     "data": {
      "text/plain": [
       "array([ 1.3315865 ,  0.71527897, -1.54540029, -0.00838385,  0.62133597,\n",
       "       -0.72008556,  0.26551159,  0.10854853,  0.00429143, -0.17460021,\n",
       "        0.43302619,  1.20303737, -0.96506567,  1.02827408,  0.22863013,\n",
       "        0.44513761, -1.13660221,  0.13513688,  1.484537  , -1.07980489,\n",
       "       -1.97772828, -1.7433723 ,  0.26607016,  2.38496733,  1.12369125,\n",
       "        1.67262221,  0.09914922,  1.39799638, -0.27124799,  0.61320418,\n",
       "       -0.26731719, -0.54930901,  0.1327083 , -0.47614201,  1.30847308,\n",
       "        0.19501328,  0.40020999, -0.33763234,  1.25647226, -0.7319695 ,\n",
       "        0.66023155, -0.35087189, -0.93943336, -0.48933722, -0.80459114,\n",
       "       -0.21269764, -0.33914025,  0.31216994,  0.56515267, -0.14742026,\n",
       "       -0.02590534,  0.2890942 , -0.53987907,  0.70816002,  0.84222474,\n",
       "        0.2035808 ,  2.39470366,  0.91745894, -0.11227247, -0.36218045,\n",
       "       -0.23218226, -0.5017289 ,  1.12878515, -0.69781003, -0.08112218,\n",
       "       -0.52929608,  1.04618286, -1.41855603, -0.36249918, -0.12190569,\n",
       "        0.31935642,  0.4609029 , -0.21578989,  0.98907246,  0.31475378,\n",
       "        2.46765106, -1.50832149,  0.62060066, -1.04513254, -0.79800882,\n",
       "        1.98508459,  1.74481415, -1.85618548, -0.2227737 , -0.06584785,\n",
       "       -2.13171211, -0.04883051,  0.39334122,  0.21726515, -1.99439377,\n",
       "        1.10770823,  0.24454398, -0.06191203, -0.75389296,  0.71195902,\n",
       "        0.91826915, -0.48209314,  0.08958761,  0.82699862, -1.95451212,\n",
       "        0.11747566, -1.90745689, -0.92290926,  0.46975143, -0.14436676,\n",
       "       -0.40013835, -0.29598385,  0.84820861,  0.70683045, -0.78726893,\n",
       "        0.29294072, -0.47080725,  2.40432561, -0.73935674, -0.31282876,\n",
       "       -0.34888192, -0.43902624,  0.14110417,  0.27304932, -1.61857075,\n",
       "       -0.57311336, -1.32044755,  1.23620533,  2.46532508,  1.38323223,\n",
       "        0.34623312,  1.02251611,  0.16681027,  1.65671662,  0.66788961,\n",
       "       -0.22994664, -1.12955119, -0.6399626 ,  0.31383052, -1.22583598,\n",
       "       -0.22179314,  1.33992631,  0.02930971,  1.98538575,  1.4471656 ,\n",
       "       -0.28762941, -1.35931057, -0.04804133, -0.48078734,  0.37775309,\n",
       "        1.61440797, -1.12310404, -0.38872795,  0.33234995,  1.13497317,\n",
       "        0.51071441,  0.41429764,  1.34454942,  0.49351532, -0.23700418,\n",
       "        0.05728515, -0.70707145,  0.54666484,  0.94250041, -2.97959677,\n",
       "        1.21814885, -0.05652072,  0.46088845,  0.66237401, -2.29510333,\n",
       "       -1.19592931, -0.33310116, -0.79139077,  0.27417278, -0.51490992,\n",
       "       -1.7110712 ,  0.61229731,  1.10012937,  0.56435253, -0.71279944,\n",
       "       -0.26085948,  0.54842807,  0.60319905,  1.00686114, -0.29442601,\n",
       "       -1.42088052, -0.67894677,  0.53388481,  0.7439744 ,  2.22504964,\n",
       "        0.11718142,  0.24461452, -0.17729882, -0.40572953,  0.78177519,\n",
       "        0.35347761, -0.20727949, -1.07969738, -0.12306983, -0.39098219,\n",
       "        1.25517373,  0.94712608, -1.02231069,  1.16716837, -0.57197681,\n",
       "        0.1331375 ,  1.20274387, -1.02475297,  0.16039916, -1.13047529,\n",
       "       -1.94129968,  0.98659782,  0.02822737, -0.8223676 , -1.58655176,\n",
       "       -0.40147282,  1.34217928,  0.40246909, -0.37276142, -0.67202344,\n",
       "        0.10581208, -1.54730539,  1.34480651,  0.50318918,  1.1943506 ,\n",
       "       -0.56350567,  0.85482876,  0.68790473, -1.53306872,  0.1489607 ,\n",
       "        0.31511117, -0.57491766, -0.36017113,  0.4361853 , -0.03791788,\n",
       "       -1.00471635,  0.59145309,  0.22781736,  0.24917866,  0.09576324,\n",
       "        0.44902173, -0.28600201, -0.8627583 , -0.74182484,  1.10557514,\n",
       "       -2.01771865,  0.54054071, -1.44229888, -1.60885036, -1.00656856,\n",
       "       -0.25753362,  0.73050745, -1.69840149,  1.67407555,  1.1637237 ,\n",
       "       -0.13257359, -0.29024581, -0.95353242,  0.58804059,  0.06880147,\n",
       "        1.4120643 , -0.68621561,  0.54794393, -0.03638254, -0.84701625,\n",
       "        1.90230404,  0.27960539,  0.6202545 , -1.06856771, -0.72262073,\n",
       "        0.08413956, -0.58445516,  0.60202227,  0.43836524, -0.78234319,\n",
       "        0.19293598,  0.00402491, -0.16407529, -1.14881226, -0.8355085 ,\n",
       "        0.21045073,  1.01398463, -0.97019782,  1.21718156,  0.18264738,\n",
       "       -1.26981959,  0.32338993,  0.88577486,  0.26439469,  2.31912732,\n",
       "        0.30866767,  0.89256403,  0.0110227 ,  0.98007413, -2.39557201,\n",
       "       -0.85752252, -0.36427809,  0.5039269 ,  0.18833121,  1.08522707,\n",
       "        0.35693907,  0.20732957, -0.14506454,  0.16390425,  0.82951248,\n",
       "        0.75529996,  0.87948569, -0.2399563 , -0.69505665, -0.47140008,\n",
       "        0.34947641,  1.61145729,  0.23933927,  0.48500263, -1.65860471,\n",
       "        2.67991031, -1.10352213,  1.81778261, -0.55604734,  0.95771124,\n",
       "        0.81522068,  0.0643194 , -0.16640537, -0.94070977, -0.0535945 ,\n",
       "        1.1011362 ,  0.37212255, -0.88346099,  1.15805157, -1.20365349,\n",
       "        0.20983914, -0.89118692, -0.78268775,  1.07973068, -0.46284089,\n",
       "       -1.51507568, -0.53871853,  0.75662186, -0.72939922,  1.21478265,\n",
       "        1.00828297,  0.07328301,  1.17373241,  1.86295167, -1.9836365 ,\n",
       "        1.15668893,  0.60928227, -0.32320123,  0.66414561,  0.39672599,\n",
       "       -0.57611686,  1.48821839,  0.14024687,  1.18831675, -0.24574539,\n",
       "       -1.63558662,  0.24479809, -0.23508223, -1.26082781, -1.69196793,\n",
       "        0.61645092,  1.26969128,  1.39733798,  0.53422496,  0.00410204,\n",
       "        0.18941984,  0.04477469,  0.79468527, -0.49314074, -1.26158974,\n",
       "       -0.21926026,  0.19727222, -0.25528045,  0.02580759,  2.20096644,\n",
       "        0.8843676 , -1.38682253,  0.65366231, -2.17660863,  0.61894892,\n",
       "        0.4772343 ,  0.02609653, -0.96970567, -0.98372812,  0.41253272,\n",
       "       -0.61430485,  0.83708178, -0.62361901, -0.3631862 ,  0.75947133,\n",
       "       -0.033927  , -0.16640069,  0.26957242,  0.37530555, -0.08391524,\n",
       "        0.22612635, -0.11588073,  0.41160241,  0.28781043,  0.50427148,\n",
       "        0.80426736, -1.03060821, -1.35769756, -0.26650187, -0.1712928 ,\n",
       "        0.46238555, -1.21985553,  0.19257284,  0.43545039, -1.63494414,\n",
       "        0.43493727,  1.39781939,  0.12466678, -0.8914514 , -0.57689334,\n",
       "       -0.07494887, -0.52177645, -3.20440134,  1.46271099, -0.46690262,\n",
       "       -0.1790197 ,  0.92474763,  0.23524476, -0.48860826, -0.09298154,\n",
       "        0.53540138,  0.5508447 , -0.19152205,  0.79469763,  0.7850965 ,\n",
       "       -0.48772442, -1.00586486,  0.32757537,  0.57904845, -0.45992555,\n",
       "       -0.43581591,  0.53626855,  0.15701498,  1.35878914,  0.51534525,\n",
       "        2.38412462,  0.52919027, -0.89614384, -0.19781012, -0.09547583,\n",
       "       -1.68044592,  0.6767082 ,  0.06072782, -0.02304119, -0.55331843,\n",
       "       -1.10612324, -0.21713489, -0.87542238,  0.01078143, -0.90624682,\n",
       "       -1.41575321,  0.09470831,  0.19380061,  0.54323509,  0.05633578,\n",
       "        1.46565501, -0.63596921,  1.10950523, -0.99263248, -0.68234147,\n",
       "       -0.4092692 , -0.24747527,  1.52785112, -0.64943837, -1.26901553,\n",
       "        0.75487607, -0.02390844, -1.55754247,  0.34635158,  0.9423645 ,\n",
       "       -0.38547682,  1.56020878,  1.54516176, -0.69168765,  0.86451847,\n",
       "       -2.09779187,  0.17029469, -0.75782965,  0.96781042, -0.87452504,\n",
       "        1.02784039, -0.80288963, -0.42830341, -0.75541583,  0.2204969 ,\n",
       "       -1.37311418,  0.64675834, -0.67350181,  2.2418665 , -0.24648712,\n",
       "       -0.76360434,  0.48078874, -0.8317992 ,  0.59318923, -0.44877914,\n",
       "        0.48769594,  0.05631473,  0.54578447, -0.6831224 , -0.65901731,\n",
       "        1.43925373,  1.38214662,  0.92132043, -0.57288722,  1.2750491 ,\n",
       "       -0.32883204, -0.14634081,  1.05843664, -0.11108044, -0.03888113,\n",
       "       -0.32236349, -0.66576573, -0.70462   , -0.35376273,  0.15192742,\n",
       "       -0.30420017, -1.17885437, -0.14913271, -0.22509685,  0.07015437,\n",
       "        0.45206723,  0.29406926, -0.82751001, -0.82847122, -0.49250746,\n",
       "       -0.75162044, -1.58838082, -0.46873071, -1.43111847, -1.26349686,\n",
       "       -1.24024863, -1.05311597, -1.13219774, -0.91094606, -0.26023989,\n",
       "        0.81465452, -1.34734147,  1.05952833,  0.52454074,  0.53348902,\n",
       "       -0.25355802,  0.19212229,  0.56292179,  0.62745097, -0.33994862,\n",
       "        0.73717898,  1.20290292,  0.97055953,  0.70387872, -0.60498772,\n",
       "        0.00471054,  0.14703394, -0.46253912,  0.21855883,  0.16875361,\n",
       "       -0.04999718, -0.14990615, -0.03532806,  0.03361653, -0.36657599,\n",
       "       -0.42421142, -0.05084965, -1.1237542 , -1.85735817, -0.21652493,\n",
       "       -1.1792045 ,  1.64476113,  0.7234292 ,  1.2481493 ,  0.73272577,\n",
       "       -0.32102274,  0.50089497,  0.51994231, -1.37787583,  0.78471065,\n",
       "       -0.89630767, -1.17833793,  0.74118741, -0.57284933, -0.96100534,\n",
       "        1.18791799, -1.766165  , -0.77041166,  1.12424192,  2.67168509,\n",
       "        0.0644455 ,  0.91348431, -0.99700621,  2.07504867, -0.59018653,\n",
       "       -2.81600122,  0.10954443,  0.14266929, -0.78403556,  0.25761074,\n",
       "        1.31292275, -1.34902537,  0.50013685, -0.98458665,  1.48597941,\n",
       "        0.57069346, -0.51287519,  0.27578242, -0.38928154,  0.64852942,\n",
       "       -0.02442854,  1.30848715,  2.66257747,  0.3427264 ,  0.87263017,\n",
       "        0.37739701, -0.50665938,  0.48301613,  0.97690603,  0.84684129,\n",
       "        0.15665176, -0.15452177,  1.83014715,  0.9291113 ,  1.38253749,\n",
       "       -0.65226136,  1.42285335, -1.45884438,  0.47764894,  0.02940079,\n",
       "        0.16181279, -0.4109236 ,  0.93083563,  0.53826865,  0.1951928 ,\n",
       "        2.06562572,  1.04205241,  0.18331842, -0.0114885 , -1.98710415,\n",
       "       -0.64083229, -0.48139455, -0.81091181, -0.10887355,  1.82078065,\n",
       "        0.51406994, -0.23466746, -1.08557864,  0.95174596, -0.23039221,\n",
       "        1.86998782,  0.15772498,  1.43363653,  0.47263943,  0.07565892,\n",
       "        0.12614487,  0.62558194, -0.02692264, -1.56744801, -1.88485017,\n",
       "       -0.71751222, -0.81793638,  0.20937109, -0.13062092,  0.4929852 ,\n",
       "       -0.22276607,  0.56187246,  0.33805934,  1.1038729 , -0.90029956,\n",
       "       -1.90101374, -0.62085433,  0.72849346, -0.65844022, -0.47903457,\n",
       "       -1.2891247 , -0.97419959, -0.19410253, -1.74673584, -0.15097705,\n",
       "        0.01792319, -0.1983205 ,  0.12464616, -0.66375092,  1.28157384,\n",
       "        0.79223948, -0.79110195, -0.07660501, -0.66423733,  1.27182062,\n",
       "       -0.11955298, -1.20097861,  0.8461851 ,  0.61122978, -0.20360308,\n",
       "       -0.52417382, -0.41857402, -0.06191621, -1.05884829,  1.80524558,\n",
       "       -0.07402322,  2.2048857 , -0.45208929, -0.20943596, -0.29468436,\n",
       "        0.90649216,  0.99925449,  0.31538431,  1.13779947,  1.15809636,\n",
       "        0.99976052, -0.41644862, -1.1437764 , -1.62644682, -1.45878942,\n",
       "       -0.31582535, -1.28893581, -0.10835998,  1.49323333, -0.15609358,\n",
       "       -1.8916454 ,  0.84036616, -0.22519884, -0.49942025, -0.2710179 ,\n",
       "       -1.32536587,  0.01854814,  0.75455492, -1.02480269,  0.56993354,\n",
       "        0.60921041, -0.56831517,  1.00919604, -1.15871766,  0.43973267,\n",
       "       -0.14354244, -0.08248056,  0.38857802,  0.21378472, -1.96251852,\n",
       "       -1.29686213, -1.0805965 , -0.23604735,  0.78004631,  1.05881702,\n",
       "        0.67174093,  0.1751395 , -0.97026327,  1.18135183,  0.10593637,\n",
       "       -1.23801753, -0.6199459 ,  1.21806011,  1.43390143, -0.9359095 ,\n",
       "        2.10803801,  0.91170837,  0.56816708, -1.16946767,  2.15197051,\n",
       "       -0.05322489, -0.7517719 , -0.43377268, -0.10487678, -0.99042389,\n",
       "        0.61397804, -0.11721347, -1.73232142, -0.87380172, -1.13469532,\n",
       "       -0.80779633, -0.54964762,  0.18745644, -0.29465808, -0.18692131,\n",
       "       -0.74924724,  0.68684841, -0.27707039,  1.99000551, -0.89363995,\n",
       "       -0.0410125 ,  1.30026905, -1.14609583, -0.95094899, -1.11565915,\n",
       "       -0.12986709, -0.29308894,  0.21352913,  1.1180308 , -1.15646365,\n",
       "       -0.3854609 ,  0.39932737, -2.5114691 , -0.52660803, -0.4557819 ,\n",
       "       -0.60510397,  0.28393092,  1.09712083, -0.53857737,  2.19559674,\n",
       "       -0.70264379, -0.06059956,  0.21722822, -1.52503429,  0.45789197,\n",
       "        0.02104322,  0.15637152,  1.03765419,  0.0456659 ,  1.10733615,\n",
       "       -1.33778905, -0.25366672,  1.25487984, -0.08054517, -1.22084226,\n",
       "       -1.15592609, -0.75733985, -1.31239141,  0.49534851, -2.81506131,\n",
       "       -0.8213783 , -1.39065058, -1.37324267, -0.56955169, -1.23493338,\n",
       "        0.47759765, -0.78947914, -0.55223528,  0.83763692,  0.27271782,\n",
       "        0.12625548, -0.02585842, -1.12434222,  0.30157279,  2.11859144,\n",
       "       -0.26296614, -1.00338794, -1.51779623, -1.9219949 , -0.34334525,\n",
       "       -0.54036433,  1.04516951, -0.07993524,  0.66139496,  0.62338841,\n",
       "        1.19860183, -0.30878081,  0.97016799,  0.45104621, -1.06270672,\n",
       "       -1.02514204,  0.41961402, -0.31533228, -2.21075441,  0.25678984,\n",
       "        0.26052936,  0.19817991,  1.52585204, -0.39827225, -1.53639521,\n",
       "        0.63414906,  0.15490281,  0.60067678,  0.64728549,  0.14956441,\n",
       "       -0.55134257, -0.06550241, -0.15811673, -0.45631518,  0.15687211,\n",
       "       -0.11979477,  0.04874271, -1.09017858, -0.28563565, -1.14653188,\n",
       "       -1.05849849,  1.37679834, -1.01684926,  0.48559977, -1.6840774 ,\n",
       "       -0.1035635 ,  1.04289171,  0.78485573, -0.74148923,  0.79374125,\n",
       "       -0.37241575, -0.96732609, -1.20766924, -2.00797519,  0.46949621,\n",
       "        0.77565422,  1.67106649, -0.35123998, -0.3276997 , -0.55888189,\n",
       "        0.31226998,  0.15671559, -1.50502675,  0.47714565,  0.57100737,\n",
       "        0.25406946, -0.24123882, -1.91688659,  0.10119508, -0.10680276,\n",
       "       -0.46598389,  0.06776726, -0.22446677,  0.07173831, -0.11676156,\n",
       "       -0.46985865, -1.10920849, -1.23845939,  0.34138765, -0.03696753,\n",
       "        0.40695969,  0.43653496, -0.12890429,  1.91565259, -0.50227644,\n",
       "        0.06769361, -0.50752999, -0.35904382, -1.03379607,  0.6800452 ,\n",
       "       -0.53000256,  0.65559699,  1.06412865, -0.02126492, -0.53141996,\n",
       "        0.30976222,  0.56538625,  0.64944604, -1.32758916,  1.50501993,\n",
       "       -0.87881151, -1.38021567,  0.61531995, -0.34454878,  0.10943326,\n",
       "        0.21527794,  1.72038687,  0.14942226,  0.46969198, -0.33932212,\n",
       "       -0.70491089,  0.86202585,  0.58784967,  1.57534208, -0.77088702,\n",
       "        0.37128083,  0.77146975, -1.66863267, -1.27416841,  0.49216775,\n",
       "        0.23182223, -0.63869248,  0.91093239, -0.89547524, -1.4405723 ,\n",
       "        0.08498287,  0.13216815,  0.94629866,  0.22422744,  0.83351469,\n",
       "       -0.96898925,  0.86417055, -1.04438315,  1.02783893, -0.19682771,\n",
       "       -0.00816779, -0.4141195 , -0.12881374, -0.31907968, -1.46141364,\n",
       "       -0.8284107 , -0.62530155,  0.26678601,  0.52601469, -0.30809239,\n",
       "        0.38403779,  0.45069168, -0.30943563, -2.43420867,  0.03488046,\n",
       "        1.45401834, -0.54025642,  0.74015204, -0.70828994, -0.65772807,\n",
       "        2.11109854, -0.07296694, -0.94239313,  1.14500866,  0.31087638,\n",
       "        0.3921338 , -1.89459389, -0.34151164,  0.06977371, -0.16035707,\n",
       "       -1.01433918, -0.33182775,  1.4406974 , -0.39021786,  0.64245062])"
      ]
     },
     "execution_count": 21,
     "metadata": {},
     "output_type": "execute_result"
    }
   ],
   "source": [
    "### The first few lines give you an array a.\n",
    "np.random.seed(10)\n",
    "a = np.random.randn(1000)\n",
    "np.random.seed(None)\n",
    "\n",
    "### Your answer below\n",
    "a"
   ]
  },
  {
   "cell_type": "markdown",
   "metadata": {},
   "source": [
    "#### Problem 3\n",
    "Suppose you have a dice and you roll it 10000 times.  \n",
    "The you store the number you get each time in the array `nums`.  \n",
    "\n",
    "Do you think it is a fair dice?  Why?  \n",
    "(You can write your answer as a comment in the code or print it.)\n",
    "\n",
    "If it is not fair, which number occurs much more often than the others?  \n",
    "(The numbers on the dice are 1,...,6.)"
   ]
  },
  {
   "cell_type": "code",
   "execution_count": 22,
   "metadata": {},
   "outputs": [
    {
     "data": {
      "text/plain": [
       "array([1., 6., 4., ..., 5., 6., 5.])"
      ]
     },
     "execution_count": 22,
     "metadata": {},
     "output_type": "execute_result"
    }
   ],
   "source": [
    "### The first few lines give you the array nums.\n",
    "import random\n",
    "random.seed(10)\n",
    "k = random.randint(1,6)\n",
    "random.seed(None)\n",
    "nums = np.hstack((np.random.randint(1,7,3000),k*np.ones(4000),np.random.randint(1,7,3000)))\n",
    "\n",
    "### Your answer below\n",
    "nums"
   ]
  },
  {
   "cell_type": "markdown",
   "metadata": {},
   "source": [
    "#### Problem 4\n",
    "Use the same `nums` in Problem 3.  \n",
    "\n",
    "Use `np.histogram` to output the frequency of each number.  \n",
    "(Hint:  Read the documentation of `histogram` and  \n",
    "set `bins` as 6 and set `range` from 0.5 to 6.5."
   ]
  },
  {
   "cell_type": "code",
   "execution_count": null,
   "metadata": {},
   "outputs": [],
   "source": [
    "### Your answer below\n",
    "np.histogram(???)"
   ]
  },
  {
   "cell_type": "markdown",
   "metadata": {},
   "source": [
    "#### Problem 5\n",
    "Now try to create a fair dice by `np.random.randint`.  \n",
    "Roll it 10000 times and store the number in `fair_nums`.  \n",
    "Use Problem 4 to see how fair it is."
   ]
  },
  {
   "cell_type": "code",
   "execution_count": null,
   "metadata": {},
   "outputs": [],
   "source": [
    "### Your answer below\n",
    "fair_nums = np.random.randint(???)\n",
    "np.histogram(???)"
   ]
  }
 ],
 "metadata": {
  "celltoolbar": "Raw Cell Format",
  "kernelspec": {
   "display_name": "Python 3 (Ubuntu Linux)",
   "language": "python",
   "name": "python3"
  },
  "language_info": {
   "codemirror_mode": {
    "name": "ipython",
    "version": 3
   },
   "file_extension": ".py",
   "mimetype": "text/x-python",
   "name": "python",
   "nbconvert_exporter": "python",
   "pygments_lexer": "ipython3",
   "version": "3.6.7"
  }
 },
 "nbformat": 4,
 "nbformat_minor": 2
}
