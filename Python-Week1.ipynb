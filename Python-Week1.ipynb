{
 "cells": [
  {
   "cell_type": "markdown",
   "metadata": {},
   "source": [
    "# Python\n",
    "## Week 1:  Python Basics and NumPy"
   ]
  },
  {
   "cell_type": "markdown",
   "metadata": {},
   "source": [
    "<a rel=\"license\" href=\"http://creativecommons.org/licenses/by/4.0/\"><img alt=\"Creative Commons License\" style=\"border-width:0\" src=\"https://i.creativecommons.org/l/by/4.0/88x31.png\" /></a><br />This work by <span xmlns:cc=\"http://creativecommons.org/ns#\" property=\"cc:attributionName\">Jephian Lin</span> is licensed under a <a rel=\"license\" href=\"http://creativecommons.org/licenses/by/4.0/\">Creative Commons Attribution 4.0 International License</a>."
   ]
  },
  {
   "cell_type": "markdown",
   "metadata": {},
   "source": [
    "## 1. Basic concepts and where to ask for help"
   ]
  },
  {
   "cell_type": "markdown",
   "metadata": {},
   "source": [
    "### What is Python?\n",
    "* Python is a programming language designed for **readability**\n",
    "* Python has many *convenient* features making it **relatively slow**\n",
    "* Python is popular because the **wide variety of packages**"
   ]
  },
  {
   "cell_type": "markdown",
   "metadata": {},
   "source": [
    "### Python? Anaconda?\n",
    "* Python was created by **Guido van Rossum** in 1991\n",
    "* Guido likes the British comedy group **Monty Python**, so he named it as Python\n",
    "* In terms of biology, both Python and Anaconda are both snakes  [(One is longer, the other is heavier)](http://www.differencebetween.net/science/nature/difference-between-python-and-anaconda/)\n",
    "* In terms of computer science, **Anaconda is a Python distribution**, containing many Python packages.\n",
    "* Both [Python](https://www.python.org/) and [Anaconda](https://www.anaconda.com/) can be downloaded from web and install on your own machine."
   ]
  },
  {
   "cell_type": "markdown",
   "metadata": {},
   "source": [
    "### Cloud services\n",
    "* Free cloud services are getting popular:\n",
    "* [Kaggle](https://www.kaggle.com/), [Colaboratory](https://colab.research.google.com/), [CoCalc](https://cocalc.com), etc.\n",
    "* Uh... Kaggle and Colaboratory thrived independently, but are then bought by Google...\n",
    "* CoCalc was aim on mathematical computations, especially on algebra system, and it uses Google servers...\n",
    "* For basic computation, you really don't need to install Python on your own machine, provided that you have internet..."
   ]
  },
  {
   "cell_type": "markdown",
   "metadata": {},
   "source": [
    "### Script?\n",
    "* running Python by command lines (default option)\n",
    "* fast, offline, easy to interact with other applications\n",
    "\n",
    "### Notebook?\n",
    "* running Python on a browser (e.g., **Jupyter**)\n",
    "* cross-platform, used by most Cloud services, rich text format"
   ]
  },
  {
   "cell_type": "markdown",
   "metadata": {},
   "source": [
    "### Your best friends\n",
    "* `shift+enter`: evaluate a cell\n",
    "* `tab`: autocomplete or show the possible complettions\n",
    "* _object_.: press `tab` to see functions under _object_\n",
    "* _func_?: evaluate to read the documentation of _func_\n",
    "* _func_??: evaluate to read the source code of _func_\n",
    "* Google: the answers are likely available online"
   ]
  },
  {
   "cell_type": "markdown",
   "metadata": {},
   "source": [
    "Press `shift+enter` to evaluate the cell below."
   ]
  },
  {
   "cell_type": "code",
   "execution_count": null,
   "metadata": {},
   "outputs": [],
   "source": [
    "1+1"
   ]
  },
  {
   "cell_type": "markdown",
   "metadata": {},
   "source": [
    "Move your text cursor to the end of `ran` and press `tab`.  \n",
    "Jupyter will autocomplete `ran` to be `range`.\n"
   ]
  },
  {
   "cell_type": "code",
   "execution_count": null,
   "metadata": {},
   "outputs": [],
   "source": [
    "ran"
   ]
  },
  {
   "cell_type": "markdown",
   "metadata": {},
   "source": [
    "After you tell Python what `a` is, type `a.` and press `tab` to see related functions."
   ]
  },
  {
   "cell_type": "code",
   "execution_count": null,
   "metadata": {},
   "outputs": [],
   "source": [
    "a = 'Hello'\n",
    "type(a)"
   ]
  },
  {
   "cell_type": "code",
   "execution_count": null,
   "metadata": {},
   "outputs": [],
   "source": [
    "a."
   ]
  },
  {
   "cell_type": "code",
   "execution_count": null,
   "metadata": {},
   "outputs": [],
   "source": [
    "a.count('l')"
   ]
  },
  {
   "cell_type": "markdown",
   "metadata": {},
   "source": [
    "Different objects have different functions associated with them.  \n",
    "For example, \n",
    "```Python\n",
    "a = 'Hello'\n",
    "a.upper()\n",
    "```\n",
    "will return `HELLO`, but \n",
    "```Python\n",
    "a = 1 \n",
    "a.upper()\n",
    "```\n",
    "will return AttributeError."
   ]
  },
  {
   "cell_type": "code",
   "execution_count": null,
   "metadata": {},
   "outputs": [],
   "source": [
    "a = 1\n",
    "type(a)"
   ]
  },
  {
   "cell_type": "code",
   "execution_count": null,
   "metadata": {},
   "outputs": [],
   "source": [
    "a.upper()"
   ]
  },
  {
   "cell_type": "code",
   "execution_count": null,
   "metadata": {},
   "outputs": [],
   "source": [
    "### With a = 1, press tab to see functions related to an integer\n",
    "\n",
    "a."
   ]
  },
  {
   "cell_type": "markdown",
   "metadata": {},
   "source": [
    "Evaluate \n",
    "```Python\n",
    "a = 'Hello'\n",
    "a.upper?\n",
    "```\n",
    "to read the documentation of the function `upper`.  \n",
    "(And you may presss `Esc` to close the documentation.)"
   ]
  },
  {
   "cell_type": "code",
   "execution_count": null,
   "metadata": {},
   "outputs": [],
   "source": [
    "a = 'Hello'\n",
    "a.upper?"
   ]
  },
  {
   "cell_type": "markdown",
   "metadata": {},
   "source": [
    "The function `upper` is associated with a string, so only `upper?` wouldn't work."
   ]
  },
  {
   "cell_type": "code",
   "execution_count": null,
   "metadata": {},
   "outputs": [],
   "source": [
    "upper?"
   ]
  },
  {
   "cell_type": "markdown",
   "metadata": {},
   "source": [
    "To become an expert, you will read others' code and see how they deal with it.  \n",
    "Use ``??`` to check the source code if available."
   ]
  },
  {
   "cell_type": "code",
   "execution_count": null,
   "metadata": {},
   "outputs": [],
   "source": [
    "import random\n",
    "\n",
    "random.randint??"
   ]
  },
  {
   "cell_type": "code",
   "execution_count": null,
   "metadata": {},
   "outputs": [],
   "source": [
    "### evaluate this cell several times to get different numbers\n",
    "\n",
    "random.randint(1,5)"
   ]
  },
  {
   "cell_type": "markdown",
   "metadata": {},
   "source": [
    "Finally, Google is always ready to help.  \n",
    "For example, Google \"how to swap two variables in python\"."
   ]
  },
  {
   "cell_type": "code",
   "execution_count": null,
   "metadata": {},
   "outputs": [],
   "source": [
    "a = 1\n",
    "b = 2\n",
    "a,b = b,a\n",
    "print(a,b)"
   ]
  },
  {
   "cell_type": "markdown",
   "metadata": {},
   "source": [
    "### Assign and print\n",
    "In Python, a single `=` means to assign a value.  \n",
    "For example, `a = 'Hello'` means assign the variable `a` as a string `'Hello'`.  \n",
    "Here we call `a` as a **variable** and `'Hello'` as the **value** of the variable.\n",
    "\n",
    "To see the value of a variable, use `print`."
   ]
  },
  {
   "cell_type": "code",
   "execution_count": null,
   "metadata": {},
   "outputs": [],
   "source": [
    "a = 'Hello'\n",
    "print(a)"
   ]
  },
  {
   "cell_type": "code",
   "execution_count": null,
   "metadata": {},
   "outputs": [],
   "source": [
    "a = 123\n",
    "b = 'Hello'\n",
    "c = 'Everybody'\n",
    "print(a,b,c)"
   ]
  },
  {
   "cell_type": "code",
   "execution_count": null,
   "metadata": {},
   "outputs": [],
   "source": [
    "print(a,b,c,sep='! ')"
   ]
  },
  {
   "cell_type": "markdown",
   "metadata": {},
   "source": [
    "#### Exercise\n",
    "Now you notice the exclamation mark `!` only appears between the variables.  \n",
    "This is normal, if you read the documentation of `print`, you will see \n",
    "> sep:   string inserted between values, default a space.\n",
    "\n",
    "Read the documentation (by evaluating `print?`) carefully and find a way to output `123! Hello! Everybody!`."
   ]
  },
  {
   "cell_type": "code",
   "execution_count": null,
   "metadata": {},
   "outputs": [],
   "source": [
    "print(a,b,c,sep='! ',???)"
   ]
  },
  {
   "cell_type": "markdown",
   "metadata": {},
   "source": [
    "#### Exercise\n",
    "\n",
    "Suppose someone wrote the following:\n",
    "```Python\n",
    "a = 'I come from taiwan'\n",
    "```\n",
    "This is annoying since it should be `Taiwan` but not `taiwan`.  \n",
    "\n",
    "Type `a.` and press `tab` to see all related functions.  \n",
    "Find a function under `a` that allows you to replace `taiwan` by `Taiwan`."
   ]
  },
  {
   "cell_type": "code",
   "execution_count": null,
   "metadata": {},
   "outputs": [],
   "source": [
    "a = 'I come from taiwan'\n",
    "a.???"
   ]
  },
  {
   "cell_type": "markdown",
   "metadata": {},
   "source": [
    "#### Exercise \n",
    "\n",
    "When you collect data, if you did not carefully tell the participants  \n",
    "how to fill in the form, then you will get all kinds of answers.  \n",
    "Suppose you are setting up a time for a meeting and you get the  \n",
    "following answers from three different people.\n",
    "```Python\n",
    "a = 'Monday Wednesday Friday'\n",
    "b = 'Monday, Tuesday, Thursday'\n",
    "c = 'Monday;Friday'\n",
    "```\n",
    "Extract the dates for each one by the `split` function."
   ]
  },
  {
   "cell_type": "code",
   "execution_count": null,
   "metadata": {},
   "outputs": [],
   "source": [
    "a = 'Monday Wednesday Friday'\n",
    "b = 'Monday, Tuesday, Thursday'\n",
    "c = 'Monday;Friday'\n",
    "print(a.split()) ### this is correct\n",
    "print(b.split()) ### how to remove the comma?\n",
    "print(c.split()) ### how to remove the semicolon?"
   ]
  },
  {
   "cell_type": "markdown",
   "metadata": {},
   "source": [
    "#### Exercise\n",
    "Reading the source code build up your knowledge on programming.\n",
    "\n",
    "Evaluate the cell below and read the source code.  \n",
    "The `random` package uses the value of pi.  \n",
    "Find out how to get the value of pi."
   ]
  },
  {
   "cell_type": "code",
   "execution_count": null,
   "metadata": {},
   "outputs": [],
   "source": [
    "import random\n",
    "random??"
   ]
  },
  {
   "cell_type": "code",
   "execution_count": null,
   "metadata": {},
   "outputs": [],
   "source": [
    "from m??? import ?? as _pi\n",
    "print(_pi)"
   ]
  },
  {
   "cell_type": "markdown",
   "metadata": {},
   "source": [
    "**Finding the possible solutions is an essential part of programming,  \n",
    "and it is a skill that will benefit you in the long run.**\n",
    "\n",
    "Seriously, I think no one learn programming _only_ from shcool."
   ]
  },
  {
   "cell_type": "markdown",
   "metadata": {},
   "source": [
    "### Online resources for Python\n",
    "1. [Kaggle Learn](https://www.kaggle.com/learn/overview) allows you to learn and run Python on Cloud.\n",
    "2. [Python for Everybody](https://www.py4e.com/book) is a free/open-sourced book with free course videos that provide the details of Python.\n",
    "2. [Coursera](https://www.coursera.org/) offers lots of (kind of) _free_ course."
   ]
  },
  {
   "cell_type": "markdown",
   "metadata": {},
   "source": [
    "### Jupyter shortcuts\n",
    "* Press `Esc` to enter the **Command Mode**\n",
    "* Press `Enter` to enter the **Edit Mode**\n",
    "* In Command Mode, press `A` (`B`) to insert a cell above (below)\n",
    "* In Command Mode, press `H` to read all shortcuts"
   ]
  },
  {
   "cell_type": "markdown",
   "metadata": {},
   "source": [
    "### Python installation\n",
    "If you are a Linux user, you can do \n",
    "```bash\n",
    "sudo apt install python\n",
    "```\n",
    "in Ubuntu or \n",
    "```bash\n",
    "sudo pacman -S python\n",
    "```\n",
    "in Arch Linux to install Python easily.  \n",
    "\n",
    "If you are using Windows or Mac, then you will have to download the installation package from [Python website](https://www.python.org/)."
   ]
  },
  {
   "cell_type": "markdown",
   "metadata": {},
   "source": [
    "### Python package installation"
   ]
  },
  {
   "cell_type": "markdown",
   "metadata": {},
   "source": [
    "Warning: Installing packages through Jupyter is not recommended.  \n",
    "This part is only to illustrate the installation process.\n",
    "\n",
    "Code in this section is unlikely to work due to  \n",
    "the settings on different machines,  \n",
    "lack of internet or  \n",
    "lack of permission."
   ]
  },
  {
   "cell_type": "markdown",
   "metadata": {},
   "source": [
    "### Technicalities\n",
    "The exclamation mark `!` allows you to run command in your shell.  \n",
    "`cat` is a program that print the content of a file.  \n",
    "`/etc/os-release` stores the OS information of the machine.  \n",
    "\n",
    "Alternatively, you can do `lsb_release`.\n",
    "\n",
    "Note: These commands are mainly for Linux."
   ]
  },
  {
   "cell_type": "code",
   "execution_count": null,
   "metadata": {
    "scrolled": true
   },
   "outputs": [],
   "source": [
    "!cat /etc/os-release"
   ]
  },
  {
   "cell_type": "markdown",
   "metadata": {},
   "source": [
    "### Install with `pip`\n",
    "You may find packages on [the Python Package Index](https://pypi.org/), also known as PyPI.  \n",
    "\n",
    "In general, you have to find the package official website  \n",
    "and follow the instruction to install.  \n",
    "Take NumPy as an example, find its [installation guide](https://www.scipy.org/install.html) and follow the instructions therein.  \n",
    "\n",
    "However, `pip` provides you an easy way to install packages available on PyPI.  \n",
    "For NumPy, you can do \n",
    "```Python\n",
    "pip install numpy\n",
    "```\n",
    "and it will download the package and install.  \n",
    "\n",
    "Note:  You can do `pip uninstall numpy` to uninstall."
   ]
  },
  {
   "cell_type": "code",
   "execution_count": null,
   "metadata": {},
   "outputs": [],
   "source": [
    "!pip install numpy"
   ]
  },
  {
   "cell_type": "code",
   "execution_count": null,
   "metadata": {},
   "outputs": [],
   "source": [
    "!pip install funniesttest"
   ]
  },
  {
   "cell_type": "markdown",
   "metadata": {},
   "source": [
    "### Virtual environment\n",
    "Chances are that the cells above won't work well.  \n",
    "This is actually good!  \n",
    "Python has way too many packages available and some can conflict with each other.  \n",
    "\n",
    "If a package is not so fundamental that everyone need that  \n",
    "then don't install it globally.  \n",
    "Creating a **virtual environment** is a better approach."
   ]
  },
  {
   "cell_type": "code",
   "execution_count": null,
   "metadata": {},
   "outputs": [],
   "source": [
    "!virtualenv my_project ### create a virtual environment called my_project\n",
    "!source my_project/bin/activate && pip install funniesttest ### go to the virtual environment and install"
   ]
  },
  {
   "cell_type": "markdown",
   "metadata": {},
   "source": [
    "This avoids the permission issue  \n",
    "but still need internet to access the package."
   ]
  },
  {
   "cell_type": "markdown",
   "metadata": {},
   "source": [
    "### Offline installation\n",
    "Suppose you plan to install the package `funniesttest`  \n",
    "and you already have the package file obtained from [here](https://pypi.org/project/funniesttest/) on PyPI. \n",
    "\n",
    "Do the following steps (in the virtual environment if necessary)  \n",
    "1. Unpack the package by `gzip` or `tar` if necessary.\n",
    "```bash\n",
    "gzip -d filename.tar.gz\n",
    "tar -xvf filename.tar\n",
    "```\n",
    "2. Go to the folder.\n",
    "```bash\n",
    "cd foldername\n",
    "```\n",
    "3. Install with `pip`.  Note that the dot at the end is not a period!\n",
    "```Python\n",
    "pip install .\n",
    "```\n",
    "\n",
    "If the package has a file `filename.whl`, then ignore above and do\n",
    "```Python\n",
    "pip install filename.whl\n",
    "```"
   ]
  },
  {
   "cell_type": "code",
   "execution_count": null,
   "metadata": {},
   "outputs": [],
   "source": [
    "### create a virtual environment called my_project\n",
    "!virtualenv my_project "
   ]
  },
  {
   "cell_type": "code",
   "execution_count": null,
   "metadata": {},
   "outputs": [],
   "source": [
    "### unpack the package\n",
    "!cp funniesttest-1.0.tar.gz my_project\n",
    "!cd my_project && gzip -dk funniesttest-1.0.tar.gz && tar -xvf funniesttest-1.0.tar\n",
    "### show where we are and list what's in the folder\n",
    "!pwd\n",
    "!ls"
   ]
  },
  {
   "cell_type": "code",
   "execution_count": null,
   "metadata": {},
   "outputs": [],
   "source": [
    "### activate my_project\n",
    "### go to the folder\n",
    "### then install\n",
    "!source my_project/bin/activate && cd my_project/funniesttest-1.0/ && pip install ."
   ]
  },
  {
   "cell_type": "code",
   "execution_count": null,
   "metadata": {},
   "outputs": [],
   "source": [
    "### reset\n",
    "### run this cell only when \n",
    "### you want to wipe out the virtual environment\n",
    "!rm -rf my_project"
   ]
  },
  {
   "cell_type": "markdown",
   "metadata": {},
   "source": [
    "### Conclusion\n",
    "To get some experiecnes of Python, use Cloud services.  \n",
    "For machines that you are not the owner, ask IT for help.  \n",
    "For your own machine, it is nice to get your hand dirty and go through the installation by yourself."
   ]
  },
  {
   "cell_type": "markdown",
   "metadata": {},
   "source": [
    "## 2. Data types, Boolean tests, and Arithmetic operators"
   ]
  },
  {
   "cell_type": "markdown",
   "metadata": {},
   "source": [
    "Types are importants.  \n",
    "Different data types carries different properties and functions.  \n",
    "\n",
    "For example, a string carries the function `upper`,  \n",
    "but an integer does not."
   ]
  },
  {
   "cell_type": "code",
   "execution_count": null,
   "metadata": {},
   "outputs": [],
   "source": [
    "year_of_birth = 1987 ### integer\n",
    "height = 159.9 ### float \n",
    "name = 'Jephian' ### string\n",
    "boss_at_office = True ### boolean values; True or False\n",
    "yyyymmdd = (1987,3,21) ### tuple\n",
    "friends = ['John','Jim','Jacob'] ### list\n",
    "name_to_age = {'John': 15, 'Jim': 20, 'Jacob': 100} ### dictionary"
   ]
  },
  {
   "cell_type": "markdown",
   "metadata": {},
   "source": [
    "**Avoid meaningless name** for a variable.  For examples,\n",
    "```Python\n",
    "a = 1987\n",
    "b = 159.9\n",
    "c = 'Jephian'\n",
    "```\n",
    "are no good, but we still use it occasionally for convenience."
   ]
  },
  {
   "cell_type": "markdown",
   "metadata": {},
   "source": [
    "Use `type` to **check the type** of a variable."
   ]
  },
  {
   "cell_type": "code",
   "execution_count": null,
   "metadata": {},
   "outputs": [],
   "source": [
    "type(height)"
   ]
  },
  {
   "cell_type": "markdown",
   "metadata": {},
   "source": [
    "### Boolean tests\n",
    "\n",
    "A boolean test checks if a statement is `True` or `False`."
   ]
  },
  {
   "cell_type": "markdown",
   "metadata": {},
   "source": [
    "Check if an element is **in a list or not**."
   ]
  },
  {
   "cell_type": "code",
   "execution_count": null,
   "metadata": {},
   "outputs": [],
   "source": [
    "'Jeffrey' in friends"
   ]
  },
  {
   "cell_type": "code",
   "execution_count": null,
   "metadata": {},
   "outputs": [],
   "source": [
    "'John' in friends"
   ]
  },
  {
   "cell_type": "code",
   "execution_count": null,
   "metadata": {},
   "outputs": [],
   "source": [
    "1 in [2,3,5]"
   ]
  },
  {
   "cell_type": "code",
   "execution_count": null,
   "metadata": {},
   "outputs": [],
   "source": [
    "1 not in [2,3,5]"
   ]
  },
  {
   "cell_type": "markdown",
   "metadata": {},
   "source": [
    "**Compare numbers**  \n",
    "`a = 1` means assign the value of `a` as `1`.  \n",
    "`a == 1` is a boolean test to check if `a` equals `1`."
   ]
  },
  {
   "cell_type": "code",
   "execution_count": null,
   "metadata": {},
   "outputs": [],
   "source": [
    "a = 1\n",
    "a == 1"
   ]
  },
  {
   "cell_type": "code",
   "execution_count": null,
   "metadata": {},
   "outputs": [],
   "source": [
    "a == 2"
   ]
  },
  {
   "cell_type": "code",
   "execution_count": null,
   "metadata": {},
   "outputs": [],
   "source": [
    "1 > 2"
   ]
  },
  {
   "cell_type": "code",
   "execution_count": null,
   "metadata": {},
   "outputs": [],
   "source": [
    "2 > 2"
   ]
  },
  {
   "cell_type": "code",
   "execution_count": null,
   "metadata": {},
   "outputs": [],
   "source": [
    "2 >= 2"
   ]
  },
  {
   "cell_type": "code",
   "execution_count": null,
   "metadata": {},
   "outputs": [],
   "source": [
    "1 != 2 ### check if 1 is not equal to 2"
   ]
  },
  {
   "cell_type": "markdown",
   "metadata": {},
   "source": [
    "Check if a variable **is an instance of a type**"
   ]
  },
  {
   "cell_type": "code",
   "execution_count": null,
   "metadata": {},
   "outputs": [],
   "source": [
    "isinstance(1,int)"
   ]
  },
  {
   "cell_type": "code",
   "execution_count": null,
   "metadata": {},
   "outputs": [],
   "source": [
    "isinstance(1.5,float)"
   ]
  },
  {
   "cell_type": "code",
   "execution_count": null,
   "metadata": {},
   "outputs": [],
   "source": [
    "isinstance(1,float)"
   ]
  },
  {
   "cell_type": "code",
   "execution_count": null,
   "metadata": {},
   "outputs": [],
   "source": [
    "isinstance('1',int)"
   ]
  },
  {
   "cell_type": "code",
   "execution_count": null,
   "metadata": {},
   "outputs": [],
   "source": [
    "isinstance('1',str)"
   ]
  },
  {
   "cell_type": "markdown",
   "metadata": {},
   "source": [
    "### Arithmetic operators"
   ]
  },
  {
   "cell_type": "code",
   "execution_count": null,
   "metadata": {},
   "outputs": [],
   "source": [
    "print(\"23 + 4 =\", 23 + 4) ### addition\n",
    "print(\"23 - 4 =\", 23 - 4) ### substraction\n",
    "print(\"23 * 4 =\", 23 * 4) ### multiplication\n",
    "print(\"23 / 4 =\", 23 / 4) ### division\n",
    "print(\"23 ** 4 =\", 23 ** 4) ### exponent\n",
    "print(\"23 % 4 =\", 23 % 4) ### remainder\n",
    "print(\"23 // 4 =\", 23 // 4) ### integer division"
   ]
  },
  {
   "cell_type": "markdown",
   "metadata": {},
   "source": [
    "#### Exercise\n",
    "Guess the output of the following.  \n",
    "Then evaluate the cell to check the answer."
   ]
  },
  {
   "cell_type": "code",
   "execution_count": null,
   "metadata": {},
   "outputs": [],
   "source": [
    "type(2/3)"
   ]
  },
  {
   "cell_type": "code",
   "execution_count": null,
   "metadata": {},
   "outputs": [],
   "source": [
    "a = 2\n",
    "a in [2,3,5]"
   ]
  },
  {
   "cell_type": "code",
   "execution_count": null,
   "metadata": {},
   "outputs": [],
   "source": [
    "a = 2\n",
    "a in [\"a\",\"b\",\"c\"]"
   ]
  },
  {
   "cell_type": "code",
   "execution_count": null,
   "metadata": {},
   "outputs": [],
   "source": [
    "a = 2\n",
    "type(a) == int"
   ]
  },
  {
   "cell_type": "code",
   "execution_count": null,
   "metadata": {},
   "outputs": [],
   "source": [
    "a = 2.0\n",
    "type(a) == int"
   ]
  },
  {
   "cell_type": "code",
   "execution_count": null,
   "metadata": {},
   "outputs": [],
   "source": [
    "2 == 2.0 ### Python does not check the type (for numbers)!"
   ]
  },
  {
   "cell_type": "code",
   "execution_count": null,
   "metadata": {},
   "outputs": [],
   "source": [
    "(2,3,5) == [2,3,5] ### But tuples and lists are really different things..."
   ]
  },
  {
   "cell_type": "markdown",
   "metadata": {},
   "source": [
    "#### Exercise\n",
    "Guess the output.  \n",
    "Then try to figure out what are **keys** and **values** of a dictionary."
   ]
  },
  {
   "cell_type": "code",
   "execution_count": null,
   "metadata": {},
   "outputs": [],
   "source": [
    "d={\"two\":2, \"three\":3, \"five\":5}\n",
    "print(2 in d.keys())\n",
    "print(2 in d.values())"
   ]
  },
  {
   "cell_type": "markdown",
   "metadata": {},
   "source": [
    "#### Exercise\n",
    "Guess the output of the following.  \n",
    "Then evaluate the cell to check the answer.\n",
    "\n",
    "Recall that `P and Q` is `True` only when **both** `P` and `Q` are `True`,  \n",
    "and `P or Q` is `True` if **one of** `P` and `Q` are `True`."
   ]
  },
  {
   "cell_type": "code",
   "execution_count": null,
   "metadata": {},
   "outputs": [],
   "source": [
    "50 % 3 == 0"
   ]
  },
  {
   "cell_type": "code",
   "execution_count": null,
   "metadata": {},
   "outputs": [],
   "source": [
    "50 % 3 == 0 or 51 % 3 == 0"
   ]
  },
  {
   "cell_type": "code",
   "execution_count": null,
   "metadata": {},
   "outputs": [],
   "source": [
    "50%3==0 and 51%3==0"
   ]
  },
  {
   "cell_type": "markdown",
   "metadata": {},
   "source": [
    "Lists are compared by [lexicographic order](https://en.wikipedia.org/wiki/Lexicographical_order)."
   ]
  },
  {
   "cell_type": "code",
   "execution_count": null,
   "metadata": {},
   "outputs": [],
   "source": [
    "[1,2,3,4] > [2,3,4]"
   ]
  },
  {
   "cell_type": "markdown",
   "metadata": {},
   "source": [
    "Strings are compared by its [ASCII code](https://en.wikipedia.org/wiki/ASCII) with lexicographic order."
   ]
  },
  {
   "cell_type": "code",
   "execution_count": null,
   "metadata": {},
   "outputs": [],
   "source": [
    "\"Z\" > \"B\""
   ]
  },
  {
   "cell_type": "code",
   "execution_count": null,
   "metadata": {},
   "outputs": [],
   "source": [
    "\"Z\" > \"BBBBBBBBBBBBBBBBBBBBBBBBBBBBBBBBBBBBBB\""
   ]
  },
  {
   "cell_type": "markdown",
   "metadata": {},
   "source": [
    "## 3. NumPy\n",
    "\n",
    "[NumPy](http://www.numpy.org/) is a Python package that  \n",
    "takes care of high dimentional data (such as matrices).\n",
    "\n",
    "With the built-in functions in NumPy, one can easily \n",
    "modify the data, do matrix multiplication, and vector inner product etc.\n",
    "\n",
    "The official website offers a [quickstart tutorial](https://docs.scipy.org/doc/numpy/user/quickstart.html). "
   ]
  },
  {
   "cell_type": "markdown",
   "metadata": {},
   "source": [
    "`import numpy` allows you to access all functions  \n",
    "in NumPy."
   ]
  },
  {
   "cell_type": "code",
   "execution_count": null,
   "metadata": {},
   "outputs": [],
   "source": [
    "import numpy\n",
    "\n",
    "print(numpy.arange(1,10))\n",
    "print(numpy.zeros(10))"
   ]
  },
  {
   "cell_type": "markdown",
   "metadata": {},
   "source": [
    "But you don't want to type `numpy` everytime.\n",
    "```Python\n",
    "import numpy as np\n",
    "```\n",
    "allows you to abbreviate `numpy` as `np`."
   ]
  },
  {
   "cell_type": "code",
   "execution_count": null,
   "metadata": {},
   "outputs": [],
   "source": [
    "import numpy as np\n",
    "print(np.arange(1,10))\n",
    "print(np.zeros(10))"
   ]
  },
  {
   "cell_type": "markdown",
   "metadata": {},
   "source": [
    "A list is a one-dimensional array.  \n",
    "A list of lists is a two-dimensional array.  (Also called a matrix)\n",
    "\n",
    "Use `np.array(list)` to create an array."
   ]
  },
  {
   "cell_type": "code",
   "execution_count": null,
   "metadata": {},
   "outputs": [],
   "source": [
    "one_dim = np.array(\n",
    "[1,2,3,4,5]\n",
    ")\n",
    "\n",
    "two_dim = np.array(\n",
    "[\n",
    "[1,2,3,4,5],    \n",
    "[2,3,4,5,6],\n",
    "[3,4,5,6,7]\n",
    "]\n",
    ")\n",
    "\n",
    "print('one_dim =')\n",
    "print(one_dim)\n",
    "print()\n",
    "print('two_dim =')\n",
    "print(two_dim)\n",
    "print()\n",
    "print('array is a special data type in numpy:')\n",
    "print(type(one_dim))"
   ]
  },
  {
   "cell_type": "markdown",
   "metadata": {},
   "source": [
    "### Basic attributes\n",
    "\n",
    "Suppose `ndarray` is an array.  \n",
    "`ndarray.ndim` is the dimension.  \n",
    "`ndarray.shape` is the shape, the size in each dimension  \n",
    "`ndarray.size` is the total number of elements"
   ]
  },
  {
   "cell_type": "code",
   "execution_count": null,
   "metadata": {},
   "outputs": [],
   "source": [
    "print(two_dim.ndim)\n",
    "print(two_dim.shape)\n",
    "print(two_dim.size)"
   ]
  },
  {
   "cell_type": "markdown",
   "metadata": {},
   "source": [
    "### Operations\n",
    "Most operations are taken entrywisely."
   ]
  },
  {
   "cell_type": "code",
   "execution_count": null,
   "metadata": {},
   "outputs": [],
   "source": [
    "A = np.array(\n",
    "[[1,3],\n",
    "[5,7]])\n",
    "\n",
    "B = np.array(\n",
    "[[2,4]\n",
    " ,[6,8]])"
   ]
  },
  {
   "cell_type": "code",
   "execution_count": null,
   "metadata": {},
   "outputs": [],
   "source": [
    "A + 1"
   ]
  },
  {
   "cell_type": "code",
   "execution_count": null,
   "metadata": {},
   "outputs": [],
   "source": [
    "A * 2"
   ]
  },
  {
   "cell_type": "code",
   "execution_count": null,
   "metadata": {},
   "outputs": [],
   "source": [
    "A + B"
   ]
  },
  {
   "cell_type": "code",
   "execution_count": null,
   "metadata": {},
   "outputs": [],
   "source": [
    "A * B ### entrywise product"
   ]
  },
  {
   "cell_type": "code",
   "execution_count": null,
   "metadata": {},
   "outputs": [],
   "source": [
    "A @ B ### matrix product"
   ]
  },
  {
   "cell_type": "markdown",
   "metadata": {},
   "source": [
    "Exponentation is also taken entrywisely."
   ]
  },
  {
   "cell_type": "code",
   "execution_count": null,
   "metadata": {},
   "outputs": [],
   "source": [
    "A ** 2"
   ]
  },
  {
   "cell_type": "code",
   "execution_count": null,
   "metadata": {},
   "outputs": [],
   "source": [
    "2 ** A"
   ]
  },
  {
   "cell_type": "markdown",
   "metadata": {},
   "source": [
    "Functions like `log`, `exp`, `sqrt`, `sign` etc. are called **universal functions**.  \n",
    "They are also taken entrywisely."
   ]
  },
  {
   "cell_type": "code",
   "execution_count": null,
   "metadata": {},
   "outputs": [],
   "source": [
    "np.log(A)"
   ]
  },
  {
   "cell_type": "code",
   "execution_count": null,
   "metadata": {},
   "outputs": [],
   "source": [
    "np.exp(A)"
   ]
  },
  {
   "cell_type": "code",
   "execution_count": null,
   "metadata": {},
   "outputs": [],
   "source": [
    "np.sqrt(A)"
   ]
  },
  {
   "cell_type": "code",
   "execution_count": null,
   "metadata": {},
   "outputs": [],
   "source": [
    "np.sign(A)"
   ]
  },
  {
   "cell_type": "code",
   "execution_count": null,
   "metadata": {},
   "outputs": [],
   "source": [
    "np.max(A)"
   ]
  },
  {
   "cell_type": "code",
   "execution_count": null,
   "metadata": {},
   "outputs": [],
   "source": [
    "np.min(A)"
   ]
  },
  {
   "cell_type": "code",
   "execution_count": null,
   "metadata": {},
   "outputs": [],
   "source": [
    "np.sum(A)"
   ]
  },
  {
   "cell_type": "markdown",
   "metadata": {},
   "source": [
    "Comparison is entrywise and returns a **boolean array**"
   ]
  },
  {
   "cell_type": "code",
   "execution_count": null,
   "metadata": {},
   "outputs": [],
   "source": [
    "A > 4"
   ]
  },
  {
   "cell_type": "markdown",
   "metadata": {},
   "source": [
    "#### Exercise\n",
    "In a class there are 4 students.  \n",
    "`m1`, `m2`, `f` stores the scores of  \n",
    "the first midterm, the second midterm, and the final exam  \n",
    "for each of the 4 students.  \n",
    "The total points for each exam is $100$.\n",
    "\n",
    "Calculate the total scores by the following formula  \n",
    "$t = 30\\%\\ m_1 + 35\\%\\ m_2 + 35\\%\\ f.$"
   ]
  },
  {
   "cell_type": "code",
   "execution_count": null,
   "metadata": {},
   "outputs": [],
   "source": [
    "m1 = np.array([30,50,20,70])\n",
    "m2 = np.array([60,30,90,80])\n",
    "f = np.array([80,40,60,100])\n",
    "\n",
    "t"
   ]
  },
  {
   "cell_type": "markdown",
   "metadata": {},
   "source": [
    "#### Exercise\n",
    "Now you have the total scores.  \n",
    "Find the average, max, and min of the total scores."
   ]
  },
  {
   "cell_type": "code",
   "execution_count": null,
   "metadata": {},
   "outputs": [],
   "source": [
    "print(\"average:\", t.???)\n",
    "print(\"min:\", t.???)\n",
    "print(\"max:\", t.???)"
   ]
  },
  {
   "cell_type": "markdown",
   "metadata": {},
   "source": [
    "#### Exercise\n",
    "Looks like students did not do well  \n",
    "and you have to fail $3$ out of $4$ students.  \n",
    "\n",
    "Think of a (reasonable) scheme to curve the grades  \n",
    "so that no one fails.  \n",
    "(Open answer)"
   ]
  },
  {
   "cell_type": "code",
   "execution_count": null,
   "metadata": {},
   "outputs": [],
   "source": [
    "new_t = "
   ]
  },
  {
   "cell_type": "markdown",
   "metadata": {},
   "source": [
    "### Create array\n",
    "`np.array(list)` is the standard way to input an array.  \n",
    "Some arrays that are frequently used have built-in functions to create them."
   ]
  },
  {
   "cell_type": "markdown",
   "metadata": {},
   "source": [
    "Recall that `shape` is a tuple.\n",
    "\n",
    "`np.zeros(shape)` creates an all-zeros array of the given shape."
   ]
  },
  {
   "cell_type": "code",
   "execution_count": null,
   "metadata": {},
   "outputs": [],
   "source": [
    "np.zeros((3,4)) ### you need to input a shape (a tuple)"
   ]
  },
  {
   "cell_type": "markdown",
   "metadata": {},
   "source": [
    "`np.ones(shape)` creates an all-ones array of the given shape."
   ]
  },
  {
   "cell_type": "code",
   "execution_count": null,
   "metadata": {},
   "outputs": [],
   "source": [
    "np.ones((3,4))"
   ]
  },
  {
   "cell_type": "markdown",
   "metadata": {},
   "source": [
    "`np.eye(n)` returns an identity matrix of order $n$."
   ]
  },
  {
   "cell_type": "code",
   "execution_count": null,
   "metadata": {},
   "outputs": [],
   "source": [
    "np.eye(4) "
   ]
  },
  {
   "cell_type": "markdown",
   "metadata": {},
   "source": [
    "`np.arrange(a,b)` returns an array `[a,...,b-1]`. "
   ]
  },
  {
   "cell_type": "code",
   "execution_count": null,
   "metadata": {},
   "outputs": [],
   "source": [
    "np.arange(1,10)"
   ]
  },
  {
   "cell_type": "markdown",
   "metadata": {},
   "source": [
    "`np.linspace(a,b,num)` returns an array of `num` numbers  \n",
    "evenly spreaded between `a` and `b`."
   ]
  },
  {
   "cell_type": "code",
   "execution_count": null,
   "metadata": {},
   "outputs": [],
   "source": [
    "np.linspace(1,10,5)"
   ]
  },
  {
   "cell_type": "markdown",
   "metadata": {},
   "source": [
    "`np.random` contains various functions  \n",
    "to create a **random array**  \n",
    "of the shape `d0,...,dn`.\n",
    "\n",
    "`np.random.rand(d0,...,dn)`: uniform distribution on $[0,1)$  \n",
    "`np.random.randint(a,b,size=(d0,...,dn))`: uniform distribution on `a,...,b-1`  \n",
    "`np.random.randn(d0,...,dn)`: normal distribution with mean $0$ and variance $1$"
   ]
  },
  {
   "cell_type": "code",
   "execution_count": null,
   "metadata": {
    "scrolled": true
   },
   "outputs": [],
   "source": [
    "np.random.rand(2,3)"
   ]
  },
  {
   "cell_type": "code",
   "execution_count": null,
   "metadata": {
    "scrolled": true
   },
   "outputs": [],
   "source": [
    "np.random.randint(5,size=(2,3))"
   ]
  },
  {
   "cell_type": "code",
   "execution_count": null,
   "metadata": {},
   "outputs": [],
   "source": [
    "np.random.randn(2,3)"
   ]
  },
  {
   "cell_type": "markdown",
   "metadata": {},
   "source": [
    "You may **reshape** or **resize** an array.\n",
    "\n",
    "`reshape` creates a new array, while  \n",
    "`resize` modifies the original array (and returns nothing)."
   ]
  },
  {
   "cell_type": "code",
   "execution_count": null,
   "metadata": {},
   "outputs": [],
   "source": [
    "a = np.arange(8)\n",
    "b = a.reshape(2,4)\n",
    "print(a)\n",
    "print(b)"
   ]
  },
  {
   "cell_type": "code",
   "execution_count": null,
   "metadata": {},
   "outputs": [],
   "source": [
    "a = np.arange(8)\n",
    "b = a.resize(2,4)\n",
    "print(a)\n",
    "print(b)"
   ]
  },
  {
   "cell_type": "markdown",
   "metadata": {},
   "source": [
    "### Index and Axis"
   ]
  },
  {
   "cell_type": "markdown",
   "metadata": {},
   "source": [
    "A high-dimensional array is  \n",
    "a list of a list of ... of a list."
   ]
  },
  {
   "cell_type": "code",
   "execution_count": null,
   "metadata": {},
   "outputs": [],
   "source": [
    "a = np.arange(24).reshape(2,3,4)\n",
    "a"
   ]
  },
  {
   "cell_type": "markdown",
   "metadata": {},
   "source": [
    "`a` is a list of two two-dimensional arrays `a[0]` and `a[1]`"
   ]
  },
  {
   "cell_type": "code",
   "execution_count": null,
   "metadata": {},
   "outputs": [],
   "source": [
    "a[0]"
   ]
  },
  {
   "cell_type": "markdown",
   "metadata": {},
   "source": [
    "`a[0]` is a list of three one-dimensional arrays `a[0][0]`, `a[0][1]`, and `a[0][2]`."
   ]
  },
  {
   "cell_type": "code",
   "execution_count": null,
   "metadata": {},
   "outputs": [],
   "source": [
    "a[0][2]"
   ]
  },
  {
   "cell_type": "markdown",
   "metadata": {},
   "source": [
    "Therefore, you may use \n",
    "`a[i][j][k]` to reach every entry.  \n",
    "That is, `i`, `j`, and `k` control  \n",
    "the $0$-th, the $1$-st, and the $2$-nd axes."
   ]
  },
  {
   "cell_type": "markdown",
   "metadata": {},
   "source": [
    "### Statistics functions\n",
    "`sum`, `min`, `max` allow you to understand the statistic of the data."
   ]
  },
  {
   "cell_type": "code",
   "execution_count": null,
   "metadata": {},
   "outputs": [],
   "source": [
    "scores = np.array([60,80,70,100])"
   ]
  },
  {
   "cell_type": "code",
   "execution_count": null,
   "metadata": {},
   "outputs": [],
   "source": [
    "scores.min()"
   ]
  },
  {
   "cell_type": "code",
   "execution_count": null,
   "metadata": {},
   "outputs": [],
   "source": [
    "scores.max()"
   ]
  },
  {
   "cell_type": "code",
   "execution_count": null,
   "metadata": {},
   "outputs": [],
   "source": [
    "scores.sum()"
   ]
  },
  {
   "cell_type": "code",
   "execution_count": null,
   "metadata": {},
   "outputs": [],
   "source": [
    "### average\n",
    "scores.sum() / scores.size"
   ]
  },
  {
   "cell_type": "markdown",
   "metadata": {},
   "source": [
    "These functions can be applied to a high-dimensional array  \n",
    "**along a given axis**."
   ]
  },
  {
   "cell_type": "code",
   "execution_count": null,
   "metadata": {},
   "outputs": [],
   "source": [
    "a = np.arange(24).reshape(2,3,4)\n",
    "a"
   ]
  },
  {
   "cell_type": "code",
   "execution_count": null,
   "metadata": {},
   "outputs": [],
   "source": [
    "a.sum(axis=0)"
   ]
  },
  {
   "cell_type": "code",
   "execution_count": null,
   "metadata": {},
   "outputs": [],
   "source": [
    "a.max(axis=1)"
   ]
  },
  {
   "cell_type": "code",
   "execution_count": null,
   "metadata": {},
   "outputs": [],
   "source": [
    "a.min(axis=2)"
   ]
  },
  {
   "cell_type": "markdown",
   "metadata": {},
   "source": [
    "The **histogram** categorizes the data and count the amount in each category."
   ]
  },
  {
   "cell_type": "code",
   "execution_count": null,
   "metadata": {},
   "outputs": [],
   "source": [
    "a = np.random.randn(1000)\n",
    "np.histogram(a)"
   ]
  },
  {
   "cell_type": "markdown",
   "metadata": {},
   "source": [
    "`matplotlib` is a plotting library  \n",
    "and we will talk more about it later."
   ]
  },
  {
   "cell_type": "code",
   "execution_count": null,
   "metadata": {},
   "outputs": [],
   "source": [
    "import matplotlib.pyplot as plt\n",
    "\n",
    "(n, bins) = np.histogram(a)\n",
    "plt.plot(.5*(bins[1:]+bins[:-1]), n)\n",
    "plt.show()"
   ]
  },
  {
   "cell_type": "markdown",
   "metadata": {},
   "source": [
    "## Homework"
   ]
  },
  {
   "cell_type": "markdown",
   "metadata": {},
   "source": [
    "**Remember to import numpy as np**"
   ]
  },
  {
   "cell_type": "code",
   "execution_count": null,
   "metadata": {},
   "outputs": [],
   "source": [
    "import numpy as np"
   ]
  },
  {
   "cell_type": "markdown",
   "metadata": {},
   "source": [
    "#### Problem 1\n",
    "Create an array `a` by `arange(16)`  \n",
    "then `reshape` it to shape `(2,2,2,2)`.\n",
    "\n",
    "Take the maximum of `a` along axis 0.\n",
    "\n",
    "Can you do it in one line?"
   ]
  },
  {
   "cell_type": "code",
   "execution_count": null,
   "metadata": {},
   "outputs": [],
   "source": [
    "### Your answer below \n"
   ]
  },
  {
   "cell_type": "markdown",
   "metadata": {},
   "source": [
    "#### Problem 2\n",
    "When you take the sum of a boolean array,  \n",
    "`True` is treated as `1` and `False` is treated as `0`,  \n",
    "so the sum of a boolean array is the number of `True` in the array.\n",
    "\n",
    "Use this fact to find the number of positive entries in `a`."
   ]
  },
  {
   "cell_type": "code",
   "execution_count": null,
   "metadata": {},
   "outputs": [],
   "source": [
    "### The first few lines give you an array a.\n",
    "np.random.seed(10)\n",
    "a = np.random.randn(1000)\n",
    "np.random.seed(None)\n",
    "\n",
    "### Your answer below\n",
    "a"
   ]
  },
  {
   "cell_type": "markdown",
   "metadata": {},
   "source": [
    "#### Problem 3\n",
    "Suppose you have a dice and you roll it 10000 times.  \n",
    "The you store the number you get each time in the array `nums`.  \n",
    "\n",
    "Do you think it is a fair dice?  Why?  \n",
    "(You can write your answer as a comment in the code or print it.)\n",
    "\n",
    "If it is not fair, which number occurs much more often than the others?  \n",
    "(The numbers on the dice are 1,...,6.)"
   ]
  },
  {
   "cell_type": "code",
   "execution_count": null,
   "metadata": {},
   "outputs": [],
   "source": [
    "### The first few lines give you the array nums.\n",
    "import random\n",
    "random.seed(10)\n",
    "k = random.randint(1,6)\n",
    "random.seed(None)\n",
    "nums = np.hstack((np.random.randint(1,7,3000),k*np.ones(4000),np.random.randint(1,7,3000)))\n",
    "\n",
    "### Your answer below\n",
    "nums"
   ]
  },
  {
   "cell_type": "markdown",
   "metadata": {},
   "source": [
    "#### Problem 4\n",
    "Use the same `nums` in Problem 3.  \n",
    "\n",
    "Use `np.histogram` to output the frequency of each number.  \n",
    "(Hint:  Read the documentation of `histogram` and  \n",
    "set `bins` as 6 and set `range` from 0.5 to 6.5."
   ]
  },
  {
   "cell_type": "code",
   "execution_count": null,
   "metadata": {},
   "outputs": [],
   "source": [
    "### Your answer below\n",
    "np.histogram(???)"
   ]
  },
  {
   "cell_type": "markdown",
   "metadata": {},
   "source": [
    "#### Problem 5\n",
    "Now try to create a fair dice by `np.random.randint`.  \n",
    "Roll it 10000 times and store the number in `fair_nums`.  \n",
    "Use Problem 4 to see how fair it is."
   ]
  },
  {
   "cell_type": "code",
   "execution_count": null,
   "metadata": {},
   "outputs": [],
   "source": [
    "### Your answer below\n",
    "fair_nums = np.random.randint(???)\n",
    "np.histogram(???)"
   ]
  }
 ],
 "metadata": {
  "celltoolbar": "Raw Cell Format",
  "kernelspec": {
   "display_name": "Python 3",
   "language": "python",
   "name": "python3"
  },
  "language_info": {
   "codemirror_mode": {
    "name": "ipython",
    "version": 3
   },
   "file_extension": ".py",
   "mimetype": "text/x-python",
   "name": "python",
   "nbconvert_exporter": "python",
   "pygments_lexer": "ipython3",
   "version": "3.7.2"
  }
 },
 "nbformat": 4,
 "nbformat_minor": 2
}
