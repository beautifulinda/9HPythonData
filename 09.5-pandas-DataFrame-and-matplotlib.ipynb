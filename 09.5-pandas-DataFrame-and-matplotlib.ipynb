{
 "cells": [
  {
   "cell_type": "markdown",
   "metadata": {},
   "source": [
    "# A 9-hour Python tutorial focusing on data processing"
   ]
  },
  {
   "cell_type": "markdown",
   "metadata": {},
   "source": [
    "![Creative Commons License](https://i.creativecommons.org/l/by/4.0/88x31.png)  \n",
    "This work by Jephian Lin is licensed under a [Creative Commons Attribution 4.0 International License](http://creativecommons.org/licenses/by/4.0/)."
   ]
  },
  {
   "cell_type": "markdown",
   "metadata": {},
   "source": [
    "## Homework:  pandas DataFrame and matplotlib"
   ]
  },
  {
   "cell_type": "markdown",
   "metadata": {},
   "source": [
    "**Remember to import the necessary packages**"
   ]
  },
  {
   "cell_type": "code",
   "execution_count": null,
   "metadata": {},
   "outputs": [],
   "source": [
    "import matplotlib.pyplot as plt\n",
    "import numpy as np\n",
    "import pandas as pd"
   ]
  },
  {
   "cell_type": "markdown",
   "metadata": {},
   "source": [
    "#### Problem 1\n",
    "The file `clean_data.csv` was obtained by cleaning up the file `scores.csv`  \n",
    "and it requires a few steps.  \n",
    "\n",
    "Recall how we input the data from `clean_data.csv`.  \n",
    "\n",
    "If you do exactly the same thing,  \n",
    "then you run into some errors.  \n",
    "\n",
    "Read the first few lines of `scores.csv`  \n",
    "and adjust the keywords `skiprows` or `comment`  \n",
    "in `pd.read_csv()` if necessary."
   ]
  },
  {
   "cell_type": "code",
   "execution_count": null,
   "metadata": {},
   "outputs": [],
   "source": [
    "cat clean_data.csv"
   ]
  },
  {
   "cell_type": "code",
   "execution_count": null,
   "metadata": {},
   "outputs": [],
   "source": [
    "clean_df = pd.read_csv('clean_data.csv')\n",
    "clean_df"
   ]
  },
  {
   "cell_type": "code",
   "execution_count": null,
   "metadata": {},
   "outputs": [],
   "source": [
    "cat scores.csv ### sooooo ugly"
   ]
  },
  {
   "cell_type": "code",
   "execution_count": null,
   "metadata": {},
   "outputs": [],
   "source": [
    "### your answere here\n",
    "df = pd.read_csv('scores.csv') ### do something to make it work\n",
    "df"
   ]
  },
  {
   "cell_type": "markdown",
   "metadata": {},
   "source": [
    "#### Problem 2\n",
    "Now you have successfully imported the data from `scores.csv`,  \n",
    "but it is still very ugly.\n",
    "\n",
    "Firstly, `set_index` to the column of `'Name'`.  \n",
    "Secondly, select only those columns `startwith` `'grade'`.  \n",
    "(The resulting `DataFrame` should only have 13 columns,  \n",
    "and it is indexed by `'Name'`."
   ]
  },
  {
   "cell_type": "code",
   "execution_count": null,
   "metadata": {
    "scrolled": true
   },
   "outputs": [],
   "source": [
    "### your answer here\n"
   ]
  },
  {
   "cell_type": "markdown",
   "metadata": {},
   "source": [
    "#### Problem 3\n",
    "Let `small_df` be the resulting `DataFrame` in Problem 2.  \n",
    "Now `rename` every column from `'grade: 2018FMath354/itemname'` to `'itemname'`.\n",
    "\n",
    "For example, `'grade: 2018FMath354/HW1'` should just be `'HW1'`,  \n",
    "`'grade: 2018FMath354/Midterm1'` should just be `'Midterm1'`, and  \n",
    "`'grade: 2018FMath354/Final'` should just be `'Final'`.\n",
    "\n",
    "Now your last `DataFrame` should be the same as imported from `clean_data.csv`."
   ]
  },
  {
   "cell_type": "code",
   "execution_count": null,
   "metadata": {},
   "outputs": [],
   "source": [
    "### your answer here\n"
   ]
  },
  {
   "cell_type": "markdown",
   "metadata": {},
   "source": [
    "#### Problem 4\n",
    "Now a figure has been plotted for you.  \n",
    "\n",
    "Get the currect Axes object by `plt.gca()`.  \n",
    "Then `set_xlabel` to `'sepal length (cm)'`  \n",
    "and `set_ylabel` to `'sepal width (cm)'`."
   ]
  },
  {
   "cell_type": "code",
   "execution_count": null,
   "metadata": {},
   "outputs": [],
   "source": [
    "import sklearn.datasets\n",
    "iris = sklearn.datasets.load_iris()\n",
    "\n",
    "iris_data = iris['data']\n",
    "plt.scatter(iris_data[:,0], iris_data[:,1], c=iris['target'], cmap='viridis')\n",
    "\n",
    "### your answer here\n"
   ]
  },
  {
   "cell_type": "markdown",
   "metadata": {},
   "source": [
    "#### Problem 5\n",
    "In `iris['data']`, it records four features of each iris sample.  \n",
    "The four features are in `iris['feature_names']`.  \n",
    "\n",
    "Make a figure with 16 `subplots`.  \n",
    "Then for the $i,j$-the subplot,  \n",
    "make the same scatter plot as in the previous problem  \n",
    "but with the `i`-th column and the `j`-th column.\n",
    "\n",
    "If possible, `set_xlabel` and `set_ylabel` for them in a nice way.\n",
    "(See the example at the end.)"
   ]
  },
  {
   "cell_type": "code",
   "execution_count": null,
   "metadata": {},
   "outputs": [],
   "source": [
    "import sklearn.datasets\n",
    "iris = sklearn.datasets.load_iris()\n",
    "\n",
    "iris['feature_names']"
   ]
  },
  {
   "cell_type": "code",
   "execution_count": null,
   "metadata": {
    "scrolled": false
   },
   "outputs": [],
   "source": [
    "fig, axs = plt.subplots(4,4,figsize=[10,10])\n",
    "\n",
    "### your answer here\n"
   ]
  },
  {
   "cell_type": "markdown",
   "metadata": {},
   "source": [
    "Here is an example for Problem 5.\n",
    "\n",
    "<img src=\"iris_comparison.png\" width=\"60%\">"
   ]
  }
 ],
 "metadata": {
  "kernelspec": {
   "display_name": "Python 3 (Ubuntu Linux)",
   "language": "python",
   "name": "python3"
  },
  "language_info": {
   "codemirror_mode": {
    "name": "ipython",
    "version": 3
   },
   "file_extension": ".py",
   "mimetype": "text/x-python",
   "name": "python",
   "nbconvert_exporter": "python",
   "pygments_lexer": "ipython3",
   "version": "3.6.7"
  }
 },
 "nbformat": 4,
 "nbformat_minor": 2
}
