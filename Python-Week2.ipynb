{
 "cells": [
  {
   "cell_type": "markdown",
   "metadata": {},
   "source": [
    "# Python\n",
    "## Week 2:  More Python Basics and pandas"
   ]
  },
  {
   "cell_type": "markdown",
   "metadata": {},
   "source": [
    "This tutorial was done under a project between  \n",
    "[National Sun Yat-sen University](http://www.nsysu.edu.tw/?Lang=zh-tw) and [United Microelectronics Corporation](http://www.umc.com/chinese/).\n",
    "\n",
    "<a rel=\"license\" href=\"http://creativecommons.org/licenses/by/4.0/\"><img alt=\"Creative Commons License\" style=\"border-width:0\" src=\"https://i.creativecommons.org/l/by/4.0/88x31.png\" /></a><br />This work by <span xmlns:cc=\"http://creativecommons.org/ns#\" property=\"cc:attributionName\">Jephian Lin</span> is licensed under a <a rel=\"license\" href=\"http://creativecommons.org/licenses/by/4.0/\">Creative Commons Attribution 4.0 International License</a>."
   ]
  },
  {
   "cell_type": "markdown",
   "metadata": {},
   "source": [
    "## 1. Programming == making the machine to do routine work"
   ]
  },
  {
   "cell_type": "markdown",
   "metadata": {},
   "source": [
    "Python is **case-sensative**."
   ]
  },
  {
   "cell_type": "code",
   "execution_count": null,
   "metadata": {},
   "outputs": [],
   "source": [
    "a = 1\n",
    "A"
   ]
  },
  {
   "cell_type": "markdown",
   "metadata": {},
   "source": [
    "Python **cares about line breaks** (unlike HTML)."
   ]
  },
  {
   "cell_type": "code",
   "execution_count": null,
   "metadata": {},
   "outputs": [],
   "source": [
    "a\n",
    "=\n",
    "1"
   ]
  },
  {
   "cell_type": "markdown",
   "metadata": {},
   "source": [
    "But you can still merge several lines, or break a line into segaments."
   ]
  },
  {
   "cell_type": "code",
   "execution_count": null,
   "metadata": {},
   "outputs": [],
   "source": [
    "a = 1; b = 2; ### merge lines by semicolons"
   ]
  },
  {
   "cell_type": "code",
   "execution_count": null,
   "metadata": {},
   "outputs": [],
   "source": [
    "a\\\n",
    "=\\\n",
    "1  ### break a line into segaments by \\"
   ]
  },
  {
   "cell_type": "markdown",
   "metadata": {
    "slideshow": {
     "slide_type": "-"
    }
   },
   "source": [
    "**Always arrange your code so that it is easy to read.**"
   ]
  },
  {
   "cell_type": "markdown",
   "metadata": {},
   "source": [
    "**Comments are important!**（檔不能沒有柱姊 - by 靠北工程師）  \n",
    "Use `#` to comment a line."
   ]
  },
  {
   "cell_type": "code",
   "execution_count": null,
   "metadata": {},
   "outputs": [],
   "source": [
    "for i in range(10): ### for each i from 0,...,9\n",
    "    if i % 2 == 0:\n",
    "        print(i) ### print i if i is an even number"
   ]
  },
  {
   "cell_type": "markdown",
   "metadata": {},
   "source": [
    "Python cares about **indents**.  \n",
    "Use `tab` to insert four spaces.  \n",
    "Highlight a few lines and use `tab` and `shift+tab` to **indent and unindent**."
   ]
  },
  {
   "cell_type": "code",
   "execution_count": null,
   "metadata": {},
   "outputs": [],
   "source": [
    "if \"Z\">\"B\":\n",
    "print(\"sign the contract\")"
   ]
  },
  {
   "cell_type": "code",
   "execution_count": null,
   "metadata": {},
   "outputs": [],
   "source": [
    "if \"Z\" > \"B\":\n",
    "    print(\"sign the contract\")"
   ]
  },
  {
   "cell_type": "markdown",
   "metadata": {},
   "source": [
    "**The Zen of Python**  \n",
    "includes many code-writting principles."
   ]
  },
  {
   "cell_type": "code",
   "execution_count": null,
   "metadata": {},
   "outputs": [],
   "source": [
    "import this"
   ]
  },
  {
   "cell_type": "code",
   "execution_count": null,
   "metadata": {},
   "outputs": [],
   "source": [
    "### Run this cell if nothing happened when \"import this\"\n",
    "\n",
    "import importlib\n",
    "importlib.reload(this)"
   ]
  },
  {
   "cell_type": "markdown",
   "metadata": {},
   "source": [
    "### `if` statement\n",
    "```Python\n",
    "if boolean_test:\n",
    "    do something1 \n",
    "    do something2\n",
    "    do something3 ### appropriate indents tell Python what is inside an if statement\n",
    "```"
   ]
  },
  {
   "cell_type": "code",
   "execution_count": null,
   "metadata": {},
   "outputs": [],
   "source": [
    "thinking = 'I love Math'\n",
    "if 'Math' in thinking:\n",
    "    print('Yes, I love Math')"
   ]
  },
  {
   "cell_type": "markdown",
   "metadata": {},
   "source": [
    "```Python\n",
    "if boolean_test1:\n",
    "    do something1\n",
    "elif boolean_test2:  ### means \"else if\"\n",
    "    do something2\n",
    "elif boolean_test3:\n",
    "    do something3\n",
    "else: ### if none of above three cases are True\n",
    "    do something4\n",
    "```"
   ]
  },
  {
   "cell_type": "code",
   "execution_count": null,
   "metadata": {},
   "outputs": [],
   "source": [
    "### This code translate a percentage grade to a letter grade\n",
    "### Try changing the value of score and run again\n",
    "score = 90;\n",
    "if score >= 80 and score <= 100:\n",
    "    print(\"A\")\n",
    "elif score >= 70 and score < 80:\n",
    "    print(\"B\")\n",
    "elif score >= 60 and score < 70:\n",
    "    print(\"C\")\n",
    "elif score >= 0 and score < 60:\n",
    "    print(\"D\")\n",
    "else:\n",
    "    print(\"Input score not valid\")"
   ]
  },
  {
   "cell_type": "markdown",
   "metadata": {},
   "source": [
    "### `for` loop\n",
    "```Python\n",
    "for var_name in iterable: \n",
    "    ### an iterable is usally a list\n",
    "    ### the variable var_name will go through every element in iterable\n",
    "    do something1\n",
    "    do something2\n",
    "```"
   ]
  },
  {
   "cell_type": "code",
   "execution_count": null,
   "metadata": {},
   "outputs": [],
   "source": [
    "### Print the UPPER case of the strings in the list\n",
    "\n",
    "for name in ['John','Jim','Jacob']:\n",
    "    print(name.upper())"
   ]
  },
  {
   "cell_type": "markdown",
   "metadata": {},
   "source": [
    "`range(b)` is all the number from `0` to `b-1`  \n",
    "`range(a,b)` is all the number from `a` to `b-1`"
   ]
  },
  {
   "cell_type": "code",
   "execution_count": null,
   "metadata": {},
   "outputs": [],
   "source": [
    "for i in range(5):\n",
    "    print(i)"
   ]
  },
  {
   "cell_type": "code",
   "execution_count": null,
   "metadata": {},
   "outputs": [],
   "source": [
    "for i in range(1,6):\n",
    "    print(i)"
   ]
  },
  {
   "cell_type": "markdown",
   "metadata": {},
   "source": [
    "By combining `if` statments and `for` loop,  \n",
    "it becomes more powerful."
   ]
  },
  {
   "cell_type": "code",
   "execution_count": null,
   "metadata": {},
   "outputs": [],
   "source": [
    "### This code print every integer (from 1,...,100)\n",
    "### that is a multiple of 11 or a multiple of 13\n",
    "\n",
    "for i in range(1,101):\n",
    "    if i % 11 == 0 or i % 13 == 0:\n",
    "        print(i)"
   ]
  },
  {
   "cell_type": "markdown",
   "metadata": {},
   "source": [
    "### `while` loop\n",
    "```Python\n",
    "while boolean_test:\n",
    "    do something\n",
    "    do something to modify boolean_test \n",
    "### the program will keep running until boolean_test == False\n",
    "```"
   ]
  },
  {
   "cell_type": "code",
   "execution_count": null,
   "metadata": {},
   "outputs": [],
   "source": [
    "### This code print the smallest positive number \n",
    "### that is a multiple of 5 and a multiple of 7.\n",
    "### That is, the least common multiple of 5 and 7.\n",
    "\n",
    "i = 1\n",
    "keep_doing = True\n",
    "while keep_doing:\n",
    "    if i % 5 == 0 and i % 7 == 0:\n",
    "        print(i)\n",
    "        keep_doing = False ### otherwise the progrom won't stop...\n",
    "    else:\n",
    "        i = i+1; ### the value of i keeps going up"
   ]
  },
  {
   "cell_type": "markdown",
   "metadata": {},
   "source": [
    "### `def`ine a function  \n",
    "to repeat routine works\n",
    "```Python\n",
    "def function_name(var1, var2, var3):\n",
    "    do something on the variables\n",
    "    return some value\n",
    "```"
   ]
  },
  {
   "cell_type": "code",
   "execution_count": null,
   "metadata": {},
   "outputs": [],
   "source": [
    "import random\n",
    "\n",
    "def roll_a_fair_dice():\n",
    "    return random.randint(1,6)"
   ]
  },
  {
   "cell_type": "code",
   "execution_count": null,
   "metadata": {},
   "outputs": [],
   "source": [
    "roll_a_fair_dice()"
   ]
  },
  {
   "cell_type": "code",
   "execution_count": null,
   "metadata": {},
   "outputs": [],
   "source": [
    "counter = 0\n",
    "for i in range(600): ### do 600 times (i is not imporant)\n",
    "    num = roll_a_fair_dice()\n",
    "    if num == 1:\n",
    "        counter = counter + 1\n",
    "print(counter)"
   ]
  },
  {
   "cell_type": "code",
   "execution_count": null,
   "metadata": {},
   "outputs": [],
   "source": [
    "def count_a_number(k, t):\n",
    "    \"\"\"\n",
    "    Both k and t are integers.\n",
    "    roll_a_fair_dice() t times\n",
    "    and \n",
    "    return how many times the results are k\n",
    "    \"\"\"\n",
    "    counter = 0\n",
    "    for i in range(t): ### do 600 times (i is not imporant)\n",
    "        num = roll_a_fair_dice()\n",
    "        if num == k:\n",
    "            counter = counter + 1\n",
    "    print(counter)"
   ]
  },
  {
   "cell_type": "code",
   "execution_count": null,
   "metadata": {},
   "outputs": [],
   "source": [
    "count_a_number(10,100)"
   ]
  },
  {
   "cell_type": "code",
   "execution_count": null,
   "metadata": {},
   "outputs": [],
   "source": [
    "count_a_number(3,6000)"
   ]
  },
  {
   "cell_type": "markdown",
   "metadata": {},
   "source": [
    "#### Exercise\n",
    "Use `for` loop to compute the sum $\\sum_{k=1}^{10}k^2$."
   ]
  },
  {
   "cell_type": "code",
   "execution_count": null,
   "metadata": {},
   "outputs": [],
   "source": [
    "### Your answer here\n",
    "total = 0\n",
    "for ???:\n",
    "    ???\n",
    "    \n",
    "print(total)"
   ]
  },
  {
   "cell_type": "markdown",
   "metadata": {},
   "source": [
    "#### Exercise\n",
    "Define a function `power_sum(n,p)` that computes $\\sum_{k=1}^n k^p$."
   ]
  },
  {
   "cell_type": "code",
   "execution_count": null,
   "metadata": {},
   "outputs": [],
   "source": [
    "def power_sum(n,p):\n",
    "    ### Your answer here\n",
    "    "
   ]
  },
  {
   "cell_type": "markdown",
   "metadata": {},
   "source": [
    "#### Exercise\n",
    "Write a program to compute the sum of all odd numbers between 1 and 15."
   ]
  },
  {
   "cell_type": "code",
   "execution_count": null,
   "metadata": {},
   "outputs": [],
   "source": [
    "### Your answer here\n",
    "total = 0\n",
    "for ???:\n",
    "    if ???:\n",
    "        ???\n",
    "\n",
    "print(total)"
   ]
  },
  {
   "cell_type": "markdown",
   "metadata": {},
   "source": [
    "#### Exercise\n",
    "Define a function `sum_of_odd_numbers(M)` that calculates the sum of all odd numbers between `1` and `M`."
   ]
  },
  {
   "cell_type": "code",
   "execution_count": null,
   "metadata": {},
   "outputs": [],
   "source": [
    "### Your answer here\n",
    "def sum_of_odd_numbers(M):\n",
    "    ???\n",
    "    return ???"
   ]
  },
  {
   "cell_type": "markdown",
   "metadata": {},
   "source": [
    "#### Exercise\n",
    "Write the `sign` function by yourself.  \n",
    "That is, write a function `my_sign(k)`  \n",
    "that takes a number `k` as the input  \n",
    "and outputs `1`, `0`, `-1` if `k` is positive, zero, and negative, respectively."
   ]
  },
  {
   "cell_type": "code",
   "execution_count": null,
   "metadata": {},
   "outputs": [],
   "source": [
    "### Your answer here\n",
    "def my_sign(k):\n",
    "    ???\n",
    "    return ???"
   ]
  },
  {
   "cell_type": "markdown",
   "metadata": {},
   "source": [
    "#### Exercise\n",
    "Use `while` loop to find the first smallest positive integer `k`  \n",
    "that satisfies `k % 5 == 3` and `k % 7 = 4` and `k % 11 = 5`."
   ]
  },
  {
   "cell_type": "code",
   "execution_count": null,
   "metadata": {},
   "outputs": [],
   "source": [
    "### Your answer here\n",
    "k = 1\n",
    "again = True\n",
    "while again:\n",
    "    ???\n",
    "    ### If you don't set again to be False at some point\n",
    "    ### the code will never terminate."
   ]
  },
  {
   "cell_type": "markdown",
   "metadata": {},
   "source": [
    "#### Exercise\n",
    "Now I give you a dice.  Roll the dice 60000 times and see the distribution.  \n",
    "That is, record `a1`,... , `a6` as the number of occurrences of `1`,... ,`6`.  \n",
    "(So `a1 + a2 + a3 + a4 + a5 + a6 == 60000`.)  \n",
    "Is it s fair dice?  \n",
    "Change the number in `random.seed( )` and try again."
   ]
  },
  {
   "cell_type": "code",
   "execution_count": null,
   "metadata": {},
   "outputs": [],
   "source": [
    "### Run this cell first to create the dice\n",
    "\n",
    "import random\n",
    "\n",
    "random.seed(10)  ### You can change a dice by changing the number here\n",
    "my_secret = random.randint(1,6)\n",
    "random.seed(None)\n",
    "\n",
    "def roll_Jephian_dice():\n",
    "    p_space = list(range(1,7)) + [my_secret] * 5\n",
    "    return random.choice(p_space)"
   ]
  },
  {
   "cell_type": "code",
   "execution_count": null,
   "metadata": {},
   "outputs": [],
   "source": [
    "roll_Jephian_dice()"
   ]
  },
  {
   "cell_type": "code",
   "execution_count": null,
   "metadata": {},
   "outputs": [],
   "source": [
    "### Your answer here\n",
    "\n",
    "a1 = 0\n",
    "a2 = 0\n",
    "a3 = 0\n",
    "a4 = 0\n",
    "a5 = 0\n",
    "a6 = 0\n",
    "for i in range(60000):\n",
    "    num = roll_Jephian_dice()\n",
    "    ???\n",
    "print(a1,a2,a3,a4,a5,a6)        "
   ]
  },
  {
   "cell_type": "markdown",
   "metadata": {},
   "source": [
    "#### Exercise\n",
    "Write a function that test if a dice is fair or not.  \n",
    "(Open answer:  You need Statistics to tell if your judgement is reasonable or not.)"
   ]
  },
  {
   "cell_type": "code",
   "execution_count": null,
   "metadata": {},
   "outputs": [],
   "source": [
    "def fair_test(dice, rolls=60000, tolerance= 5):\n",
    "    \"\"\"\n",
    "    after roll the dice several times\n",
    "    calculate the probabilities for each number\n",
    "    if any of the probability is off by t% from 1/6 \n",
    "    then return False\n",
    "    else return True.\n",
    "    \n",
    "    dice: a function to roll a dice, e.g., roll_Jephian_dice() or roll_a_fair_dice()\n",
    "    rolls: number or rolls\n",
    "    tolerance: t\n",
    "    \"\"\"\n",
    "    ???\n",
    "        "
   ]
  },
  {
   "cell_type": "markdown",
   "metadata": {},
   "source": [
    "**lambda** provides an easy way to define a function.  \n",
    "For example,\n",
    "```Python\n",
    "lambda k: k**2\n",
    "```\n",
    "is a function sending `k` to `k**2`."
   ]
  },
  {
   "cell_type": "code",
   "execution_count": null,
   "metadata": {},
   "outputs": [],
   "source": [
    "f = lambda k : k**2\n",
    "f(3)"
   ]
  },
  {
   "cell_type": "markdown",
   "metadata": {},
   "source": [
    "This can be convenient  \n",
    "when sometimes we don't want to give a name to the function."
   ]
  },
  {
   "cell_type": "code",
   "execution_count": null,
   "metadata": {},
   "outputs": [],
   "source": [
    "a = [5,-7,1,-3,2]\n",
    "a.sort(key=lambda k:abs(k)) ### sort by absolute values\n",
    "a"
   ]
  },
  {
   "cell_type": "markdown",
   "metadata": {},
   "source": [
    "We will see more examples in later."
   ]
  },
  {
   "cell_type": "markdown",
   "metadata": {},
   "source": [
    "## 2. List"
   ]
  },
  {
   "cell_type": "markdown",
   "metadata": {},
   "source": [
    "Add a new element by `append` and  \n",
    "delete an element by `remove`."
   ]
  },
  {
   "cell_type": "code",
   "execution_count": null,
   "metadata": {},
   "outputs": [],
   "source": [
    "a = [1,2,3]\n",
    "a.append(4)\n",
    "a"
   ]
  },
  {
   "cell_type": "code",
   "execution_count": null,
   "metadata": {},
   "outputs": [],
   "source": [
    "a.remove(2)\n",
    "a"
   ]
  },
  {
   "cell_type": "markdown",
   "metadata": {},
   "source": [
    "Use `len(a)` to output the length of a list."
   ]
  },
  {
   "cell_type": "code",
   "execution_count": null,
   "metadata": {},
   "outputs": [],
   "source": [
    "len(a)"
   ]
  },
  {
   "cell_type": "markdown",
   "metadata": {},
   "source": [
    "Get an element by its index (starting from 0)."
   ]
  },
  {
   "cell_type": "code",
   "execution_count": null,
   "metadata": {},
   "outputs": [],
   "source": [
    "a = [3,1,4,1,5,9]\n",
    "a[2]"
   ]
  },
  {
   "cell_type": "markdown",
   "metadata": {},
   "source": [
    "`a[k]` gives the value of a **list** `a` with indext `k`.  \n",
    "`f(k)` returns the value of a **function** `f` with input `k`."
   ]
  },
  {
   "cell_type": "code",
   "execution_count": null,
   "metadata": {},
   "outputs": [],
   "source": [
    "f = lambda k : k**2\n",
    "f(3)"
   ]
  },
  {
   "cell_type": "markdown",
   "metadata": {},
   "source": [
    "`a(k)` will raise an error saying   \n",
    "**list is not callable**."
   ]
  },
  {
   "cell_type": "code",
   "execution_count": null,
   "metadata": {},
   "outputs": [],
   "source": [
    "a(3)"
   ]
  },
  {
   "cell_type": "markdown",
   "metadata": {},
   "source": [
    "`f[k]` will raise an error saying  \n",
    "**function is not subscriptable**"
   ]
  },
  {
   "cell_type": "code",
   "execution_count": null,
   "metadata": {},
   "outputs": [],
   "source": [
    "f[3]"
   ]
  },
  {
   "cell_type": "markdown",
   "metadata": {},
   "source": [
    "For lists,  \n",
    "**addition means concatenation**  \n",
    "**multiplication means duplication**"
   ]
  },
  {
   "cell_type": "code",
   "execution_count": null,
   "metadata": {},
   "outputs": [],
   "source": [
    "a = [1,2,3]\n",
    "b = [4,5,6]\n",
    "a + b"
   ]
  },
  {
   "cell_type": "code",
   "execution_count": null,
   "metadata": {},
   "outputs": [],
   "source": [
    "a * 4"
   ]
  },
  {
   "cell_type": "markdown",
   "metadata": {},
   "source": [
    "This is different from `ndarray` in NumPy."
   ]
  },
  {
   "cell_type": "code",
   "execution_count": null,
   "metadata": {},
   "outputs": [],
   "source": [
    "import numpy as np\n",
    "\n",
    "a = np.array([1,2,3])\n",
    "b = np.array([4,5,6])\n",
    "print(\"a+b\",a + b)\n",
    "print(\"a*4\",a * 4)"
   ]
  },
  {
   "cell_type": "markdown",
   "metadata": {},
   "source": [
    "### Negative index and slicing\n",
    "A negative index means counting from the end."
   ]
  },
  {
   "cell_type": "code",
   "execution_count": null,
   "metadata": {},
   "outputs": [],
   "source": [
    "c = [0,1,2,3,4,5]\n",
    "c[-1]"
   ]
  },
  {
   "cell_type": "markdown",
   "metadata": {},
   "source": [
    "If `c` is a list  \n",
    "then `c[a:b]` is the sublist of `c` from index `a` to index `b-1`.  \n",
    "When `a` or `b` is missing,  \n",
    "the sublist will go to the left end or the right end."
   ]
  },
  {
   "cell_type": "code",
   "execution_count": null,
   "metadata": {},
   "outputs": [],
   "source": [
    "c[2:4]"
   ]
  },
  {
   "cell_type": "code",
   "execution_count": null,
   "metadata": {},
   "outputs": [],
   "source": [
    "c[2:]"
   ]
  },
  {
   "cell_type": "code",
   "execution_count": null,
   "metadata": {},
   "outputs": [],
   "source": [
    "c[:4]"
   ]
  },
  {
   "cell_type": "code",
   "execution_count": null,
   "metadata": {},
   "outputs": [],
   "source": [
    "c[2:-1]"
   ]
  },
  {
   "cell_type": "markdown",
   "metadata": {},
   "source": [
    "### Changing the value\n",
    "Use `=` to assign a value to a position or  \n",
    "assign a sublist to a list slicing."
   ]
  },
  {
   "cell_type": "code",
   "execution_count": null,
   "metadata": {},
   "outputs": [],
   "source": [
    "a = list(range(10))\n",
    "a"
   ]
  },
  {
   "cell_type": "code",
   "execution_count": null,
   "metadata": {},
   "outputs": [],
   "source": [
    "a[-1] = 100\n",
    "a"
   ]
  },
  {
   "cell_type": "code",
   "execution_count": null,
   "metadata": {},
   "outputs": [],
   "source": [
    "a[2:7] = [-1] * 5\n",
    "a"
   ]
  },
  {
   "cell_type": "markdown",
   "metadata": {},
   "source": [
    "#### Exercise \n",
    "Use `lambda` method to create a function `f(x)`  \n",
    "that takes a number `x` as the input  \n",
    "and outputs the value `x+5`."
   ]
  },
  {
   "cell_type": "code",
   "execution_count": null,
   "metadata": {},
   "outputs": [],
   "source": [
    "### Your answer here\n",
    "f = lambda ???\n"
   ]
  },
  {
   "cell_type": "markdown",
   "metadata": {},
   "source": [
    "#### Exercise\n",
    "Use `lambda` method to create a function `f(x)`  \n",
    "that takes a list `x` as the input  \n",
    "and outputs the last element in `x`."
   ]
  },
  {
   "cell_type": "code",
   "execution_count": null,
   "metadata": {},
   "outputs": [],
   "source": [
    "### Your answere here\n",
    "f = lambda ???\n"
   ]
  },
  {
   "cell_type": "markdown",
   "metadata": {},
   "source": [
    "#### Exercise\n",
    "Create an list of zeros with length `n`."
   ]
  },
  {
   "cell_type": "code",
   "execution_count": null,
   "metadata": {},
   "outputs": [],
   "source": [
    "n = 100\n",
    "### Your answer here\n"
   ]
  },
  {
   "cell_type": "markdown",
   "metadata": {},
   "source": [
    "#### Exercise\n",
    "Create a list `[1,2,3,4,...,4,3,2,1]`  \n",
    "where the `4` repeats `n` times."
   ]
  },
  {
   "cell_type": "code",
   "execution_count": null,
   "metadata": {},
   "outputs": [],
   "source": [
    "n = 100\n",
    "### Your answer here\n"
   ]
  },
  {
   "cell_type": "markdown",
   "metadata": {},
   "source": [
    "#### Exercise\n",
    "Create a list of zeros with length 6.  \n",
    "Roll Jephian's dice 60000 times.  \n",
    "Use the six positions in the list to record the occurrences of `1,...,6`."
   ]
  },
  {
   "cell_type": "code",
   "execution_count": null,
   "metadata": {},
   "outputs": [],
   "source": [
    "### Run this cell first to create the dice\n",
    "\n",
    "import random\n",
    "\n",
    "random.seed(10)  ### You can change a dice by changing the number here\n",
    "my_secret = random.randint(1,6)\n",
    "random.seed(None)\n",
    "\n",
    "def roll_Jephian_dice():\n",
    "    p_space = list(range(1,7)) + [my_secret] * 5\n",
    "    return random.choice(p_space)"
   ]
  },
  {
   "cell_type": "code",
   "execution_count": null,
   "metadata": {},
   "outputs": [],
   "source": [
    "### Your answer here\n",
    "record = ???\n",
    "for _ in range(60000):\n",
    "    ???\n",
    "    \n",
    "record"
   ]
  },
  {
   "cell_type": "markdown",
   "metadata": {},
   "source": [
    "#### Exercise\n",
    "Write a function `Fibonacci(n)` that \n",
    "returns the Fibonacci sequence `[a[0],a[1],...,a[n]]`.\n",
    "\n",
    "Recall that the Fibonacci sequence has $a_0=a_1=1$ and $a_k=a_{k-1}+a_{k-2}$."
   ]
  },
  {
   "cell_type": "code",
   "execution_count": null,
   "metadata": {},
   "outputs": [],
   "source": [
    "def Fibonacci(n):\n",
    "    ### Your answer here"
   ]
  },
  {
   "cell_type": "markdown",
   "metadata": {},
   "source": [
    "#### Exercise\n",
    "Write a function `left_shift(l)`  \n",
    "that takes a list `l` and  \n",
    "outputs another list `[l[1],...,l[n-1],l[0]]`.\n",
    "\n",
    "For example, `left_shift([1,2,3,4,5])` would be `[2,3,4,5,1]`."
   ]
  },
  {
   "cell_type": "code",
   "execution_count": null,
   "metadata": {},
   "outputs": [],
   "source": [
    "def left_shift(l):\n",
    "    ### Your answer here\n",
    "    "
   ]
  },
  {
   "cell_type": "markdown",
   "metadata": {},
   "source": [
    "#### Exercise\n",
    "Similarly, write a function `right_shift(l)`  \n",
    "that takes a list `l` and  \n",
    "outputs another list `[l[n-1],l[0],...,l[n-2]]`."
   ]
  },
  {
   "cell_type": "code",
   "execution_count": null,
   "metadata": {},
   "outputs": [],
   "source": [
    "def right_shift(l):\n",
    "    ### Your answer here\n",
    "    "
   ]
  },
  {
   "cell_type": "markdown",
   "metadata": {},
   "source": [
    "#### Exercise\n",
    "Without using the built-in `max` function,\n",
    "write a function `my_max(l)`  \n",
    "that takes a list `l` of numbers as the input  \n",
    "and outputs the maximum number in `l`."
   ]
  },
  {
   "cell_type": "code",
   "execution_count": null,
   "metadata": {},
   "outputs": [],
   "source": [
    "### Your answer here\n",
    "def my_max(l):\n",
    "    ???\n",
    "    return ???\n"
   ]
  },
  {
   "cell_type": "markdown",
   "metadata": {},
   "source": [
    "#### Exercise\n",
    "Write a function `max_ind(l)`  \n",
    "that takes a list `l` of numbers as the input  \n",
    "and outputs the index of the maximum numhber in `l`.  \n",
    "(If there are more than one maximum numbers, return the index of any of them.)"
   ]
  },
  {
   "cell_type": "code",
   "execution_count": null,
   "metadata": {},
   "outputs": [],
   "source": [
    "### Your answer here\n",
    "def max_ind(l):\n",
    "    ???\n",
    "    return ???"
   ]
  },
  {
   "cell_type": "markdown",
   "metadata": {},
   "source": [
    "#### Exercise\n",
    "Create a list of integers k between 1 and 100 such that  \n",
    "`k % 3 = 2` and `k % 5 = 3`.  \n",
    "How many are they?"
   ]
  },
  {
   "cell_type": "code",
   "execution_count": null,
   "metadata": {},
   "outputs": [],
   "source": [
    "want = []\n",
    "for k in range(1,101):\n",
    "    if ???:\n",
    "        ???\n",
    "        \n",
    "print(want)\n",
    "print(???)  ### How many?"
   ]
  },
  {
   "cell_type": "markdown",
   "metadata": {},
   "source": [
    "### List comprehension\n",
    "List comprehension allows you to create a list \n",
    "through `for` and `if` in an easy way."
   ]
  },
  {
   "cell_type": "markdown",
   "metadata": {},
   "source": [
    "Use `for` for create a list."
   ]
  },
  {
   "cell_type": "code",
   "execution_count": null,
   "metadata": {},
   "outputs": [],
   "source": [
    "[k**2 for k in range(6)]"
   ]
  },
  {
   "cell_type": "markdown",
   "metadata": {},
   "source": [
    "Use `if` to select particular values."
   ]
  },
  {
   "cell_type": "code",
   "execution_count": null,
   "metadata": {},
   "outputs": [],
   "source": [
    "[k**2 for k in range(6) if k%2==1]"
   ]
  },
  {
   "cell_type": "markdown",
   "metadata": {},
   "source": [
    "You may use more than one `for` loops."
   ]
  },
  {
   "cell_type": "code",
   "execution_count": null,
   "metadata": {},
   "outputs": [],
   "source": [
    "[(i,j) for i in range(3) for j in range(3)]"
   ]
  },
  {
   "cell_type": "code",
   "execution_count": null,
   "metadata": {},
   "outputs": [],
   "source": [
    "[i+j for i in range(3) for j in range(3)]"
   ]
  },
  {
   "cell_type": "code",
   "execution_count": null,
   "metadata": {},
   "outputs": [],
   "source": [
    "[i+j for i in range(3) for j in range(3) if i == j]"
   ]
  },
  {
   "cell_type": "markdown",
   "metadata": {},
   "source": [
    "Similar syntax applies to dictionaries."
   ]
  },
  {
   "cell_type": "code",
   "execution_count": null,
   "metadata": {},
   "outputs": [],
   "source": [
    "{k:k^2 for k in range(6) if k%2==1}"
   ]
  },
  {
   "cell_type": "markdown",
   "metadata": {},
   "source": [
    "### Functions for a list"
   ]
  },
  {
   "cell_type": "markdown",
   "metadata": {},
   "source": [
    "Consider a list `a`.\n",
    "\n",
    "`sum(a)` returns the sum of the elements in `a`.  \n",
    "\n",
    "Note that `+` might have different meaning for different objects."
   ]
  },
  {
   "cell_type": "code",
   "execution_count": null,
   "metadata": {},
   "outputs": [],
   "source": [
    "a = [1,2,3]\n",
    "sum(a)"
   ]
  },
  {
   "cell_type": "code",
   "execution_count": null,
   "metadata": {},
   "outputs": [],
   "source": [
    "a = [[0,1,2],[2,3,4],[4,5,6]]\n",
    "sum(a,[]) ### check sum? to see the meaning of the second argument"
   ]
  },
  {
   "cell_type": "markdown",
   "metadata": {},
   "source": [
    "`max(a)` and `min(a)` return the max element and the min element in the list `a`."
   ]
  },
  {
   "cell_type": "code",
   "execution_count": null,
   "metadata": {},
   "outputs": [],
   "source": [
    "a = [6,2,14,8,5]\n",
    "max(a)"
   ]
  },
  {
   "cell_type": "code",
   "execution_count": null,
   "metadata": {},
   "outputs": [],
   "source": [
    "min(a)"
   ]
  },
  {
   "cell_type": "markdown",
   "metadata": {},
   "source": [
    "`a.sort()` modifies `a` itself so that the elements are from small to large.  \n",
    "If `reverse=True`, then it is from large to small.  \n",
    "Use `key` to set a sorting criterion. "
   ]
  },
  {
   "cell_type": "code",
   "execution_count": null,
   "metadata": {},
   "outputs": [],
   "source": [
    "a = [6,2,14,8,5]\n",
    "a.sort()\n",
    "a"
   ]
  },
  {
   "cell_type": "code",
   "execution_count": null,
   "metadata": {},
   "outputs": [],
   "source": [
    "a = [6,2,14,8,5]\n",
    "a.sort(reverse=True)\n",
    "a"
   ]
  },
  {
   "cell_type": "code",
   "execution_count": null,
   "metadata": {},
   "outputs": [],
   "source": [
    "a.sort(key=lambda k : k % 5)\n",
    "a"
   ]
  },
  {
   "cell_type": "markdown",
   "metadata": {},
   "source": [
    "`any(a)` returns True if `bool(x)` is `True` for any `x` in the iterable `a`."
   ]
  },
  {
   "cell_type": "code",
   "execution_count": null,
   "metadata": {},
   "outputs": [],
   "source": [
    "a = [True,False,False]\n",
    "any(a)"
   ]
  },
  {
   "cell_type": "code",
   "execution_count": null,
   "metadata": {},
   "outputs": [],
   "source": [
    "a = [0,0,0]\n",
    "any(a)"
   ]
  },
  {
   "cell_type": "markdown",
   "metadata": {},
   "source": [
    "Consider two lists `a` and `b`.\n",
    "\n",
    "`zip(a,b)` is a generator of   \n",
    "`(a[0],b[0]), (a[1],b[1]), ...`."
   ]
  },
  {
   "cell_type": "code",
   "execution_count": null,
   "metadata": {},
   "outputs": [],
   "source": [
    "a = ['four','two','three','one','zero']\n",
    "b = [4,2,3,1,0]\n",
    "for i,j in zip(a,b):\n",
    "    print(i,j)"
   ]
  },
  {
   "cell_type": "markdown",
   "metadata": {},
   "source": [
    "`enumerate(a)` is a generator  \n",
    "`(0,a[0]), (1,a[1]), ...`"
   ]
  },
  {
   "cell_type": "code",
   "execution_count": null,
   "metadata": {},
   "outputs": [],
   "source": [
    "for ind, val in enumerate(a):\n",
    "    print(ind,val)"
   ]
  },
  {
   "cell_type": "markdown",
   "metadata": {},
   "source": [
    "Consider a function `f` and a list `a`.\n",
    "\n",
    "`map(f, a)` is a generator of  \n",
    "`f(a[0]), f(a[1]), ...`."
   ]
  },
  {
   "cell_type": "code",
   "execution_count": null,
   "metadata": {},
   "outputs": [],
   "source": [
    "for i in map(lambda k: k**2, range(5)):\n",
    "    print(i)"
   ]
  },
  {
   "cell_type": "code",
   "execution_count": null,
   "metadata": {},
   "outputs": [],
   "source": [
    "text_to_num = {\"zero\":0, \"one\":1, \"two\":2, \"three\":3, \"four\":4, \"five\":5, \"six\":6, \"seven\":7, \"eight\":8, \"nine\": 9}\n",
    "\n",
    "for i in map(lambda k: text_to_num[k], [\"three\",\"one\",\"four\",\"one\",\"five\",\"nine\"]):\n",
    "    print(i)"
   ]
  },
  {
   "cell_type": "markdown",
   "metadata": {},
   "source": [
    "#### Exercise\n",
    "In one line, compute the value $\\sum_{k=1}^{10} k^2$."
   ]
  },
  {
   "cell_type": "code",
   "execution_count": null,
   "metadata": {},
   "outputs": [],
   "source": [
    "### Your answer here\n"
   ]
  },
  {
   "cell_type": "markdown",
   "metadata": {},
   "source": [
    "#### Exercise\n",
    "In one line, compute the value of $1^2+3^2+\\cdots + 15^2$."
   ]
  },
  {
   "cell_type": "code",
   "execution_count": null,
   "metadata": {},
   "outputs": [],
   "source": [
    "### Your answer here\n"
   ]
  },
  {
   "cell_type": "markdown",
   "metadata": {},
   "source": [
    "#### Exercise\n",
    "`l` is a list of lists.  \n",
    "In one line, sort the lists in `l` by their last elements."
   ]
  },
  {
   "cell_type": "code",
   "execution_count": null,
   "metadata": {},
   "outputs": [],
   "source": [
    "l = [[1,3,2],[2,2,4],[3,1,6,3,1],[6,7],[9,2,0],[0,0,0,0,0,3]]\n",
    "### Your answer here\n",
    "\n",
    "\n",
    "print(l)"
   ]
  },
  {
   "cell_type": "markdown",
   "metadata": {},
   "source": [
    "#### Exercise\n",
    "Use `max` and its keyword `key`  \n",
    "to write a function `max_index(l)`  \n",
    "that takes a list and returns the index of the maximum element.  \n",
    "(If more than one maximum element, just return one.)"
   ]
  },
  {
   "cell_type": "code",
   "execution_count": null,
   "metadata": {},
   "outputs": [],
   "source": [
    "def max_index(l):\n",
    "    ### Your answer here\n",
    "    "
   ]
  },
  {
   "cell_type": "markdown",
   "metadata": {},
   "source": [
    "#### Exercise\n",
    "Here `month_to_days` is a dictionary of the form  \n",
    "`{ month: number of days in that month}`.\n",
    "\n",
    "Use `lambda` to create a function  \n",
    "that sends the name of the month  \n",
    "to the number of days in the month."
   ]
  },
  {
   "cell_type": "code",
   "execution_count": null,
   "metadata": {},
   "outputs": [],
   "source": [
    "month_to_days = {'January': 31, 'February': 28, 'March': 31, 'April': 30, \n",
    "                 'May': 31, 'June': 30, 'July': 31, 'August': 31, \n",
    "                 'September': 30, 'October': 31, 'November': 30, 'December': 31}\n",
    "### Your answer here\n",
    "f = lambda ???"
   ]
  },
  {
   "cell_type": "markdown",
   "metadata": {},
   "source": [
    "#### Exercise\n",
    "Here `month_to_days` is a dictionary of the form  \n",
    "`{ month: number of days in that month}`.\n",
    "\n",
    "Create a list of months, sorted by the number of days in them."
   ]
  },
  {
   "cell_type": "code",
   "execution_count": null,
   "metadata": {},
   "outputs": [],
   "source": [
    "month_to_days = {'January': 31, 'February': 28, 'March': 31, 'April': 30, \n",
    "                 'May': 31, 'June': 30, 'July': 31, 'August': 31, \n",
    "                 'September': 30, 'October': 31, 'November': 30, 'December': 31}\n",
    "### Your answer here\n",
    "\n",
    "months = list(month_to_days.keys())\n",
    "months"
   ]
  },
  {
   "cell_type": "markdown",
   "metadata": {},
   "source": [
    "### Copy and view"
   ]
  },
  {
   "cell_type": "markdown",
   "metadata": {},
   "source": [
    "A list is stored in a sequence of memories.  \n",
    "If `a` is a list, then \n",
    "```Python\n",
    "b = a\n",
    "```\n",
    "only passes the memory address of `a` to `b`.\n",
    "\n",
    "Changing `b` will also cause a change to `a`.  \n",
    "So `b` only take a **view** of `a`."
   ]
  },
  {
   "cell_type": "code",
   "execution_count": null,
   "metadata": {},
   "outputs": [],
   "source": [
    "a = [1,2,3,4,5]\n",
    "b = a\n",
    "b[0] = -1\n",
    "print(a)\n",
    "print(b)"
   ]
  },
  {
   "cell_type": "code",
   "execution_count": null,
   "metadata": {},
   "outputs": [],
   "source": [
    "print(id(a))\n",
    "print(id(b))"
   ]
  },
  {
   "cell_type": "markdown",
   "metadata": {},
   "source": [
    "Use `a.copy()` to create a **copy** of `a`  \n",
    "if you want to preserve the values in `a`."
   ]
  },
  {
   "cell_type": "code",
   "execution_count": null,
   "metadata": {},
   "outputs": [],
   "source": [
    "a = [1,2,3,4,5]\n",
    "b = a.copy()\n",
    "b[0] = -1\n",
    "print(a)\n",
    "print(b)"
   ]
  },
  {
   "cell_type": "code",
   "execution_count": null,
   "metadata": {},
   "outputs": [],
   "source": [
    "print(id(a))\n",
    "print(id(b))"
   ]
  },
  {
   "cell_type": "markdown",
   "metadata": {},
   "source": [
    "## 3. pandas:  Series"
   ]
  },
  {
   "cell_type": "markdown",
   "metadata": {},
   "source": [
    "[pandas](https://pandas.pydata.org/) is a library for data processing and data analysis on Python.\n",
    "\n",
    "Check the official [pandas tutorial](https://pandas.pydata.org/pandas-docs/stable/tutorials.html) and a simple version [10 Minutes to pandas](https://pandas.pydata.org/pandas-docs/stable/10min.html) for more information.\n",
    "\n",
    "\n",
    "Use \n",
    "```Python\n",
    "import pandas as pd\n",
    "```\n",
    "to import pandas.\n",
    "\n",
    "Quit often, you will also \n",
    "```Python\n",
    "import numpy as np\n",
    "```\n",
    "since occassionally you will need NumPy to create arrays for pandas."
   ]
  },
  {
   "cell_type": "code",
   "execution_count": null,
   "metadata": {},
   "outputs": [],
   "source": [
    "import numpy as np\n",
    "import pandas as pd"
   ]
  },
  {
   "cell_type": "markdown",
   "metadata": {},
   "source": [
    "pandas provides two data structures: `Series` and `DataFrame`.  \n",
    "They are similar to one-dimensional and two-dimensional `ndarray`s.\n",
    "\n",
    "Indeed, you can create a `Series` by a one-dimensional `ndarray`."
   ]
  },
  {
   "cell_type": "code",
   "execution_count": null,
   "metadata": {},
   "outputs": [],
   "source": [
    "data = np.random.randn(10)\n",
    "data"
   ]
  },
  {
   "cell_type": "code",
   "execution_count": null,
   "metadata": {},
   "outputs": [],
   "source": [
    "s = pd.Series(data)\n",
    "s"
   ]
  },
  {
   "cell_type": "code",
   "execution_count": null,
   "metadata": {},
   "outputs": [],
   "source": [
    "type(s)"
   ]
  },
  {
   "cell_type": "markdown",
   "metadata": {},
   "source": [
    "and create a `DataFrame` by a two-dimensional `ndarray`."
   ]
  },
  {
   "cell_type": "code",
   "execution_count": null,
   "metadata": {},
   "outputs": [],
   "source": [
    "data = np.random.randn(2,3)\n",
    "data"
   ]
  },
  {
   "cell_type": "code",
   "execution_count": null,
   "metadata": {},
   "outputs": [],
   "source": [
    "df = pd.DataFrame(data)\n",
    "df"
   ]
  },
  {
   "cell_type": "code",
   "execution_count": null,
   "metadata": {},
   "outputs": [],
   "source": [
    "type(df)"
   ]
  },
  {
   "cell_type": "markdown",
   "metadata": {},
   "source": [
    "### Operations\n",
    "Similar to `ndarray`, operations on `Series` or `DataFrame` are mostly entrywise."
   ]
  },
  {
   "cell_type": "code",
   "execution_count": null,
   "metadata": {},
   "outputs": [],
   "source": [
    "s = pd.Series(np.arange(5))\n",
    "s"
   ]
  },
  {
   "cell_type": "code",
   "execution_count": null,
   "metadata": {},
   "outputs": [],
   "source": [
    "s * 100"
   ]
  },
  {
   "cell_type": "code",
   "execution_count": null,
   "metadata": {},
   "outputs": [],
   "source": [
    "s > 2"
   ]
  },
  {
   "cell_type": "markdown",
   "metadata": {},
   "source": [
    "Statistic functions are also available."
   ]
  },
  {
   "cell_type": "code",
   "execution_count": null,
   "metadata": {},
   "outputs": [],
   "source": [
    "df = pd.DataFrame(np.arange(6).reshape(2,3))\n",
    "df"
   ]
  },
  {
   "cell_type": "code",
   "execution_count": null,
   "metadata": {},
   "outputs": [],
   "source": [
    "df.sum(axis=1)"
   ]
  },
  {
   "cell_type": "code",
   "execution_count": null,
   "metadata": {},
   "outputs": [],
   "source": [
    "df.max(axis=0)"
   ]
  },
  {
   "cell_type": "markdown",
   "metadata": {},
   "source": [
    "### Series\n",
    "Use `[]` or `iloc[]` to **select** an entry.  \n",
    "`iloc` stands for index location."
   ]
  },
  {
   "cell_type": "code",
   "execution_count": null,
   "metadata": {},
   "outputs": [],
   "source": [
    "s = pd.Series(np.random.randn(10))\n",
    "s"
   ]
  },
  {
   "cell_type": "code",
   "execution_count": null,
   "metadata": {},
   "outputs": [],
   "source": [
    "s[5]"
   ]
  },
  {
   "cell_type": "code",
   "execution_count": null,
   "metadata": {},
   "outputs": [],
   "source": [
    "s.iloc[5]"
   ]
  },
  {
   "cell_type": "markdown",
   "metadata": {},
   "source": [
    "A major difference between `pd.Series` and `nd.array`  \n",
    "is `pd.Series` allows giving names to each index."
   ]
  },
  {
   "cell_type": "code",
   "execution_count": null,
   "metadata": {},
   "outputs": [],
   "source": [
    "a = {'Alice': 50, 'Bob': 60, 'Chris': 65, 'Daniel': 40}\n",
    "s = pd.Series(a)\n",
    "s"
   ]
  },
  {
   "cell_type": "markdown",
   "metadata": {},
   "source": [
    "`.index` returns the names of indices.  \n",
    "You may also use it to set the index names."
   ]
  },
  {
   "cell_type": "code",
   "execution_count": null,
   "metadata": {},
   "outputs": [],
   "source": [
    "weights = [50,60,65,40]\n",
    "names = ['Alice', 'Bob', 'Chris', 'Daniel']\n",
    "s = pd.Series(weights)\n",
    "s.index = names\n",
    "s"
   ]
  },
  {
   "cell_type": "markdown",
   "metadata": {},
   "source": [
    "Use `[index]`, `iloc[index]`, `[index name]`, or `loc[index name]` to select an entry."
   ]
  },
  {
   "cell_type": "code",
   "execution_count": null,
   "metadata": {},
   "outputs": [],
   "source": [
    "print(s[0])\n",
    "print(s.iloc[0])\n",
    "print(s['Alice'])\n",
    "print(s.loc['Alice'])"
   ]
  },
  {
   "cell_type": "markdown",
   "metadata": {},
   "source": [
    "### Series Slicing\n",
    "Slicing methods for a list also applies to a `Series`.  "
   ]
  },
  {
   "cell_type": "code",
   "execution_count": null,
   "metadata": {},
   "outputs": [],
   "source": [
    "s = pd.Series(np.random.randn(10))\n",
    "s"
   ]
  },
  {
   "cell_type": "code",
   "execution_count": null,
   "metadata": {},
   "outputs": [],
   "source": [
    "s[5:8]"
   ]
  },
  {
   "cell_type": "markdown",
   "metadata": {},
   "source": [
    "Slicing is also fine with names of indices"
   ]
  },
  {
   "cell_type": "code",
   "execution_count": null,
   "metadata": {},
   "outputs": [],
   "source": [
    "alphabet = list('abcdefg')\n",
    "nums = range(7)\n",
    "s = pd.Series(nums)\n",
    "s.index = alphabet\n",
    "s"
   ]
  },
  {
   "cell_type": "code",
   "execution_count": null,
   "metadata": {},
   "outputs": [],
   "source": [
    "s['b':'f']"
   ]
  },
  {
   "cell_type": "markdown",
   "metadata": {},
   "source": [
    "You can slice the `Series` by a boolean array."
   ]
  },
  {
   "cell_type": "code",
   "execution_count": null,
   "metadata": {},
   "outputs": [],
   "source": [
    "s = pd.Series(np.random.randn(10))\n",
    "s"
   ]
  },
  {
   "cell_type": "code",
   "execution_count": null,
   "metadata": {},
   "outputs": [],
   "source": [
    "s > 0"
   ]
  },
  {
   "cell_type": "code",
   "execution_count": null,
   "metadata": {},
   "outputs": [],
   "source": [
    "s[ s>0 ]"
   ]
  },
  {
   "cell_type": "markdown",
   "metadata": {},
   "source": [
    "Even by the name of the indices."
   ]
  },
  {
   "cell_type": "code",
   "execution_count": null,
   "metadata": {},
   "outputs": [],
   "source": [
    "s[s.index % 2 == 1]"
   ]
  },
  {
   "cell_type": "markdown",
   "metadata": {},
   "source": [
    "### Graphs of a Series"
   ]
  },
  {
   "cell_type": "code",
   "execution_count": null,
   "metadata": {},
   "outputs": [],
   "source": [
    "data = np.random.randn(10000)\n",
    "s = pd.Series(data)\n",
    "s"
   ]
  },
  {
   "cell_type": "markdown",
   "metadata": {},
   "source": [
    "Use `.head()` to read the head of a `Series` or a `DataFrame`."
   ]
  },
  {
   "cell_type": "code",
   "execution_count": null,
   "metadata": {},
   "outputs": [],
   "source": [
    "s.head()"
   ]
  },
  {
   "cell_type": "code",
   "execution_count": null,
   "metadata": {},
   "outputs": [],
   "source": [
    "s = 5 * s + 10\n",
    "s.head()"
   ]
  },
  {
   "cell_type": "markdown",
   "metadata": {},
   "source": [
    "`s.plot()` **plots** a graph connecting the points  \n",
    "`(0,s[0]), (1,s[1]), ...`"
   ]
  },
  {
   "cell_type": "code",
   "execution_count": null,
   "metadata": {},
   "outputs": [],
   "source": [
    "s.plot()"
   ]
  },
  {
   "cell_type": "markdown",
   "metadata": {},
   "source": [
    "`s.plot()` draw the **histogram** of the distribution of `s`."
   ]
  },
  {
   "cell_type": "code",
   "execution_count": null,
   "metadata": {},
   "outputs": [],
   "source": [
    "s.hist() ### try s.hist(bins=50)"
   ]
  },
  {
   "cell_type": "markdown",
   "metadata": {},
   "source": [
    "#### Exercise\n",
    "Create a `Series` whose indices are from January to December  \n",
    "and the values are the number of days in each month.  \n",
    "(Let's say Feburuary has 28 days.)\n",
    "\n",
    "How many days from March 1st to September 30th, including the first day and the last day?"
   ]
  },
  {
   "cell_type": "code",
   "execution_count": null,
   "metadata": {},
   "outputs": [],
   "source": [
    "months = ['January','Feburuary','March','April','May','June','July','August','September','October','November','December']\n",
    "days = [31,28,31,30,31,30,31,31,30,31,30,31]\n",
    "### Your answer here\n"
   ]
  },
  {
   "cell_type": "markdown",
   "metadata": {},
   "source": [
    "#### Exercise\n",
    "\n",
    "Use the `Series` in the previous problem  \n",
    "to generate a new `Series` that consists of only those months with 31 days."
   ]
  },
  {
   "cell_type": "code",
   "execution_count": null,
   "metadata": {},
   "outputs": [],
   "source": [
    "### Your answer here\n"
   ]
  },
  {
   "cell_type": "markdown",
   "metadata": {},
   "source": [
    "#### Exercise\n",
    "`Series.plot()` also depends the index.  \n",
    "Plot the exponential function and the log funcion in the following way.\n",
    "1. Let `x` be an `ndarray` of `[0.5,1,1.5, ... ,10]`.\n",
    "2. Let `y` be another `ndarray` of `[np.exp(0.5), np.exp(1), ... , np.exp(10)]`.\n",
    "3. Create a `Series` `s1` whose values are `y` and whose indices are `x`.\n",
    "4. Create a `Series` `s2` whose values are `x` and whose indices are `y`.\n",
    "5. Do `s1.plot()` and `s2.plot()` in different cells."
   ]
  },
  {
   "cell_type": "code",
   "execution_count": null,
   "metadata": {},
   "outputs": [],
   "source": [
    "### Your answer here\n",
    "\n",
    "### s1 plots the exponential function\n",
    "s1.plot()"
   ]
  },
  {
   "cell_type": "code",
   "execution_count": null,
   "metadata": {},
   "outputs": [],
   "source": [
    "### Your answer here\n",
    "\n",
    "### s1 plots the exponential function\n",
    "s2.plot()"
   ]
  },
  {
   "cell_type": "markdown",
   "metadata": {},
   "source": [
    "#### Exercise\n",
    "`pandas` has many nice features to process data.  \n",
    "When `s` is a `Series`,  \n",
    "check out the documentation of `s.value_counts()` and `s.idxmax()`.  \n",
    "\n",
    "Use them to write a function `most_freq(l)`  \n",
    "that takes a list whose elements are in 1,...,6  \n",
    "and outputs the most frequent element.\n",
    "\n",
    "For example, for the `a` defined below,  \n",
    "`most_freq(a)` should be 5."
   ]
  },
  {
   "cell_type": "code",
   "execution_count": null,
   "metadata": {},
   "outputs": [],
   "source": [
    "### Run this cell first to create the dice\n",
    "\n",
    "import random\n",
    "\n",
    "random.seed(10)  ### You can change a dice by changing the number here\n",
    "my_secret = random.randint(1,6)\n",
    "random.seed(None)\n",
    "\n",
    "def roll_Jephian_dice():\n",
    "    p_space = list(range(1,7)) + [my_secret] * 5\n",
    "    return random.choice(p_space)"
   ]
  },
  {
   "cell_type": "code",
   "execution_count": null,
   "metadata": {},
   "outputs": [],
   "source": [
    "a = [roll_Jephian_dice() for k in range(60000)]\n",
    "\n",
    "def most_freq(l):\n",
    "    ### Your answer here (which can be done in one line)\n",
    "    \n",
    "\n",
    "most_freq(a)"
   ]
  },
  {
   "cell_type": "markdown",
   "metadata": {},
   "source": [
    "## Homework"
   ]
  },
  {
   "cell_type": "markdown",
   "metadata": {},
   "source": [
    "#### Problem 1\n",
    "When `s` is a string,  \n",
    "`list(s)` will be a list of letters in `s`.\n",
    "\n",
    "Write a function `has(letter, s)`  \n",
    "that takes a length-one string `letter` and a string `s` as the input  \n",
    "and output `True` or `False`,  \n",
    "depending on whether `s` contains `letter`."
   ]
  },
  {
   "cell_type": "code",
   "execution_count": null,
   "metadata": {},
   "outputs": [],
   "source": [
    "s = 'abcdefg'\n",
    "print(list(s))\n",
    "\n",
    "### Your answer here\n",
    "def has(letter, s):\n",
    "    ???\n",
    "    return ???"
   ]
  },
  {
   "cell_type": "markdown",
   "metadata": {},
   "source": [
    "#### Problem 2\n",
    "Write a function `is_prime(k)`  \n",
    "that takes an integer `k` as the input  \n",
    "and outputs `True` or `False` depending on whether `k` is a prime number or not."
   ]
  },
  {
   "cell_type": "code",
   "execution_count": null,
   "metadata": {},
   "outputs": [],
   "source": [
    "### Your answer here\n",
    "def is_prime(k):\n",
    "    ???\n",
    "    return ???"
   ]
  },
  {
   "cell_type": "markdown",
   "metadata": {},
   "source": [
    "#### Problem 3\n",
    "Suppose `l` is a list of numbers in `1,...,6`.\n",
    "\n",
    "Write a function `dice_distribution(l)`  \n",
    "that takes `l` as the input  \n",
    "and output the distribution \n",
    "`[a1,...,a6]`,  \n",
    "where `ak` is the number of occurrences of `k` in the list `l`."
   ]
  },
  {
   "cell_type": "code",
   "execution_count": null,
   "metadata": {},
   "outputs": [],
   "source": [
    "l = [1,3,2,2,3,5,4,6,4,3,2,5,6,1,3,4,2,6,1,5,3,2,4,5,1,2,6,4,3,4,3,4,3,6,6,5,5,6,5,2,1,4]\n",
    "### Your answer here\n",
    "def dice_distribution(l):\n",
    "    ???\n",
    "    return ???\n"
   ]
  },
  {
   "cell_type": "markdown",
   "metadata": {},
   "source": [
    "#### Problem 4\n",
    "Now Jephian has a dice and you can roll it several times  \n",
    "to get a list of numbers in `1,...,6`.\n",
    "\n",
    "Without using `pandas` (which may slow down the speed),  \n",
    "write a function `most_freq(l)`  \n",
    "that takes `l` as the input  \n",
    "and output the most frequent element."
   ]
  },
  {
   "cell_type": "code",
   "execution_count": null,
   "metadata": {},
   "outputs": [],
   "source": [
    "### Run this cell first to create the dice\n",
    "\n",
    "import random\n",
    "\n",
    "random.seed(10)  ### You can change a dice by changing the number here\n",
    "my_secret = random.randint(1,6)\n",
    "random.seed(None)\n",
    "\n",
    "def roll_Jephian_dice():\n",
    "    p_space = list(range(1,7)) + [my_secret] * 5\n",
    "    return random.choice(p_space)"
   ]
  },
  {
   "cell_type": "code",
   "execution_count": null,
   "metadata": {},
   "outputs": [],
   "source": [
    "l = [roll_Jephian_dice() for k in range(60000)]\n",
    "\n",
    "def most_freq(l):\n",
    "    ### Your answer here (which can be done in one line)\n",
    "    \n",
    "\n",
    "most_freq(a)"
   ]
  },
  {
   "cell_type": "markdown",
   "metadata": {},
   "source": [
    "#### Problem 5\n",
    "Now Jephian wants to play a game with you:  \n",
    "1. Jephian will roll a dice 100 times.\n",
    "2. You can choose to bet (cost $1) or to hold (cost nothing).\n",
    "3. If your bet is the correct number, you win \\$3.\n",
    "4. Step 1~3 together is called a round.  \n",
    "Each round Jephian will use a different dice.  \n",
    "This process will repeat 60 rounds.  \n",
    "\n",
    "As more as possible, earn some money from Jephian!"
   ]
  },
  {
   "cell_type": "markdown",
   "metadata": {},
   "source": [
    "A few more details:\n",
    "1. The dice has 6 numbers: 1,...,6.\n",
    "2. You have access to a list called `record`,  \n",
    "which records all numbers appeared so far.\n",
    "3. Each round starts with `record = []`.  \n",
    "4. You are going to write a function `player_move()` to represent your strategy.  \n",
    "Return 1,...,6 to bet; return 0 to hold.\n",
    "5. Then run the cell with `play()` to check the result.\n",
    "\n",
    "Run the next three cells to get a feeling first."
   ]
  },
  {
   "cell_type": "code",
   "execution_count": null,
   "metadata": {},
   "outputs": [],
   "source": [
    "### Run this cell first to setup\n",
    "\n",
    "import random\n",
    "\n",
    "record = []\n",
    "def roll_Jephian_dice():\n",
    "    p_space = list(range(1,7)) + [my_secret] * 2\n",
    "    return random.choice(p_space)\n",
    "\n",
    "def play():\n",
    "    played_list = []\n",
    "    earned_list = []\n",
    "    for _ in range(60):\n",
    "        record.clear()\n",
    "        played = 0\n",
    "        earned = 0\n",
    "        my_secret = random.randint(1,6)\n",
    "        for __ in range(100):\n",
    "            p = player_move()\n",
    "            if p not in [0,1,2,3,4,5,6]:\n",
    "                raise ValueError('Your function can only output 0,...,6')\n",
    "            J = roll_Jephian_dice()\n",
    "            record.append(J)\n",
    "            if p == 0:\n",
    "                pass\n",
    "            else:\n",
    "                played += 1\n",
    "                earned -= 1\n",
    "                if p == J:\n",
    "                    earned += 3\n",
    "        played_list.append(played)\n",
    "        earned_list.append(earned)\n",
    "    \n",
    "    print('Each round')\n",
    "    print('Average number of games played:',np.average(np.array(played_list)))\n",
    "    print('Average money earned:', np.average(np.array(earned_list)))\n",
    "    print()\n",
    "    print('Total money earned:', np.array(earned_list).sum())"
   ]
  },
  {
   "cell_type": "code",
   "execution_count": null,
   "metadata": {},
   "outputs": [],
   "source": [
    "### Define your strategy here in player_move()\n",
    "### Remember that you have the access to the record\n",
    "\n",
    "def player_move():\n",
    "    return random_guess() ### random guess is not a good idea\n",
    "\n",
    "### Sample strategies\n",
    "def always_hold():\n",
    "    return 0\n",
    "\n",
    "def random_guess():\n",
    "    return random.randint(1,6)\n",
    "\n"
   ]
  },
  {
   "cell_type": "code",
   "execution_count": null,
   "metadata": {
    "scrolled": false
   },
   "outputs": [],
   "source": [
    "play()"
   ]
  },
  {
   "cell_type": "code",
   "execution_count": null,
   "metadata": {},
   "outputs": [],
   "source": []
  }
 ],
 "metadata": {
  "kernelspec": {
   "display_name": "Python 3 (Ubuntu Linux)",
   "language": "python",
   "name": "python3"
  },
  "language_info": {
   "codemirror_mode": {
    "name": "ipython",
    "version": 3
   },
   "file_extension": ".py",
   "mimetype": "text/x-python",
   "name": "python",
   "nbconvert_exporter": "python",
   "pygments_lexer": "ipython3",
   "version": "3.6.7"
  }
 },
 "nbformat": 4,
 "nbformat_minor": 2
}
