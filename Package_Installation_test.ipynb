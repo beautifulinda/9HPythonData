{
 "cells": [
  {
   "cell_type": "code",
   "execution_count": 1,
   "metadata": {},
   "outputs": [
    {
     "name": "stdout",
     "output_type": "stream",
     "text": [
      "NAME=\"Ubuntu\"\r\n",
      "VERSION=\"18.04.1 LTS (Bionic Beaver)\"\r\n",
      "ID=ubuntu\r\n",
      "ID_LIKE=debian\r\n",
      "PRETTY_NAME=\"Ubuntu 18.04.1 LTS\"\r\n",
      "VERSION_ID=\"18.04\"\r\n",
      "HOME_URL=\"https://www.ubuntu.com/\"\r\n",
      "SUPPORT_URL=\"https://help.ubuntu.com/\"\r\n",
      "BUG_REPORT_URL=\"https://bugs.launchpad.net/ubuntu/\"\r\n",
      "PRIVACY_POLICY_URL=\"https://www.ubuntu.com/legal/terms-and-policies/privacy-policy\"\r\n",
      "VERSION_CODENAME=bionic\r\n",
      "UBUNTU_CODENAME=bionic\r\n"
     ]
    }
   ],
   "source": [
    "!cat /etc/os-release"
   ]
  },
  {
   "cell_type": "code",
   "execution_count": 2,
   "metadata": {},
   "outputs": [
    {
     "name": "stdout",
     "output_type": "stream",
     "text": [
      "gzip: funniesttest-1.0.tar already exists; do you wish to overwrite (y or n)? ^C\n"
     ]
    }
   ],
   "source": [
    "!gzip -dk funniesttest-1.0.tar.gz && tar -xvf funniesttest-1.0.tar"
   ]
  },
  {
   "cell_type": "code",
   "execution_count": 4,
   "metadata": {},
   "outputs": [
    {
     "name": "stdout",
     "output_type": "stream",
     "text": [
      "PKG-INFO  funniest  setup.cfg  setup.py\r\n"
     ]
    }
   ],
   "source": [
    "!ls funniesttest-1.0"
   ]
  },
  {
   "cell_type": "code",
   "execution_count": 19,
   "metadata": {},
   "outputs": [
    {
     "name": "stdout",
     "output_type": "stream",
     "text": [
      "Running virtualenv with interpreter /usr/bin/python2\n",
      "New python executable in /home/user/my_project/bin/python2\n",
      "Not overwriting existing python script /home/user/my_project/bin/python (you must use /home/user/my_project/bin/python2)\n",
      "Installing setuptools, pkg_resources, pip, wheel...done.\n",
      "/bin/sh: 1: source: not found\n"
     ]
    }
   ],
   "source": [
    "!virtualenv my_project\n",
    "!source "
   ]
  },
  {
   "cell_type": "code",
   "execution_count": 23,
   "metadata": {},
   "outputs": [
    {
     "name": "stdout",
     "output_type": "stream",
     "text": [
      "/bin/sh: 1: source: not found\r\n"
     ]
    }
   ],
   "source": [
    "!source --help"
   ]
  },
  {
   "cell_type": "code",
   "execution_count": 5,
   "metadata": {},
   "outputs": [
    {
     "data": {
      "text/plain": [
       "2-element Array{Int64,1}:\n",
       " 1\n",
       " 2"
      ]
     },
     "execution_count": 5,
     "metadata": {},
     "output_type": "execute_result"
    }
   ],
   "source": [
    "!virtualenv my_project\n",
    "!source my_project/bin/activate && "
   ]
  },
  {
   "cell_type": "code",
   "execution_count": 4,
   "metadata": {},
   "outputs": [
    {
     "name": "stdout",
     "output_type": "stream",
     "text": [
      "/home/user\r\n"
     ]
    }
   ],
   "source": [
    "!cd ~ && pwd"
   ]
  },
  {
   "cell_type": "code",
   "execution_count": 40,
   "metadata": {},
   "outputs": [],
   "source": [
    "!rm install_fun"
   ]
  },
  {
   "cell_type": "code",
   "execution_count": 41,
   "metadata": {},
   "outputs": [],
   "source": [
    "f = open('install_fun','w')"
   ]
  },
  {
   "cell_type": "code",
   "execution_count": 43,
   "metadata": {},
   "outputs": [
    {
     "data": {
      "text/plain": [
       "93"
      ]
     },
     "execution_count": 43,
     "metadata": {},
     "output_type": "execute_result"
    }
   ],
   "source": [
    "f.write(a)"
   ]
  },
  {
   "cell_type": "code",
   "execution_count": 42,
   "metadata": {},
   "outputs": [],
   "source": [
    "a = \"\"\"#!/bin/bash\n",
    "\n",
    "virtualenv --python=/usr/bin/python3.6 my_project\n",
    "source my_project/bin/activate\"\"\""
   ]
  },
  {
   "cell_type": "code",
   "execution_count": 44,
   "metadata": {},
   "outputs": [],
   "source": [
    "f.close()"
   ]
  },
  {
   "cell_type": "code",
   "execution_count": 45,
   "metadata": {},
   "outputs": [
    {
     "name": "stdout",
     "output_type": "stream",
     "text": [
      "2014-11-07-214311.term\t funniesttest-1.0.tar\t  my_project\r\n",
      "2018-08-30-112212.ipynb  funniesttest-1.0.tar.gz  orange3\r\n",
      "2018-11-11-153246.x11\t funnytest-1.0.tar\t  orange3venv\r\n",
      "Workplate.sagews\t funnytest-1.0.tar.gz\r\n",
      "funniesttest-1.0\t install_fun\r\n"
     ]
    }
   ],
   "source": [
    "!ls"
   ]
  },
  {
   "cell_type": "code",
   "execution_count": 46,
   "metadata": {},
   "outputs": [
    {
     "name": "stdout",
     "output_type": "stream",
     "text": [
      "#!/bin/bash\r\n",
      "\r\n",
      "virtualenv --python=/usr/bin/python3.6 my_project\r\n",
      "source my_project/bin/activate"
     ]
    }
   ],
   "source": [
    "!cat install_fun"
   ]
  },
  {
   "cell_type": "code",
   "execution_count": 47,
   "metadata": {},
   "outputs": [],
   "source": [
    "!chmod u+x install_fun"
   ]
  },
  {
   "cell_type": "code",
   "execution_count": 48,
   "metadata": {},
   "outputs": [
    {
     "name": "stdout",
     "output_type": "stream",
     "text": [
      "Running virtualenv with interpreter /usr/bin/python3.6\n",
      "Using base prefix '/usr'\n",
      "New python executable in /home/user/my_project/bin/python3.6\n",
      "Not overwriting existing python script /home/user/my_project/bin/python (you must use /home/user/my_project/bin/python3.6)\n",
      "Installing setuptools, pkg_resources, pip, wheel...done.\n",
      "Processing /home/user/funniesttest-1.0\n",
      "Building wheels for collected packages: funniesttest\n",
      "  Running setup.py bdist_wheel for funniesttest ... \u001b[?25ldone\n",
      "\u001b[?25h  Stored in directory: /home/user/.cache/pip/wheels/1a/2e/92/60fc5d4d25b97453a02c2d52f1ee6d66d8fc2b018388bff4be\n",
      "Successfully built funniesttest\n",
      "Installing collected packages: funniesttest\n",
      "\u001b[31mCould not install packages due to an EnvironmentError: [Errno 30] Read-only file system: '/usr/lib/python3.6/site-packages'\n",
      "\u001b[0m\n"
     ]
    }
   ],
   "source": [
    "!./install_fun && cd ~/funniesttest-1.0/ && pip install ."
   ]
  },
  {
   "cell_type": "code",
   "execution_count": 39,
   "metadata": {},
   "outputs": [
    {
     "name": "stdout",
     "output_type": "stream",
     "text": [
      "/usr/bin/python\r\n",
      "/usr/bin/python-argcomplete-check-easy-install-script\r\n",
      "/usr/bin/python-argcomplete-check-easy-install-script3\r\n",
      "/usr/bin/python-argcomplete-tcsh\r\n",
      "/usr/bin/python-argcomplete-tcsh3\r\n",
      "/usr/bin/python-config\r\n",
      "/usr/bin/python-coverage\r\n",
      "/usr/bin/python2\r\n",
      "/usr/bin/python2-config\r\n",
      "/usr/bin/python2-coverage\r\n",
      "/usr/bin/python2-futurize\r\n",
      "/usr/bin/python2-jsonschema\r\n",
      "/usr/bin/python2-pasteurize\r\n",
      "/usr/bin/python2-pbr\r\n",
      "/usr/bin/python2-pulpdoctest\r\n",
      "/usr/bin/python2-pulptest\r\n",
      "/usr/bin/python2-websockify\r\n",
      "/usr/bin/python2.7\r\n",
      "/usr/bin/python2.7-config\r\n",
      "/usr/bin/python2.7-coverage\r\n",
      "/usr/bin/python3\r\n",
      "/usr/bin/python3-config\r\n",
      "/usr/bin/python3-coverage\r\n",
      "/usr/bin/python3-futurize\r\n",
      "/usr/bin/python3-gen_protorpc\r\n",
      "/usr/bin/python3-jsonschema\r\n",
      "/usr/bin/python3-less2scss\r\n",
      "/usr/bin/python3-lesscpy\r\n",
      "/usr/bin/python3-misaka\r\n",
      "/usr/bin/python3-pasteurize\r\n",
      "/usr/bin/python3-pbr\r\n",
      "/usr/bin/python3-pulpdoctest\r\n",
      "/usr/bin/python3-pulptest\r\n",
      "/usr/bin/python3-pyscss\r\n",
      "/usr/bin/python3-unit2\r\n",
      "/usr/bin/python3-wsdump\r\n",
      "/usr/bin/python3.6\r\n",
      "/usr/bin/python3.6-config\r\n",
      "/usr/bin/python3.6-coverage\r\n",
      "/usr/bin/python3.6m\r\n",
      "/usr/bin/python3.6m-config\r\n",
      "/usr/bin/python3m\r\n",
      "/usr/bin/python3m-config\r\n",
      "/usr/bin/python_count\r\n",
      "/usr/bin/pythontex\r\n",
      "/usr/bin/pythontex3\r\n"
     ]
    }
   ],
   "source": [
    "!ls /usr/bin/python*"
   ]
  },
  {
   "cell_type": "code",
   "execution_count": null,
   "metadata": {},
   "outputs": [],
   "source": []
  }
 ],
 "metadata": {
  "kernelspec": {
   "display_name": "Python 3 (Ubuntu Linux)",
   "language": "python",
   "name": "python3"
  },
  "language_info": {
   "codemirror_mode": {
    "name": "ipython",
    "version": 3
   },
   "file_extension": ".py",
   "mimetype": "text/x-python",
   "name": "python",
   "nbconvert_exporter": "python",
   "pygments_lexer": "ipython3",
   "version": "3.6.7"
  }
 },
 "nbformat": 4,
 "nbformat_minor": 1
}
